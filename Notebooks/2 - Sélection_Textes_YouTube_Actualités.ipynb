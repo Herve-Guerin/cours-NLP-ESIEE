{
  "nbformat": 4,
  "nbformat_minor": 0,
  "metadata": {
    "kernelspec": {
      "display_name": "Python 3",
      "language": "python",
      "name": "python3"
    },
    "language_info": {
      "codemirror_mode": {
        "name": "ipython",
        "version": 3
      },
      "file_extension": ".py",
      "mimetype": "text/x-python",
      "name": "python",
      "nbconvert_exporter": "python",
      "pygments_lexer": "ipython3",
      "version": "3.7.1"
    },
    "colab": {
      "name": "Sélection Textes YouTube Actualités.ipynb",
      "provenance": [],
      "collapsed_sections": [
        "BXNcVmGlKBUi",
        "Y7MIZ2m5KBUp",
        "m5TIcKJwKBUp",
        "N3Pm0HArKBUq",
        "Kn9-mEP6KBU1",
        "UrbpEaIlKBU2"
      ]
    }
  },
  "cells": [
    {
      "cell_type": "markdown",
      "metadata": {
        "id": "m8-cgnGhKBUU"
      },
      "source": [
        "## Sélection des vidéos d'intérêt (pour analyse ultérieure)\n",
        "#### Sélection sur mots ou séquences clés\n",
        "#### Sélection sur similarité avec un texte de référence (basée sur comptages simples ou tfidf)"
      ]
    },
    {
      "cell_type": "markdown",
      "metadata": {
        "id": "YgR5JdLPKKZ1"
      },
      "source": [
        "##### Installation librairies et modules tiers"
      ]
    },
    {
      "cell_type": "code",
      "metadata": {
        "id": "7fuvt_l5KSJK"
      },
      "source": [
        "# Installations librairies tiers ici inutiles\n",
        "#!pip install spacy-langdetect\n",
        "#!pip install spacy-lefff\n",
        "#!pip install pyldavis\n",
        "#!pip install swifter"
      ],
      "execution_count": null,
      "outputs": []
    },
    {
      "cell_type": "code",
      "metadata": {
        "id": "SDy0xadKKcYc",
        "colab": {
          "base_uri": "https://localhost:8080/"
        },
        "outputId": "9afdc55b-700d-474f-be9a-ff4b2df460b2"
      },
      "source": [
        "# mais le modèle moyen français de Spacy l'est, car il faut calculer les lemmes du texte de référence\n",
        "!pip install https://github.com/explosion/spacy-models/releases/download/fr_core_news_md-2.3.0/fr_core_news_md-2.3.0.tar.gz\n",
        "!pip install fr_core_news_md"
      ],
      "execution_count": null,
      "outputs": [
        {
          "output_type": "stream",
          "text": [
            "Collecting https://github.com/explosion/spacy-models/releases/download/fr_core_news_md-2.3.0/fr_core_news_md-2.3.0.tar.gz\n",
            "\u001b[?25l  Downloading https://github.com/explosion/spacy-models/releases/download/fr_core_news_md-2.3.0/fr_core_news_md-2.3.0.tar.gz (46.1MB)\n",
            "\u001b[K     |████████████████████████████████| 46.1MB 98kB/s \n",
            "\u001b[?25hCollecting spacy<2.4.0,>=2.3.0\n",
            "\u001b[?25l  Downloading https://files.pythonhosted.org/packages/e5/bf/ca7bb25edd21f1cf9d498d0023808279672a664a70585e1962617ca2740c/spacy-2.3.5-cp36-cp36m-manylinux2014_x86_64.whl (10.4MB)\n",
            "\u001b[K     |████████████████████████████████| 10.4MB 3.6MB/s \n",
            "\u001b[?25hCollecting thinc<7.5.0,>=7.4.1\n",
            "\u001b[?25l  Downloading https://files.pythonhosted.org/packages/c0/1a/c3e4ab982214c63d743fad57c45c5e68ee49e4ea4384d27b28595a26ad26/thinc-7.4.5-cp36-cp36m-manylinux2014_x86_64.whl (1.1MB)\n",
            "\u001b[K     |████████████████████████████████| 1.1MB 50.9MB/s \n",
            "\u001b[?25hRequirement already satisfied: numpy>=1.15.0 in /usr/local/lib/python3.6/dist-packages (from spacy<2.4.0,>=2.3.0->fr-core-news-md==2.3.0) (1.18.5)\n",
            "Requirement already satisfied: wasabi<1.1.0,>=0.4.0 in /usr/local/lib/python3.6/dist-packages (from spacy<2.4.0,>=2.3.0->fr-core-news-md==2.3.0) (0.8.0)\n",
            "Requirement already satisfied: murmurhash<1.1.0,>=0.28.0 in /usr/local/lib/python3.6/dist-packages (from spacy<2.4.0,>=2.3.0->fr-core-news-md==2.3.0) (1.0.5)\n",
            "Requirement already satisfied: setuptools in /usr/local/lib/python3.6/dist-packages (from spacy<2.4.0,>=2.3.0->fr-core-news-md==2.3.0) (50.3.2)\n",
            "Requirement already satisfied: plac<1.2.0,>=0.9.6 in /usr/local/lib/python3.6/dist-packages (from spacy<2.4.0,>=2.3.0->fr-core-news-md==2.3.0) (1.1.3)\n",
            "Requirement already satisfied: preshed<3.1.0,>=3.0.2 in /usr/local/lib/python3.6/dist-packages (from spacy<2.4.0,>=2.3.0->fr-core-news-md==2.3.0) (3.0.5)\n",
            "Requirement already satisfied: blis<0.8.0,>=0.4.0 in /usr/local/lib/python3.6/dist-packages (from spacy<2.4.0,>=2.3.0->fr-core-news-md==2.3.0) (0.4.1)\n",
            "Requirement already satisfied: catalogue<1.1.0,>=0.0.7 in /usr/local/lib/python3.6/dist-packages (from spacy<2.4.0,>=2.3.0->fr-core-news-md==2.3.0) (1.0.0)\n",
            "Requirement already satisfied: tqdm<5.0.0,>=4.38.0 in /usr/local/lib/python3.6/dist-packages (from spacy<2.4.0,>=2.3.0->fr-core-news-md==2.3.0) (4.41.1)\n",
            "Requirement already satisfied: requests<3.0.0,>=2.13.0 in /usr/local/lib/python3.6/dist-packages (from spacy<2.4.0,>=2.3.0->fr-core-news-md==2.3.0) (2.23.0)\n",
            "Requirement already satisfied: srsly<1.1.0,>=1.0.2 in /usr/local/lib/python3.6/dist-packages (from spacy<2.4.0,>=2.3.0->fr-core-news-md==2.3.0) (1.0.5)\n",
            "Requirement already satisfied: cymem<2.1.0,>=2.0.2 in /usr/local/lib/python3.6/dist-packages (from spacy<2.4.0,>=2.3.0->fr-core-news-md==2.3.0) (2.0.5)\n",
            "Requirement already satisfied: importlib-metadata>=0.20; python_version < \"3.8\" in /usr/local/lib/python3.6/dist-packages (from catalogue<1.1.0,>=0.0.7->spacy<2.4.0,>=2.3.0->fr-core-news-md==2.3.0) (3.1.1)\n",
            "Requirement already satisfied: urllib3!=1.25.0,!=1.25.1,<1.26,>=1.21.1 in /usr/local/lib/python3.6/dist-packages (from requests<3.0.0,>=2.13.0->spacy<2.4.0,>=2.3.0->fr-core-news-md==2.3.0) (1.24.3)\n",
            "Requirement already satisfied: certifi>=2017.4.17 in /usr/local/lib/python3.6/dist-packages (from requests<3.0.0,>=2.13.0->spacy<2.4.0,>=2.3.0->fr-core-news-md==2.3.0) (2020.12.5)\n",
            "Requirement already satisfied: chardet<4,>=3.0.2 in /usr/local/lib/python3.6/dist-packages (from requests<3.0.0,>=2.13.0->spacy<2.4.0,>=2.3.0->fr-core-news-md==2.3.0) (3.0.4)\n",
            "Requirement already satisfied: idna<3,>=2.5 in /usr/local/lib/python3.6/dist-packages (from requests<3.0.0,>=2.13.0->spacy<2.4.0,>=2.3.0->fr-core-news-md==2.3.0) (2.10)\n",
            "Requirement already satisfied: zipp>=0.5 in /usr/local/lib/python3.6/dist-packages (from importlib-metadata>=0.20; python_version < \"3.8\"->catalogue<1.1.0,>=0.0.7->spacy<2.4.0,>=2.3.0->fr-core-news-md==2.3.0) (3.4.0)\n",
            "Building wheels for collected packages: fr-core-news-md\n",
            "  Building wheel for fr-core-news-md (setup.py) ... \u001b[?25l\u001b[?25hdone\n",
            "  Created wheel for fr-core-news-md: filename=fr_core_news_md-2.3.0-cp36-none-any.whl size=46100671 sha256=35301c50815d741000d4f47b33929a63c133d02a9a1808bf605f450d9c4ebcf7\n",
            "  Stored in directory: /root/.cache/pip/wheels/5b/dc/d5/f9cf6ba6cb8094a22f0aefab2cb654547c5584ce08077cbdbb\n",
            "Successfully built fr-core-news-md\n",
            "Installing collected packages: thinc, spacy, fr-core-news-md\n",
            "  Found existing installation: thinc 7.4.0\n",
            "    Uninstalling thinc-7.4.0:\n",
            "      Successfully uninstalled thinc-7.4.0\n",
            "  Found existing installation: spacy 2.2.4\n",
            "    Uninstalling spacy-2.2.4:\n",
            "      Successfully uninstalled spacy-2.2.4\n",
            "Successfully installed fr-core-news-md-2.3.0 spacy-2.3.5 thinc-7.4.5\n",
            "Requirement already satisfied: fr_core_news_md in /usr/local/lib/python3.6/dist-packages (2.3.0)\n",
            "Requirement already satisfied: spacy<2.4.0,>=2.3.0 in /usr/local/lib/python3.6/dist-packages (from fr_core_news_md) (2.3.5)\n",
            "Requirement already satisfied: thinc<7.5.0,>=7.4.1 in /usr/local/lib/python3.6/dist-packages (from spacy<2.4.0,>=2.3.0->fr_core_news_md) (7.4.5)\n",
            "Requirement already satisfied: blis<0.8.0,>=0.4.0 in /usr/local/lib/python3.6/dist-packages (from spacy<2.4.0,>=2.3.0->fr_core_news_md) (0.4.1)\n",
            "Requirement already satisfied: numpy>=1.15.0 in /usr/local/lib/python3.6/dist-packages (from spacy<2.4.0,>=2.3.0->fr_core_news_md) (1.18.5)\n",
            "Requirement already satisfied: srsly<1.1.0,>=1.0.2 in /usr/local/lib/python3.6/dist-packages (from spacy<2.4.0,>=2.3.0->fr_core_news_md) (1.0.5)\n",
            "Requirement already satisfied: wasabi<1.1.0,>=0.4.0 in /usr/local/lib/python3.6/dist-packages (from spacy<2.4.0,>=2.3.0->fr_core_news_md) (0.8.0)\n",
            "Requirement already satisfied: plac<1.2.0,>=0.9.6 in /usr/local/lib/python3.6/dist-packages (from spacy<2.4.0,>=2.3.0->fr_core_news_md) (1.1.3)\n",
            "Requirement already satisfied: setuptools in /usr/local/lib/python3.6/dist-packages (from spacy<2.4.0,>=2.3.0->fr_core_news_md) (50.3.2)\n",
            "Requirement already satisfied: preshed<3.1.0,>=3.0.2 in /usr/local/lib/python3.6/dist-packages (from spacy<2.4.0,>=2.3.0->fr_core_news_md) (3.0.5)\n",
            "Requirement already satisfied: cymem<2.1.0,>=2.0.2 in /usr/local/lib/python3.6/dist-packages (from spacy<2.4.0,>=2.3.0->fr_core_news_md) (2.0.5)\n",
            "Requirement already satisfied: catalogue<1.1.0,>=0.0.7 in /usr/local/lib/python3.6/dist-packages (from spacy<2.4.0,>=2.3.0->fr_core_news_md) (1.0.0)\n",
            "Requirement already satisfied: requests<3.0.0,>=2.13.0 in /usr/local/lib/python3.6/dist-packages (from spacy<2.4.0,>=2.3.0->fr_core_news_md) (2.23.0)\n",
            "Requirement already satisfied: tqdm<5.0.0,>=4.38.0 in /usr/local/lib/python3.6/dist-packages (from spacy<2.4.0,>=2.3.0->fr_core_news_md) (4.41.1)\n",
            "Requirement already satisfied: murmurhash<1.1.0,>=0.28.0 in /usr/local/lib/python3.6/dist-packages (from spacy<2.4.0,>=2.3.0->fr_core_news_md) (1.0.5)\n",
            "Requirement already satisfied: importlib-metadata>=0.20; python_version < \"3.8\" in /usr/local/lib/python3.6/dist-packages (from catalogue<1.1.0,>=0.0.7->spacy<2.4.0,>=2.3.0->fr_core_news_md) (3.1.1)\n",
            "Requirement already satisfied: urllib3!=1.25.0,!=1.25.1,<1.26,>=1.21.1 in /usr/local/lib/python3.6/dist-packages (from requests<3.0.0,>=2.13.0->spacy<2.4.0,>=2.3.0->fr_core_news_md) (1.24.3)\n",
            "Requirement already satisfied: chardet<4,>=3.0.2 in /usr/local/lib/python3.6/dist-packages (from requests<3.0.0,>=2.13.0->spacy<2.4.0,>=2.3.0->fr_core_news_md) (3.0.4)\n",
            "Requirement already satisfied: idna<3,>=2.5 in /usr/local/lib/python3.6/dist-packages (from requests<3.0.0,>=2.13.0->spacy<2.4.0,>=2.3.0->fr_core_news_md) (2.10)\n",
            "Requirement already satisfied: certifi>=2017.4.17 in /usr/local/lib/python3.6/dist-packages (from requests<3.0.0,>=2.13.0->spacy<2.4.0,>=2.3.0->fr_core_news_md) (2020.12.5)\n",
            "Requirement already satisfied: zipp>=0.5 in /usr/local/lib/python3.6/dist-packages (from importlib-metadata>=0.20; python_version < \"3.8\"->catalogue<1.1.0,>=0.0.7->spacy<2.4.0,>=2.3.0->fr_core_news_md) (3.4.0)\n"
          ],
          "name": "stdout"
        }
      ]
    },
    {
      "cell_type": "markdown",
      "metadata": {
        "id": "Cbhu1mmI963c"
      },
      "source": [
        "## Ensuite, REDEMARRER L'ENVIRONNEMENT D'EXECUTION"
      ]
    },
    {
      "cell_type": "markdown",
      "metadata": {
        "id": "be7QHqklKBUa"
      },
      "source": [
        "### Librairies, variables globales...¶"
      ]
    },
    {
      "cell_type": "code",
      "metadata": {
        "id": "ax4F-NX_KBUb"
      },
      "source": [
        "# 1.a\n",
        "# librairies générales (on ne se servira pas forcément de toutes)\n",
        "import os\n",
        "import csv\n",
        "import re\n",
        "import math\n",
        "#import pickle\n",
        "import datetime as dt\n",
        "from ast import literal_eval"
      ],
      "execution_count": null,
      "outputs": []
    },
    {
      "cell_type": "code",
      "metadata": {
        "id": "9zqSw2esKBUc"
      },
      "source": [
        "# 1.b\n",
        "# librairies générales data science\n",
        "import numpy as np\n",
        "import pandas as pd\n",
        "# import swifter\n",
        "# stats\n",
        "from scipy.stats import pearsonr\n",
        "from scipy.stats import spearmanr\n",
        "from scipy.stats import kendalltau"
      ],
      "execution_count": null,
      "outputs": []
    },
    {
      "cell_type": "code",
      "metadata": {
        "id": "o3yFnwiaKBUc"
      },
      "source": [
        "# 1.c\n",
        "# pour affichage dtypes pandas quand plus de 60 colonnes\n",
        "pd.set_option('display.max_rows', 120)"
      ],
      "execution_count": null,
      "outputs": []
    },
    {
      "cell_type": "code",
      "metadata": {
        "id": "4Hs7XqjRKBUd"
      },
      "source": [
        "# 1.d\n",
        "# la librairie graphique la plus simple d'utilisation\n",
        "import plotly.express as px\n",
        "import plotly.graph_objects as go"
      ],
      "execution_count": null,
      "outputs": []
    },
    {
      "cell_type": "markdown",
      "metadata": {
        "id": "asXp4l_7KBUd"
      },
      "source": [
        "#### librairies text-mining / NLP"
      ]
    },
    {
      "cell_type": "code",
      "metadata": {
        "id": "OkbtQBiuKBUd"
      },
      "source": [
        "# 1.e\n",
        "import spacy\n",
        "nlp = spacy.load(\"fr_core_news_md\")\n",
        "# on ajoute à la pipeline standard de spacy le détecteur de langue\n",
        "# from spacy_langdetect import LanguageDetector\n",
        "# nlp.add_pipe(LanguageDetector(), name='language_detector', last=True)"
      ],
      "execution_count": null,
      "outputs": []
    },
    {
      "cell_type": "code",
      "metadata": {
        "id": "xwzvCYw2KBUd"
      },
      "source": [
        "# 1.f\n",
        "import gensim\n",
        "from gensim import corpora"
      ],
      "execution_count": null,
      "outputs": []
    },
    {
      "cell_type": "code",
      "metadata": {
        "id": "5o2PxtIrLe-w"
      },
      "source": [
        "# 1.h imports spécifiques à google colab\n",
        "from google.colab import files, drive"
      ],
      "execution_count": null,
      "outputs": []
    },
    {
      "cell_type": "markdown",
      "metadata": {
        "id": "7Ba-ZX4FKBUf"
      },
      "source": [
        "#### Autres fichiers"
      ]
    },
    {
      "cell_type": "code",
      "metadata": {
        "id": "jL1stRbnKBUf"
      },
      "source": [
        "# 1.i\n",
        "SELECTION_MOTS_COURANTS = \"sélection_mots_courants.txt\""
      ],
      "execution_count": null,
      "outputs": []
    },
    {
      "cell_type": "markdown",
      "metadata": {
        "id": "Oymd5e8lKBUf"
      },
      "source": [
        "### Lecture du fichier de 1300 vidéos prétraitées\n",
        "##### Prétraitées : on a effectué au préalable l'analyse nlp de Spacy sur les sous_titres et renseigné :\n",
        "\n",
        "###### 'langue' langue de la vidéo tel que détecté par spacy (on garde 'fr')\n",
        "###### 'tkn_sous_titres' listes de token avec un tuple par token, contenant en : \n",
        "0 : texte, 1 : index dans doc, 2 : position dans doc, 3 : lemme, 4 : pos, 5 : index dans doc de la tête, 6 : est un mot stop, 7 : type entité nommée (si existe)\n",
        "###### 'ent_sous_titres' liste d'entités nommées avec un tuple par entité nommée, contenant en :\n",
        "0 : texte, 1 : position du début dans doc, 2 : position fin, 3 : type entité nommée"
      ]
    },
    {
      "cell_type": "code",
      "metadata": {
        "colab": {
          "base_uri": "https://localhost:8080/"
        },
        "id": "5TebvnvZSB9x",
        "outputId": "861e9565-0711-4dd2-c3df-d6f530fa11af"
      },
      "source": [
        "# 2.a passage obligé pour récupérer un fichier sur le drive\n",
        "# il va falloir choisir le drive (account Google) puis renseigner un mot de passe généré\n",
        "drive.mount('/content/drive')"
      ],
      "execution_count": null,
      "outputs": [
        {
          "output_type": "stream",
          "text": [
            "Mounted at /content/drive\n"
          ],
          "name": "stdout"
        }
      ]
    },
    {
      "cell_type": "code",
      "metadata": {
        "id": "-PhZniRUKBUg"
      },
      "source": [
        "# 2.b\n",
        "chemin_nom_dataframe = \"/content/drive/My Drive/Datasets NLP/COVID 19/videos_covid_nlp.csv\"\n",
        "df_videos = pd.read_csv(chemin_nom_dataframe, sep=',', encoding='utf-8')"
      ],
      "execution_count": null,
      "outputs": []
    },
    {
      "cell_type": "code",
      "metadata": {
        "id": "mDCn29w9SzSK"
      },
      "source": [
        "# 2.c\n",
        "# étape de retransformation des chaînes analyse de résultats sauvegardés en liste de tuples\n",
        "df_videos['tkn_sous_titres'] = df_videos['tkn_sous_titres'].map(lambda x: literal_eval(str(x)))\n",
        "df_videos['ent_sous_titres'] = df_videos['ent_sous_titres'].map(lambda x: literal_eval(str(x)))"
      ],
      "execution_count": null,
      "outputs": []
    },
    {
      "cell_type": "code",
      "metadata": {
        "colab": {
          "base_uri": "https://localhost:8080/"
        },
        "id": "Q1NIw0UtKBUg",
        "outputId": "2f6a9a60-08a4-48f3-e523-a74f8aff4f47"
      },
      "source": [
        "# 2.d\n",
        "# nombre de vidéos, liste des colonnes (champs) et leurs types\n",
        "nb_videos = len(df_videos)\n",
        "print(nb_videos)\n",
        "df_videos.dtypes"
      ],
      "execution_count": null,
      "outputs": [
        {
          "output_type": "stream",
          "text": [
            "1342\n"
          ],
          "name": "stdout"
        },
        {
          "output_type": "execute_result",
          "data": {
            "text/plain": [
              "video_id               object\n",
              "channel_id             object\n",
              "titre                  object\n",
              "description            object\n",
              "date_publication       object\n",
              "durée                  object\n",
              "catégorie_YT          float64\n",
              "tags                   object\n",
              "nb_vues               float64\n",
              "nom_chaîne             object\n",
              "sous_titres            object\n",
              "nb_mots               float64\n",
              "mode_création          object\n",
              "nb_vues_chaîne          int64\n",
              "catégorie_SP           object\n",
              "langue_sous_titres     object\n",
              "tkn_sous_titres        object\n",
              "ent_sous_titres        object\n",
              "dtype: object"
            ]
          },
          "metadata": {
            "tags": []
          },
          "execution_count": 12
        }
      ]
    },
    {
      "cell_type": "code",
      "metadata": {
        "colab": {
          "base_uri": "https://localhost:8080/"
        },
        "id": "D3WShvKxKBUh",
        "outputId": "1864a461-c93d-4579-f32d-54039bce5775"
      },
      "source": [
        "print(df_videos.iloc[0]['tkn_sous_titres'])"
      ],
      "execution_count": null,
      "outputs": [
        {
          "output_type": "stream",
          "text": [
            "[('Dans', 0, 0, 'dans', 'ADP', 2, True, 0), ('le', 1, 5, 'le', 'DET', 2, True, 0), ('monde', 2, 8, 'monde', 'NOUN', 8, False, 0), ('du', 3, 14, 'de', 'DET', 4, True, 0), ('pétrole', 4, 17, 'pétrole', 'NOUN', 2, False, 0), ('c’', 5, 25, 'c’', 'PRON', 8, True, 0), ('est', 6, 27, 'être', 'AUX', 8, True, 0), ('un', 7, 31, 'un', 'DET', 8, True, 0), ('événement', 8, 34, 'événement', 'NOUN', 8, False, 0), ('\\xa0', 9, 43, '  ', 'SPACE', 8, False, 0), (':', 10, 44, ':', 'PUNCT', 8, False, 0), ('en', 11, 46, 'en', 'ADP', 12, True, 0), ('juin', 12, 49, 'juin', 'NOUN', 8, False, 0), ('2020', 13, 54, '2020', 'NUM', 12, False, 0), ('la', 14, 59, 'le', 'DET', 15, True, 0), ('compagnie', 15, 62, 'compagnie', 'NOUN', 18, False, 0), ('BP', 16, 72, 'BP', 'PROPN', 15, False, 383), ('a', 17, 75, 'avoir', 'AUX', 18, True, 0), ('annoncé', 18, 77, 'annoncer', 'VERB', 8, False, 0), ('10', 19, 85, '10', 'DET', 20, False, 0), ('000', 20, 88, '000', 'DET', 21, False, 0), ('suppressions', 21, 92, 'suppression', 'NOUN', 18, False, 0), ('d’', 22, 105, 'd’', 'ADP', 23, True, 0), ('emplois', 23, 107, 'emploi', 'NOUN', 21, False, 0), ('et', 24, 115, 'et', 'CCONJ', 26, True, 0), ('entre', 25, 118, 'entre', 'ADP', 26, True, 0), ('13', 26, 124, '13', 'NUM', 23, False, 0), ('et', 27, 127, 'et', 'CCONJ', 29, True, 0), ('175', 28, 130, '175', 'NUM', 29, False, 0), ('milliards', 29, 134, 'milliard', 'NOUN', 21, False, 0), ('de', 30, 144, 'de', 'ADP', 31, True, 0), ('dollars', 31, 147, 'dollar', 'NOUN', 29, False, 0), ('de', 32, 155, 'de', 'ADP', 33, True, 0), ('dépréciation', 33, 158, 'dépréciation', 'NOUN', 29, False, 0), ('dans', 34, 171, 'dans', 'ADP', 36, True, 0), ('ses', 35, 176, 'son', 'DET', 36, True, 0), ('actifs', 36, 180, 'actif', 'NOUN', 21, False, 0), ('.', 37, 186, '.', 'PUNCT', 8, False, 0), ('Une', 38, 188, 'un', 'DET', 39, True, 0), ('conséquence', 39, 192, 'conséquence', 'NOUN', 39, False, 0), ('du', 40, 204, 'de', 'DET', 41, True, 0), ('coronavirus', 41, 207, 'coronavirus', 'NOUN', 39, False, 0), ('qui', 42, 219, 'qui', 'PRON', 44, True, 0), ('a', 43, 223, 'avoir', 'AUX', 44, True, 0), ('porté', 44, 225, 'porter', 'VERB', 41, False, 0), ('un', 45, 231, 'un', 'DET', 46, True, 0), ('coup', 46, 234, 'coup', 'NOUN', 44, False, 0), ('d’', 47, 239, 'd’', 'ADP', 48, True, 0), ('arrêt', 48, 241, 'arrêt', 'NOUN', 46, False, 0), ('à', 49, 247, 'à', 'ADP', 51, True, 0), ('l’', 50, 249, 'l’', 'DET', 51, True, 0), ('économie', 51, 251, 'économie', 'NOUN', 46, False, 0), ('mondiale', 52, 260, 'mondial', 'ADJ', 51, False, 0), ('et', 53, 269, 'et', 'CCONJ', 57, True, 0), ('donc', 54, 272, 'donc', 'ADV', 57, True, 0), ('à', 55, 277, 'à', 'ADP', 57, True, 0), ('la', 56, 279, 'le', 'DET', 57, True, 0), ('demande', 57, 282, 'demande', 'NOUN', 39, False, 0), ('de', 58, 290, 'de', 'ADP', 59, True, 0), ('pétrole', 59, 293, 'pétrole', 'NOUN', 57, False, 0), ('mais', 60, 301, 'mais', 'CCONJ', 64, True, 0), ('aussi', 61, 306, 'aussi', 'ADV', 64, True, 0), ('de', 62, 312, 'de', 'DET', 64, True, 0), ('nouvelles', 63, 315, 'nouveau', 'ADJ', 64, False, 0), ('perspectives', 64, 325, 'perspective', 'NOUN', 57, False, 0), ('moins', 65, 338, 'moins', 'ADV', 66, True, 0), ('favorables', 66, 344, 'favorable', 'ADJ', 64, False, 0), ('que', 67, 355, 'que', 'PRON', 68, True, 0), ('prévu', 68, 359, 'prévoir', 'VERB', 66, False, 0), ('.', 69, 364, '.', 'PUNCT', 39, False, 0), ('De', 70, 366, 'de', 'ADP', 71, True, 0), ('quoi', 71, 369, 'quoi', 'PRON', 73, True, 0), (\"s'\", 72, 374, 'se', 'PRON', 73, True, 0), ('interroger', 73, 376, 'interroger', 'VERB', 73, False, 0), (':', 74, 387, ':', 'PUNCT', 77, False, 0), ('Le', 75, 389, 'le', 'DET', 76, True, 0), ('coronavirus', 76, 392, 'coronavirus', 'NOUN', 77, False, 0), ('sonne', 77, 404, 'sonne', 'VERB', 73, False, 0), ('-t', 78, 409, '-t', 'PART', 79, False, 0), ('-il', 79, 411, 'il', 'PRON', 77, False, 0), ('la', 80, 415, 'le', 'DET', 81, True, 0), ('fin', 81, 418, 'fin', 'NOUN', 73, False, 0), ('du', 82, 422, 'de', 'DET', 83, True, 0), ('pétrole', 83, 425, 'pétrole', 'NOUN', 81, False, 0), ('cher', 84, 433, 'cher', 'ADJ', 83, True, 0), ('?', 85, 438, '?', 'PUNCT', 73, False, 0), ('BP', 86, 440, 'BP', 'PROPN', 89, False, 383), ('est', 87, 443, 'être', 'AUX', 89, True, 0), ('l’', 88, 447, 'l’', 'DET', 89, True, 0), ('une', 89, 449, 'un', 'PRON', 89, True, 0), ('des', 90, 453, 'de', 'ADP', 93, True, 0), ('plus', 91, 457, 'plus', 'ADV', 92, True, 0), ('grandes', 92, 462, 'grand', 'ADJ', 93, False, 0), ('compagnies', 93, 470, 'compagnie', 'NOUN', 89, False, 0), ('pétrolières', 94, 481, 'pétrolier', 'ADJ', 93, False, 0), ('au', 95, 493, 'au', 'DET', 96, True, 0), ('monde', 96, 496, 'monde', 'NOUN', 93, False, 0), ('.', 97, 501, '.', 'PUNCT', 89, False, 0), ('Et', 98, 503, 'et', 'CCONJ', 107, True, 0), ('lorsqu’', 99, 506, 'lorsqu’', 'SCONJ', 101, False, 0), ('elle', 100, 513, 'lui', 'PRON', 101, True, 0), ('annonce', 101, 518, 'annoncer', 'VERB', 107, False, 0), ('des', 102, 526, 'un', 'DET', 103, True, 0), ('mesures', 103, 530, 'mesure', 'NOUN', 101, False, 0), ('aussi', 104, 538, 'aussi', 'ADV', 105, True, 0), ('drastiques', 105, 544, 'drastique', 'ADJ', 103, False, 0), ('il', 106, 555, 'il', 'PRON', 107, True, 0), ('faut', 107, 558, 'falloir', 'VERB', 107, False, 0), ('lire', 108, 563, 'lire', 'VERB', 107, False, 0), ('entre', 109, 568, 'entre', 'ADP', 111, True, 0), ('les', 110, 574, 'le', 'DET', 111, True, 0), ('lignes', 111, 578, 'ligne', 'NOUN', 108, False, 0), ('.', 112, 584, '.', 'PUNCT', 107, False, 0), ('Dans', 113, 586, 'dans', 'ADP', 115, True, 0), ('son', 114, 591, 'son', 'DET', 115, True, 0), ('communiqué', 115, 595, 'communiqué', 'NOUN', 117, False, 0), ('elle', 116, 606, 'lui', 'PRON', 117, True, 0), ('annonce', 117, 611, 'annoncer', 'VERB', 117, False, 0), ('\\xa0', 118, 618, '  ', 'SPACE', 117, False, 0), ('que', 119, 619, 'que', 'SCONJ', 123, True, 0), (':', 120, 623, ':', 'PUNCT', 123, False, 0), ('«', 121, 625, '«', 'PUNCT', 123, False, 0), ('BP', 122, 627, 'BP', 'PROPN', 123, False, 383), ('prévoit', 123, 630, 'prévoir', 'VERB', 117, False, 0), ('désormais', 124, 638, 'désormais', 'ADV', 123, True, 0), ('que', 125, 648, 'que', 'SCONJ', 128, True, 0), ('la', 126, 652, 'le', 'DET', 127, True, 0), ('pandémie', 127, 655, 'pandémie', 'NOUN', 128, False, 0), ('pourrait', 128, 664, 'pouvoir', 'VERB', 123, True, 0), ('avoir', 129, 673, 'avoir', 'VERB', 128, True, 0), ('un', 130, 679, 'un', 'DET', 131, True, 0), ('impact', 131, 682, 'impact', 'NOUN', 129, False, 0), ('durable', 132, 689, 'durable', 'ADJ', 131, False, 0), ('sur', 133, 697, 'sur', 'ADP', 135, True, 0), (\"l'\", 134, 701, 'le', 'DET', 135, True, 0), ('économie', 135, 703, 'économie', 'NOUN', 131, False, 0), ('mondiale', 136, 712, 'mondial', 'ADJ', 135, False, 0), ('avec', 137, 721, 'avec', 'ADP', 139, True, 0), ('une', 138, 726, 'un', 'DET', 139, True, 0), ('demande', 139, 730, 'demande', 'NOUN', 128, False, 0), ('en', 140, 738, 'en', 'ADP', 141, True, 0), ('énergie', 141, 741, 'énergie', 'NOUN', 139, False, 0), ('potentiellement', 142, 749, 'potentiellement', 'ADV', 143, False, 0), ('plus', 143, 765, 'plus', 'ADV', 144, True, 0), ('faible', 144, 770, 'faible', 'ADJ', 139, False, 0), ('sur', 145, 777, 'sur', 'ADP', 147, True, 0), ('une', 146, 781, 'un', 'DET', 147, True, 0), ('période', 147, 785, 'période', 'NOUN', 144, False, 0), ('prolongée', 148, 793, 'prolonger', 'VERB', 147, False, 0), ('.', 149, 802, '.', 'PUNCT', 117, False, 0), ('»', 150, 804, '»', 'PUNCT', 150, False, 0), ('A', 151, 806, 'à', 'ADP', 151, True, 0), ('deux', 152, 808, 'deux', 'NUM', 153, True, 0), ('reprises', 153, 813, 'reprise', 'NOUN', 151, False, 0), ('BP', 154, 822, 'BP', 'PROPN', 155, False, 383), ('parle', 155, 825, 'parle', 'VERB', 155, True, 0), ('d’', 156, 831, 'd’', 'ADP', 158, True, 0), ('un', 157, 833, 'un', 'DET', 158, True, 0), ('changement', 158, 836, 'changement', 'NOUN', 155, False, 0), ('à', 159, 847, 'à', 'ADP', 162, True, 0), ('plus', 160, 849, 'plus', 'ADV', 161, True, 0), ('long', 161, 854, 'long', 'ADJ', 162, False, 0), ('terme', 162, 859, 'terme', 'NOUN', 158, False, 0), ('.', 163, 864, '.', 'PUNCT', 155, False, 0), ('Et', 164, 866, 'et', 'CCONJ', 171, True, 0), ('ce', 165, 869, 'ce', 'DET', 167, True, 0), ('premier', 166, 872, 'premier', 'ADJ', 167, True, 0), ('changement', 167, 880, 'changement', 'NOUN', 171, False, 0), ('c’', 168, 891, 'c’', 'PRON', 171, True, 0), ('est', 169, 893, 'être', 'AUX', 171, True, 0), ('le', 170, 897, 'le', 'DET', 171, True, 0), ('prix', 171, 900, 'prix', 'NOUN', 171, False, 0), ('.', 172, 904, '.', 'PUNCT', 171, False, 0), ('Selon', 173, 906, 'selon', 'ADP', 175, True, 0), ('la', 174, 912, 'le', 'DET', 175, True, 0), ('multinationale', 175, 915, 'multinationale', 'NOUN', 190, False, 0), ('le', 176, 930, 'le', 'DET', 177, True, 0), ('cours', 177, 933, 'cours', 'NOUN', 175, False, 0), ('moyen', 178, 939, 'moyen', 'ADJ', 177, False, 0), ('du', 179, 945, 'de', 'DET', 180, True, 0), ('baril', 180, 948, 'baril', 'NOUN', 177, False, 0), ('de', 181, 954, 'de', 'ADP', 182, True, 0), ('pétrole', 182, 957, 'pétrole', 'NOUN', 180, False, 0), ('c’', 183, 965, 'c’', 'PRON', 177, True, 0), ('est', 184, 967, 'est', 'ADV', 185, True, 0), ('-', 185, 970, '-', 'ADV', 186, False, 0), ('à', 186, 971, 'à', 'ADV', 187, True, 0), ('-', 187, 972, '-', 'ADV', 188, False, 0), ('dire', 188, 973, 'dire', 'VERB', 190, True, 0), ('le', 189, 978, 'le', 'PRON', 190, True, 0), ('brent', 190, 981, 'brer', 'VERB', 190, False, 0), ('qui', 191, 987, 'qui', 'PRON', 192, True, 0), ('sert', 192, 991, 'servir', 'VERB', 190, False, 0), ('de', 193, 996, 'de', 'ADP', 194, True, 0), ('référence', 194, 999, 'référence', 'NOUN', 192, False, 0), ('devrait', 195, 1009, 'devoir', 'VERB', 190, False, 0), ('chuter', 196, 1017, 'chuter', 'VERB', 195, False, 0), ('dans', 197, 1024, 'dans', 'ADP', 200, True, 0), ('les', 198, 1029, 'le', 'DET', 200, True, 0), ('prochaines', 199, 1033, 'prochain', 'ADJ', 200, False, 0), ('années', 200, 1044, 'année', 'NOUN', 196, False, 0), ('pour', 201, 1051, 'pour', 'ADP', 203, True, 0), ('se', 202, 1056, 'se', 'PRON', 203, True, 0), ('fixer', 203, 1059, 'fixer', 'VERB', 196, False, 0), ('autour', 204, 1065, 'autour', 'ADV', 203, False, 0), ('des', 205, 1072, 'de', 'ADP', 207, True, 0), ('55', 206, 1076, '55', 'NUM', 207, False, 0), ('dollars', 207, 1079, 'dollar', 'NOUN', 203, False, 0), ('entre', 208, 1087, 'entre', 'ADP', 209, True, 0), ('2021', 209, 1093, '2021', 'NUM', 203, False, 0), ('et', 210, 1098, 'et', 'CCONJ', 211, True, 0), ('2050', 211, 1101, '2050', 'NUM', 209, False, 0), ('.', 212, 1105, '.', 'PUNCT', 190, False, 0), ('Soit', 213, 1107, 'soit', 'ADV', 213, True, 0), ('nettement', 214, 1112, 'nettement', 'ADV', 215, False, 0), ('moins', 215, 1122, 'moins', 'ADV', 213, True, 0), ('que', 216, 1128, 'que', 'SCONJ', 219, True, 0), ('les', 217, 1132, 'le', 'DET', 219, True, 0), ('70', 218, 1136, '70', 'NUM', 219, False, 0), ('dollars', 219, 1139, 'dollar', 'NOUN', 215, False, 0), ('anticipés', 220, 1147, 'anticiper', 'VERB', 219, False, 0), ('précédemment', 221, 1157, 'précédemment', 'ADV', 220, False, 0), ('.', 222, 1169, '.', 'PUNCT', 213, False, 0), ('Selon', 223, 1171, 'selon', 'ADP', 225, True, 0), ('cette', 224, 1177, 'ce', 'DET', 225, True, 0), ('prévision', 225, 1183, 'prévision', 'NOUN', 228, False, 0), ('le', 226, 1193, 'le', 'DET', 227, True, 0), ('pétrole', 227, 1196, 'pétrole', 'NOUN', 228, False, 0), ('devrait', 228, 1204, 'devoir', 'VERB', 228, False, 0), ('se', 229, 1212, 'se', 'PRON', 230, True, 0), ('vendre', 230, 1215, 'vendre', 'VERB', 228, False, 0), ('en', 231, 1222, 'en', 'ADP', 232, True, 0), ('moyenne', 232, 1225, 'moyenne', 'NOUN', 230, False, 0), ('moins', 233, 1233, 'moins', 'ADV', 234, True, 0), ('cher', 234, 1239, 'cher', 'ADJ', 230, True, 0), ('dans', 235, 1244, 'dans', 'ADP', 238, True, 0), ('les', 236, 1249, 'le', 'DET', 238, True, 0), ('prochaines', 237, 1253, 'prochain', 'ADJ', 238, False, 0), ('années', 238, 1264, 'année', 'NOUN', 230, False, 0), ('que', 239, 1271, 'que', 'SCONJ', 242, True, 0), ('par', 240, 1275, 'par', 'ADP', 242, True, 0), ('le', 241, 1279, 'le', 'DET', 242, True, 0), ('passé', 242, 1282, 'passé', 'NOUN', 230, True, 0), ('.', 243, 1287, '.', 'PUNCT', 228, False, 0), ('Et', 244, 1289, 'et', 'CCONJ', 246, True, 0), ('donc', 245, 1292, 'donc', 'ADV', 246, True, 0), ('générer', 246, 1297, 'générer', 'VERB', 246, False, 0), ('moins', 247, 1305, 'moins', 'ADV', 246, True, 0), ('de', 248, 1311, 'de', 'ADP', 249, True, 0), ('revenus', 249, 1314, 'revenu', 'NOUN', 247, False, 0), ('à', 250, 1322, 'à', 'ADP', 251, True, 0), ('production', 251, 1324, 'production', 'NOUN', 246, False, 0), ('égale', 252, 1335, 'égal', 'ADJ', 251, False, 0), ('.', 253, 1340, '.', 'PUNCT', 246, False, 0), ('Un', 254, 1342, 'un', 'DET', 255, True, 0), ('changement', 255, 1345, 'changement', 'NOUN', 255, False, 0), ('brutal', 256, 1356, 'brutal', 'ADJ', 255, False, 0), ('pour', 257, 1363, 'pour', 'ADP', 259, True, 0), ('les', 258, 1368, 'le', 'DET', 259, True, 0), ('majors', 259, 1372, 'major', 'NOUN', 255, False, 0), ('du', 260, 1379, 'de', 'DET', 261, True, 0), ('pétrole', 261, 1382, 'pétrole', 'NOUN', 259, False, 0), ('.', 262, 1389, '.', 'PUNCT', 255, False, 0), ('Si', 263, 1391, 'si', 'SCONJ', 267, True, 0), ('elles', 264, 1394, 'lui', 'PRON', 267, True, 0), ('étaient', 265, 1400, 'être', 'AUX', 267, True, 0), ('des', 266, 1408, 'un', 'DET', 267, True, 0), ('compagnies', 267, 1412, 'compagnie', 'NOUN', 267, False, 0), ('aériennes', 268, 1423, 'aérien', 'ADJ', 267, False, 0), ('ce', 269, 1433, 'ce', 'DET', 270, True, 0), ('serait', 270, 1436, 'être', 'VERB', 267, True, 0), ('comme', 271, 1443, 'comme', 'ADP', 273, True, 0), ('leur', 272, 1449, 'leur', 'PRON', 273, True, 0), ('demander', 273, 1454, 'demander', 'VERB', 270, False, 0), ('de', 274, 1463, 'de', 'ADP', 275, True, 0), ('passer', 275, 1466, 'passer', 'VERB', 273, False, 0), ('du', 276, 1473, 'de', 'DET', 277, True, 0), ('modèle', 277, 1476, 'modèle', 'NOUN', 275, False, 0), ('économique', 278, 1483, 'économique', 'ADJ', 277, False, 0), ('d’', 279, 1494, 'd’', 'ADP', 280, True, 0), ('Air', 280, 1496, 'air', 'NOUN', 277, False, 383), ('France', 281, 1500, 'France', 'PROPN', 280, False, 383), ('à', 282, 1507, 'à', 'ADP', 283, True, 0), ('celui', 283, 1509, 'celui', 'PRON', 275, True, 0), ('de', 284, 1515, 'de', 'ADP', 285, True, 0), ('Ryanair', 285, 1518, 'ryanair', 'NOUN', 283, False, 383), ('.', 286, 1525, '.', 'PUNCT', 267, False, 0), ('Un', 287, 1527, 'un', 'DET', 288, True, 0), ('scénario', 288, 1530, 'scénario', 'NOUN', 288, False, 0), ('qui', 289, 1539, 'qui', 'PRON', 290, True, 0), ('prévoit', 290, 1543, 'prévoir', 'VERB', 288, False, 0), ('non', 291, 1551, 'non', 'ADV', 294, True, 0), ('pas', 292, 1555, 'pas', 'ADV', 291, True, 0), ('la', 293, 1559, 'le', 'DET', 294, True, 0), ('fin', 294, 1562, 'fin', 'NOUN', 290, False, 0), ('du', 295, 1566, 'de', 'DET', 296, True, 0), ('pétrole', 296, 1569, 'pétrole', 'NOUN', 294, False, 0), ('en', 297, 1577, 'en', 'ADP', 294, True, 0), ('soit', 298, 1580, 'soit', 'CCONJ', 297, True, 0), ('mais', 299, 1585, 'mais', 'CCONJ', 301, True, 0), ('la', 300, 1590, 'le', 'DET', 301, True, 0), ('fin', 301, 1593, 'fin', 'NOUN', 294, False, 0), ('du', 302, 1597, 'de', 'DET', 303, True, 0), ('pétrole', 303, 1600, 'pétrole', 'NOUN', 301, False, 0), ('cher', 304, 1608, 'cher', 'ADJ', 303, True, 0), ('.', 305, 1612, '.', 'PUNCT', 288, False, 0), ('Et', 306, 1614, 'et', 'CCONJ', 312, True, 0), ('s’', 307, 1617, 's’', 'SCONJ', 310, True, 0), ('il', 308, 1619, 'il', 'PRON', 310, True, 0), ('se', 309, 1622, 'se', 'PRON', 310, True, 0), ('confirme', 310, 1625, 'confirme', 'VERB', 312, False, 0), ('il', 311, 1634, 'il', 'PRON', 312, True, 0), ('pourrait', 312, 1637, 'pouvoir', 'VERB', 327, True, 0), ('avoir', 313, 1646, 'avoir', 'VERB', 312, True, 0), ('une', 314, 1652, 'un', 'DET', 316, True, 0), ('deuxième', 315, 1656, 'deuxième', 'ADJ', 316, True, 0), ('conséquence', 316, 1665, 'conséquence', 'NOUN', 313, False, 0), ('\\xa0', 317, 1676, '  ', 'SPACE', 316, False, 0), (':', 318, 1677, ':', 'PUNCT', 312, False, 0), ('certains', 319, 1679, 'certain', 'DET', 320, True, 0), ('projets', 320, 1688, 'projet', 'NOUN', 327, False, 0), ('d’', 321, 1696, 'd’', 'ADP', 322, True, 0), ('exploration', 322, 1698, 'exploration', 'NOUN', 320, False, 0), ('et', 323, 1710, 'et', 'CCONJ', 325, True, 0), ('d’', 324, 1713, 'd’', 'ADP', 325, True, 0), ('exploitation', 325, 1715, 'exploitation', 'NOUN', 322, False, 0), ('pétrolières', 326, 1728, 'pétrolier', 'ADJ', 325, False, 0), ('pourraient', 327, 1740, 'pouvoir', 'VERB', 327, False, 0), ('être', 328, 1751, 'être', 'AUX', 329, True, 0), ('abandonnés', 329, 1756, 'abandonner', 'VERB', 327, False, 0), ('car', 330, 1767, 'car', 'CCONJ', 333, True, 0), ('plus', 331, 1771, 'plus', 'ADV', 332, True, 0), ('assez', 332, 1776, 'assez', 'ADV', 333, True, 0), ('rentables', 333, 1782, 'rentable', 'ADJ', 329, False, 0), ('.', 334, 1791, '.', 'PUNCT', 327, False, 0), ('Certains', 335, 1793, 'certain', 'DET', 336, True, 0), ('champs', 336, 1802, 'champ', 'NOUN', 340, False, 0), ('pétroliers', 337, 1809, 'pétrolier', 'ADJ', 336, False, 0), ('sont', 338, 1820, 'être', 'AUX', 340, True, 0), ('en', 339, 1825, 'en', 'ADP', 340, True, 0), ('effet', 340, 1828, 'effet', 'NOUN', 340, True, 0), ('plus', 341, 1834, 'plus', 'ADV', 342, True, 0), ('complexes', 342, 1839, 'complexe', 'ADJ', 340, False, 0), ('et', 343, 1849, 'et', 'CCONJ', 345, True, 0), ('plus', 344, 1852, 'plus', 'ADV', 345, True, 0), ('coûteux', 345, 1857, 'coûteux', 'ADJ', 342, False, 0), ('à', 346, 1865, 'à', 'ADP', 347, True, 0), ('exploiter', 347, 1867, 'exploiter', 'VERB', 345, False, 0), ('que', 348, 1877, 'que', 'SCONJ', 350, True, 0), ('d’', 349, 1881, 'd’', 'DET', 350, True, 0), ('autres', 350, 1883, 'autre', 'ADJ', 347, True, 0), ('.', 351, 1889, '.', 'PUNCT', 340, False, 0), ('Par', 352, 1891, 'par', 'ADP', 353, True, 0), ('exemple', 353, 1895, 'exemple', 'NOUN', 355, False, 0), ('un', 354, 1903, 'un', 'DET', 355, True, 0), ('chantier', 355, 1906, 'chantier', 'NOUN', 355, False, 0), ('offshore', 356, 1915, 'offshore', 'ADJ', 355, False, 0), ('en', 357, 1924, 'en', 'ADP', 358, True, 0), ('mer', 358, 1927, 'mer', 'PROPN', 355, False, 0), ('ou', 359, 1931, 'ou', 'CCONJ', 361, True, 0), ('les', 360, 1934, 'le', 'DET', 361, True, 0), ('sables', 361, 1938, 'sable', 'NOUN', 355, False, 0), ('bitumineux', 362, 1945, 'bitumineux', 'ADJ', 361, False, 0), ('du', 363, 1956, 'de', 'DET', 364, True, 0), ('Canada', 364, 1959, 'Canada', 'PROPN', 361, False, 385), ('par', 365, 1966, 'par', 'ADP', 366, True, 0), ('rapport', 366, 1970, 'rapport', 'NOUN', 361, False, 0), ('à', 367, 1978, 'à', 'ADP', 369, True, 0), ('des', 368, 1980, 'un', 'DET', 369, True, 0), ('chantiers', 369, 1984, 'chantier', 'NOUN', 366, False, 0), ('à', 370, 1994, 'à', 'ADP', 371, True, 0), ('terre', 371, 1996, 'terre', 'NOUN', 369, False, 0), ('plus', 372, 2002, 'plus', 'ADV', 373, True, 0), ('classiques', 373, 2007, 'classique', 'ADJ', 371, False, 0), ('.', 374, 2017, '.', 'PUNCT', 355, False, 0), ('Au', 375, 2019, 'au', 'DET', 376, True, 0), ('-', 376, 2021, '-', 'PUNCT', 377, False, 0), ('delà', 377, 2022, 'delà', 'ADV', 387, True, 0), ('de', 378, 2027, 'de', 'ADP', 379, True, 0), ('BP', 379, 2030, 'BP', 'PROPN', 380, False, 383), ('l’', 380, 2033, 'l’', 'DET', 381, True, 0), ('onde', 381, 2035, 'onde', 'NOUN', 387, False, 0), ('de', 382, 2040, 'de', 'ADP', 383, True, 0), ('choc', 383, 2043, 'choc', 'NOUN', 381, False, 0), ('s’', 384, 2048, 's’', 'PRON', 387, True, 0), ('est', 385, 2050, 'être', 'AUX', 387, True, 0), ('aussi', 386, 2054, 'aussi', 'ADV', 387, True, 0), ('ressentie', 387, 2060, 'ressentir', 'VERB', 387, False, 0), ('chez', 388, 2070, 'chez', 'ADP', 390, True, 0), ('l’', 389, 2075, 'l’', 'DET', 390, True, 0), ('Américain', 390, 2077, 'Américain', 'PROPN', 387, False, 385), ('Chevron', 391, 2087, 'Chevron', 'PROPN', 390, False, 0), ('avec', 392, 2095, 'avec', 'ADP', 395, True, 0), ('6', 393, 2100, '6', 'DET', 394, False, 0), ('000', 394, 2102, '000', 'DET', 395, False, 0), ('emplois', 395, 2106, 'emploi', 'NOUN', 387, False, 0), ('supprimés', 396, 2114, 'supprimer', 'VERB', 395, False, 0), ('ou', 397, 2124, 'ou', 'CCONJ', 399, True, 0), ('le', 398, 2127, 'le', 'DET', 399, True, 0), ('Français', 399, 2130, 'français', 'NOUN', 395, False, 383), ('Total', 400, 2139, 'total', 'ADJ', 399, False, 383), ('avec', 401, 2145, 'avec', 'ADP', 404, True, 0), ('3', 402, 2150, '3', 'DET', 403, False, 0), ('000', 403, 2152, '000', 'DET', 404, False, 0), ('emplois', 404, 2156, 'emploi', 'NOUN', 387, False, 0), ('dans', 405, 2164, 'dans', 'ADP', 407, True, 0), ('sa', 406, 2169, 'son', 'DET', 407, True, 0), ('filiale', 407, 2172, 'filiale', 'NOUN', 387, False, 0), ('spécialisée', 408, 2180, 'spécialiser', 'VERB', 407, False, 0), ('dans', 409, 2192, 'dans', 'ADP', 411, True, 0), ('le', 410, 2197, 'le', 'DET', 411, True, 0), ('caoutchouc', 411, 2200, 'caoutchouc', 'NOUN', 408, False, 0), ('et', 412, 2211, 'et', 'CCONJ', 414, True, 0), ('le', 413, 2214, 'le', 'DET', 414, True, 0), ('plastique', 414, 2217, 'plastique', 'NOUN', 411, False, 0), ('.', 415, 2226, '.', 'PUNCT', 387, False, 0), ('Enfin', 416, 2228, 'enfin', 'ADV', 429, True, 0), ('un', 417, 2234, 'un', 'DET', 419, True, 0), ('autre', 418, 2237, 'autre', 'ADJ', 419, True, 0), ('facteur', 419, 2243, 'facteur', 'NOUN', 429, False, 0), ('entre', 420, 2251, 'entre', 'ADP', 422, True, 0), ('en', 421, 2257, 'en', 'ADP', 422, True, 0), ('jeu', 422, 2260, 'jeu', 'NOUN', 419, False, 0), ('\\xa0', 423, 2263, '  ', 'SPACE', 422, False, 0), (':', 424, 2264, ':', 'PUNCT', 419, False, 0), ('la', 425, 2266, 'le', 'DET', 426, True, 0), ('taxation', 426, 2269, 'taxation', 'NOUN', 419, False, 0), ('du', 427, 2278, 'de', 'DET', 428, True, 0), ('carbone', 428, 2281, 'carbone', 'NOUN', 426, False, 0), ('Afin', 429, 2289, 'afin', 'ADV', 429, True, 0), ('de', 430, 2294, 'de', 'ADP', 431, True, 0), ('répondre', 431, 2297, 'répondre', 'VERB', 429, False, 0), ('à', 432, 2306, 'à', 'ADP', 434, True, 0), ('l’', 433, 2308, 'l’', 'DET', 434, True, 0), ('urgence', 434, 2310, 'urgence', 'NOUN', 431, False, 0), ('climatique', 435, 2318, 'climatique', 'ADJ', 434, False, 0), ('elle', 436, 2329, 'lui', 'PRON', 437, True, 0), ('pourrait', 437, 2334, 'pouvoir', 'VERB', 434, True, 0), ('augmenter', 438, 2343, 'augmenter', 'VERB', 437, False, 0), ('en', 439, 2353, 'en', 'ADP', 440, True, 0), ('Europe', 440, 2356, 'Europe', 'PROPN', 438, False, 385), ('jusqu’', 441, 2363, 'jusqu’', 'PROPN', 444, False, 0), ('à', 442, 2369, 'à', 'ADP', 444, True, 0), ('100', 443, 2371, '100', 'NUM', 444, False, 0), ('€', 444, 2375, 'euro', 'NOUN', 438, False, 0), ('la', 445, 2377, 'le', 'DET', 446, True, 0), ('tonne', 446, 2380, 'tonne', 'NOUN', 444, False, 0), ('en', 447, 2386, 'en', 'ADP', 448, True, 0), ('2030', 448, 2389, '2030', 'NUM', 444, False, 0), ('selon', 449, 2394, 'selon', 'ADP', 451, True, 0), ('les', 450, 2400, 'le', 'DET', 451, True, 0), ('estimations', 451, 2404, 'estimation', 'NOUN', 438, False, 0), ('de', 452, 2416, 'de', 'ADP', 453, True, 0), ('BP', 453, 2419, 'BP', 'PROPN', 451, False, 383), ('contre', 454, 2422, 'contre', 'ADP', 458, True, 0), ('moins', 455, 2429, 'moins', 'ADV', 457, True, 0), ('de', 456, 2435, 'de', 'ADP', 455, True, 0), ('25', 457, 2438, '25', 'NUM', 458, False, 0), ('€', 458, 2441, 'euro', 'NOUN', 451, False, 0), ('au', 459, 2443, 'au', 'DET', 460, True, 0), ('moment', 460, 2446, 'moment', 'NOUN', 451, False, 0), ('où', 461, 2453, 'où', 'PRON', 463, True, 0), ('est', 462, 2456, 'être', 'AUX', 463, True, 0), ('réalisée', 463, 2460, 'réaliser', 'VERB', 451, False, 0), ('cette', 464, 2469, 'ce', 'DET', 465, True, 0), ('vidéo', 465, 2475, 'vidéo', 'NOUN', 463, False, 0), ('.', 466, 2480, '.', 'PUNCT', 429, False, 0), ('Dans', 467, 2482, 'dans', 'ADP', 469, True, 0), ('ce', 468, 2487, 'ce', 'DET', 469, True, 0), ('scénario', 469, 2490, 'scénario', 'NOUN', 472, False, 0), ('le', 470, 2499, 'le', 'DET', 471, True, 0), ('pétrole', 471, 2502, 'pétrole', 'NOUN', 472, False, 0), ('rapporterait', 472, 2510, 'rapporter', 'VERB', 472, False, 0), ('moins', 473, 2523, 'moins', 'ADV', 472, True, 0), ('et', 474, 2529, 'et', 'CCONJ', 480, True, 0), ('serait', 475, 2532, 'être', 'AUX', 480, True, 0), ('en', 476, 2539, 'en', 'ADP', 478, True, 0), ('même', 477, 2542, 'même', 'ADJ', 478, True, 0), ('temps', 478, 2547, 'temps', 'NOUN', 480, False, 0), ('davantage', 479, 2553, 'davantage', 'ADV', 480, False, 0), ('taxé', 480, 2563, 'taxer', 'VERB', 472, False, 0), ('.', 481, 2567, '.', 'PUNCT', 472, False, 0), ('Un', 482, 2569, 'un', 'DET', 483, True, 0), ('effet', 483, 2572, 'effet', 'NOUN', 483, True, 0), ('ciseau', 484, 2578, 'ciseau', 'VERB', 483, False, 0), ('qui', 485, 2585, 'qui', 'PRON', 486, True, 0), ('chamboule', 486, 2589, 'chamboule', 'VERB', 483, False, 0), ('la', 487, 2599, 'le', 'DET', 488, True, 0), ('valeur', 488, 2602, 'valeur', 'NOUN', 486, False, 0), ('même', 489, 2609, 'même', 'ADV', 488, True, 0), ('des', 490, 2614, 'de', 'ADP', 491, True, 0), ('projets', 491, 2618, 'projet', 'NOUN', 488, False, 0), ('pétroliers', 492, 2626, 'pétrolier', 'ADJ', 491, False, 0), ('.', 493, 2636, '.', 'PUNCT', 483, False, 0), ('C’', 494, 2638, 'c’', 'PRON', 496, True, 0), ('est', 495, 2640, 'être', 'AUX', 496, True, 0), ('ce', 496, 2644, 'ce', 'PRON', 496, True, 0), ('qui', 497, 2647, 'qui', 'PRON', 499, True, 0), ('a', 498, 2651, 'avoir', 'AUX', 499, True, 0), ('conduit', 499, 2653, 'conduire', 'VERB', 496, False, 0), ('BP', 500, 2661, 'bp', 'NOUN', 499, False, 383), ('à', 501, 2664, 'à', 'ADP', 502, True, 0), ('déprécier', 502, 2666, 'déprécier', 'VERB', 499, False, 0), ('ses', 503, 2676, 'son', 'DET', 504, True, 0), ('actifs', 504, 2680, 'actif', 'NOUN', 502, False, 0), ('pour', 505, 2687, 'pour', 'ADP', 507, True, 0), ('plusieurs', 506, 2692, 'plusieurs', 'DET', 507, True, 0), ('milliards', 507, 2702, 'milliard', 'NOUN', 502, False, 0), ('.', 508, 2711, '.', 'PUNCT', 496, False, 0), ('Enfin', 509, 2713, 'enfin', 'ADV', 513, True, 0), ('l’', 510, 2719, 'l’', 'DET', 511, True, 0), ('époque', 511, 2721, 'époque', 'NOUN', 513, False, 0), ('a', 512, 2728, 'avoir', 'AUX', 513, True, 0), ('changé', 513, 2730, 'changer', 'VERB', 513, False, 0), ('.', 514, 2736, '.', 'PUNCT', 513, False, 0), ('Face', 515, 2738, 'face', 'NOUN', 518, False, 0), ('à', 516, 2743, 'à', 'ADP', 515, True, 0), ('l’', 517, 2745, 'l’', 'DET', 518, True, 0), ('urgence', 518, 2747, 'urgence', 'NOUN', 518, False, 0), ('climatique', 519, 2755, 'climatique', 'ADJ', 518, False, 0), ('la', 520, 2766, 'le', 'DET', 521, True, 0), ('pression', 521, 2769, 'pression', 'NOUN', 522, False, 0), ('augmente', 522, 2778, 'augmente', 'VERB', 522, False, 0), ('pour', 523, 2787, 'pour', 'ADP', 524, True, 0), ('abandonner', 524, 2792, 'abandonner', 'VERB', 522, False, 0), ('les', 525, 2803, 'le', 'DET', 526, True, 0), ('énergies', 526, 2807, 'énergie', 'NOUN', 524, False, 0), ('fossiles', 527, 2816, 'fossile', 'ADJ', 526, False, 0), ('et', 528, 2825, 'et', 'CCONJ', 529, True, 0), ('transiter', 529, 2828, 'transiter', 'VERB', 524, False, 0), ('vers', 530, 2838, 'vers', 'ADP', 532, True, 0), ('des', 531, 2843, 'un', 'DET', 532, True, 0), ('énergies', 532, 2847, 'énergie', 'NOUN', 529, False, 0), ('plus', 533, 2856, 'plus', 'ADV', 534, True, 0), ('respectueuses', 534, 2861, 'respectueux', 'ADJ', 532, False, 0), ('de', 535, 2875, 'de', 'ADP', 537, True, 0), ('l’', 536, 2878, 'l’', 'DET', 537, True, 0), ('environnement', 537, 2880, 'environnement', 'NOUN', 534, False, 0), ('surtout', 538, 2894, 'surtout', 'ADV', 541, True, 0), ('lorsque', 539, 2902, 'lorsque', 'SCONJ', 541, True, 0), ('certaines', 540, 2910, 'certains', 'PRON', 541, True, 0), ('deviennent', 541, 2920, 'devenir', 'VERB', 522, False, 0), ('de', 542, 2931, 'de', 'ADP', 546, True, 0), ('plus', 543, 2934, 'plus', 'ADV', 542, True, 0), ('en', 544, 2939, 'en', 'ADP', 542, True, 0), ('plus', 545, 2942, 'plus', 'ADV', 546, True, 0), ('compétitives', 546, 2947, 'compétitif', 'ADJ', 541, False, 0), ('sur', 547, 2960, 'sur', 'ADP', 549, True, 0), ('le', 548, 2964, 'le', 'DET', 549, True, 0), ('plan', 549, 2967, 'plan', 'NOUN', 541, False, 0), ('économique', 550, 2972, 'économique', 'ADJ', 549, False, 0), ('.', 551, 2982, '.', 'PUNCT', 522, False, 0), ('Dans', 552, 2984, 'dans', 'ADP', 554, True, 0), ('ce', 553, 2989, 'ce', 'DET', 554, True, 0), ('basculement', 554, 2992, 'basculement', 'NOUN', 563, False, 0), ('dans', 555, 3004, 'dans', 'ADP', 557, True, 0), ('l’', 556, 3009, 'l’', 'DET', 557, True, 0), ('après-pétrole', 557, 3011, 'après-pétrole', 'NOUN', 554, False, 0), ('les', 558, 3025, 'le', 'DET', 559, True, 0), ('majors', 559, 3029, 'major', 'NOUN', 563, False, 0), ('pétrolières', 560, 3036, 'pétrolier', 'ADJ', 559, False, 0), ('sont', 561, 3048, 'être', 'AUX', 563, True, 0), ('désormais', 562, 3053, 'désormais', 'ADV', 563, True, 0), ('perçues', 563, 3063, 'percevoir', 'VERB', 563, False, 0), ('comme', 564, 3071, 'comme', 'ADP', 566, True, 0), ('des', 565, 3077, 'un', 'DET', 566, True, 0), ('dinosaures', 566, 3081, 'dinosaure', 'NOUN', 563, False, 0), ('de', 567, 3092, 'de', 'ADP', 570, True, 0), ('l’', 568, 3095, 'l’', 'DET', 570, True, 0), ('ancien', 569, 3097, 'ancien', 'ADJ', 570, False, 0), ('monde', 570, 3104, 'monde', 'NOUN', 566, False, 0), ('aux', 571, 3110, 'à', 'ADP', 572, True, 0), ('activités', 572, 3114, 'activité', 'NOUN', 566, False, 0), ('polluantes', 573, 3124, 'polluant', 'ADJ', 572, False, 0), ('.', 574, 3134, '.', 'PUNCT', 563, False, 0), ('De', 575, 3136, 'de', 'ADP', 577, True, 0), ('quoi', 576, 3139, 'quoi', 'PRON', 575, True, 0), ('inciter', 577, 3144, 'inciter', 'VERB', 577, False, 0), ('parfois', 578, 3152, 'parfois', 'ADV', 577, True, 0), ('les', 579, 3160, 'le', 'DET', 580, True, 0), ('actionnaires', 580, 3164, 'actionnaire', 'NOUN', 577, False, 0), ('à', 581, 3177, 'à', 'ADP', 582, True, 0), ('faire', 582, 3179, 'faire', 'VERB', 580, False, 0), ('eux', 583, 3185, 'lui', 'PRON', 584, True, 0), ('-', 584, 3188, '-', 'PRON', 585, False, 0), ('mêmes', 585, 3189, 'même', 'PRON', 586, True, 0), ('pression', 586, 3195, 'pression', 'VERB', 582, False, 0), ('sur', 587, 3204, 'sur', 'ADP', 589, True, 0), ('les', 588, 3208, 'le', 'DET', 589, True, 0), ('compagnies', 589, 3212, 'compagnie', 'NOUN', 586, False, 0), ('pétrolières', 590, 3223, 'pétrolier', 'ADJ', 589, False, 0), ('pour', 591, 3235, 'pour', 'ADP', 594, True, 0), ('qu’', 592, 3240, 'qu’', 'SCONJ', 594, True, 0), ('elles', 593, 3243, 'lui', 'PRON', 594, True, 0), ('diversifient', 594, 3249, 'diversifier', 'VERB', 577, False, 0), ('leurs', 595, 3262, 'leur', 'DET', 596, True, 0), ('activités', 596, 3268, 'activité', 'NOUN', 594, False, 0), ('et', 597, 3278, 'et', 'CCONJ', 598, True, 0), ('adoptent', 598, 3281, 'adopter', 'VERB', 594, False, 0), ('des', 599, 3290, 'un', 'DET', 600, True, 0), ('engagements', 600, 3294, 'engagement', 'NOUN', 598, False, 0), ('écologiques', 601, 3306, 'écologique', 'ADJ', 600, False, 0), ('.', 602, 3317, '.', 'PUNCT', 577, False, 0), ('Pour', 603, 3319, 'pour', 'ADP', 604, True, 0), ('réagir', 604, 3324, 'réagir', 'VERB', 604, False, 0), ('plusieurs', 605, 3331, 'plusieurs', 'DET', 604, True, 0), ('d’', 606, 3341, 'd’', 'ADP', 608, True, 0), ('entre', 607, 3343, 'entre', 'ADP', 606, True, 0), ('elles', 608, 3349, 'lui', 'PRON', 610, True, 0), ('ont', 609, 3355, 'avoir', 'AUX', 610, True, 0), ('commencé', 610, 3359, 'commencer', 'VERB', 605, False, 0), ('à', 611, 3368, 'à', 'ADP', 612, True, 0), ('investir', 612, 3370, 'investir', 'VERB', 610, False, 0), ('dans', 613, 3379, 'dans', 'ADP', 615, True, 0), ('les', 614, 3384, 'le', 'DET', 615, True, 0), ('énergies', 615, 3388, 'énergie', 'NOUN', 612, False, 0), ('renouvelables', 616, 3397, 'renouvelable', 'ADJ', 615, False, 0), ('et', 617, 3411, 'et', 'CCONJ', 620, True, 0), ('à', 618, 3414, 'à', 'ADP', 620, True, 0), ('se', 619, 3416, 'se', 'PRON', 620, True, 0), ('fixer', 620, 3419, 'fixer', 'VERB', 610, False, 0), ('des', 621, 3425, 'un', 'DET', 622, True, 0), ('objectifs', 622, 3429, 'objectif', 'NOUN', 620, False, 0), ('de', 623, 3439, 'de', 'ADP', 624, True, 0), ('neutralité', 624, 3442, 'neutralité', 'NOUN', 622, False, 0), ('carbone', 625, 3453, 'carbon', 'ADJ', 624, False, 0), ('.', 626, 3460, '.', 'PUNCT', 604, False, 0), ('Comme', 627, 3462, 'comme', 'SCONJ', 629, True, 0), ('le', 628, 3468, 'le', 'PRON', 629, True, 0), ('résume', 629, 3471, 'résume', 'VERB', 637, False, 0), ('Greenpeace', 630, 3478, 'Greenpeace', 'PROPN', 629, False, 7654241940133152407), ('\\xa0', 631, 3488, '  ', 'SPACE', 630, False, 7654241940133152407), (':', 632, 3489, ':', 'PUNCT', 629, False, 0), ('«', 633, 3491, '«', 'PUNCT', 637, False, 0), ('BP', 634, 3493, 'BP', 'PROPN', 637, False, 383), ('a', 635, 3496, 'avoir', 'AUX', 637, True, 0), ('enfin', 636, 3498, 'enfin', 'ADV', 637, True, 0), ('réalisé', 637, 3504, 'réaliser', 'VERB', 637, False, 0), ('que', 638, 3512, 'que', 'SCONJ', 642, True, 0), (\"l'\", 639, 3516, 'le', 'DET', 640, True, 0), ('urgence', 640, 3518, 'urgence', 'NOUN', 642, False, 0), ('climatique', 641, 3526, 'climatique', 'ADJ', 640, False, 0), ('allait', 642, 3537, 'aller', 'VERB', 637, False, 0), ('réduire', 643, 3544, 'réduire', 'VERB', 642, False, 0), ('la', 644, 3552, 'le', 'DET', 645, True, 0), ('valeur', 645, 3555, 'valeur', 'NOUN', 643, False, 0), ('du', 646, 3562, 'de', 'DET', 647, True, 0), ('pétrole', 647, 3565, 'pétrole', 'NOUN', 645, False, 0), ('.', 648, 3572, '.', 'PUNCT', 637, False, 0), ('\\xa0', 649, 3573, '  ', 'SPACE', 648, False, 0), ('»', 650, 3574, '»', 'PUNCT', 650, False, 0), ('Pourtant', 651, 3576, 'pourtant', 'ADV', 654, False, 0), ('les', 652, 3585, 'le', 'DET', 653, True, 0), ('avis', 653, 3589, 'avis', 'NOUN', 654, False, 0), ('divergent', 654, 3594, 'diverger', 'VERB', 654, False, 0), ('sur', 655, 3604, 'sur', 'ADP', 657, True, 0), ('le', 656, 3608, 'le', 'DET', 657, True, 0), ('prix', 657, 3611, 'prix', 'NOUN', 654, False, 0), ('du', 658, 3616, 'de', 'DET', 659, True, 0), ('pétrole', 659, 3619, 'pétrole', 'NOUN', 657, False, 0), ('.', 660, 3626, '.', 'PUNCT', 654, False, 0), ('La', 661, 3628, 'le', 'DET', 662, True, 0), ('crise', 662, 3631, 'crise', 'NOUN', 665, False, 0), ('du', 663, 3637, 'de', 'DET', 664, True, 0), ('coronavirus', 664, 3640, 'coronavirus', 'NOUN', 662, False, 0), ('devrait', 665, 3652, 'devoir', 'VERB', 665, False, 0), ('faire', 666, 3660, 'faire', 'AUX', 667, False, 0), ('chuter', 667, 3666, 'chuter', 'VERB', 665, False, 0), ('les', 668, 3673, 'le', 'DET', 669, True, 0), ('investissements', 669, 3677, 'investissement', 'NOUN', 667, False, 0), ('de', 670, 3693, 'de', 'ADP', 673, True, 0), ('32', 671, 3696, '32', 'NUM', 673, False, 385), ('\\xa0', 672, 3698, '  ', 'SPACE', 671, False, 385), ('%', 673, 3699, 'pourcent', 'NOUN', 669, False, 0), ('dans', 674, 3701, 'dans', 'ADP', 676, True, 0), ('le', 675, 3706, 'le', 'DET', 676, True, 0), ('secteur', 676, 3709, 'secteur', 'NOUN', 667, False, 0), ('en', 677, 3717, 'en', 'ADP', 678, True, 0), ('2020', 678, 3720, '2020', 'NUM', 667, False, 0), ('.', 679, 3724, '.', 'PUNCT', 665, False, 0), ('Certains', 680, 3726, 'certains', 'PRON', 681, True, 0), ('estiment', 681, 3735, 'estimer', 'VERB', 681, False, 0), ('que', 682, 3744, 'que', 'SCONJ', 684, True, 0), ('cela', 683, 3748, 'cela', 'PRON', 684, True, 0), ('pourrait', 684, 3753, 'pouvoir', 'VERB', 681, True, 0), ('provoquer', 685, 3762, 'provoquer', 'VERB', 684, False, 0), ('une', 686, 3772, 'un', 'DET', 687, True, 0), ('réduction', 687, 3776, 'réduction', 'NOUN', 685, False, 0), ('de', 688, 3786, 'de', 'ADP', 690, True, 0), ('la', 689, 3789, 'le', 'DET', 690, True, 0), ('production', 690, 3792, 'production', 'NOUN', 687, False, 0), ('et', 691, 3803, 'et', 'CCONJ', 695, True, 0), ('donc', 692, 3806, 'donc', 'ADV', 695, True, 0), ('de', 693, 3811, 'de', 'ADP', 695, True, 0), ('l’', 694, 3814, 'l’', 'DET', 695, True, 0), ('offre', 695, 3816, 'offre', 'NOUN', 684, False, 0), ('et', 696, 3822, 'et', 'CCONJ', 699, True, 0), ('potentiellement', 697, 3825, 'potentiellement', 'ADV', 699, False, 0), ('faire', 698, 3841, 'faire', 'VERB', 699, False, 0), ('remonter', 699, 3847, 'remonter', 'VERB', 695, False, 0), ('les', 700, 3856, 'le', 'DET', 701, True, 0), ('prix', 701, 3860, 'prix', 'NOUN', 699, False, 0), ('du', 702, 3865, 'de', 'DET', 703, True, 0), ('pétrole', 703, 3868, 'pétrole', 'NOUN', 701, False, 0), ('dans', 704, 3876, 'dans', 'ADP', 706, True, 0), ('quelques', 705, 3881, 'quelque', 'DET', 706, True, 0), ('années', 706, 3890, 'année', 'NOUN', 699, False, 0), ('surtout', 707, 3897, 'surtout', 'ADV', 706, True, 0), ('en', 708, 3905, 'en', 'ADP', 709, True, 0), ('cas', 709, 3908, 'cas', 'NOUN', 684, False, 0), ('de', 710, 3912, 'de', 'ADP', 711, True, 0), ('reprise', 711, 3915, 'reprise', 'NOUN', 709, False, 0), ('de', 712, 3923, 'de', 'ADP', 714, True, 0), ('la', 713, 3926, 'le', 'DET', 714, True, 0), ('croissance', 714, 3929, 'croissance', 'NOUN', 711, False, 0), ('économique', 715, 3940, 'économique', 'ADJ', 714, False, 0), ('mondiale', 716, 3951, 'mondial', 'ADJ', 714, False, 0), ('.', 717, 3959, '.', 'PUNCT', 681, False, 0), ('Bref', 718, 3961, 'bref', 'ADV', 725, False, 0), ('le', 719, 3966, 'le', 'DET', 720, True, 0), ('débat', 720, 3969, 'débat', 'NOUN', 725, False, 0), ('entre', 721, 3975, 'entre', 'ADP', 723, True, 0), ('les', 722, 3981, 'le', 'DET', 723, True, 0), ('analystes', 723, 3985, 'analyste', 'NOUN', 720, False, 0), ('est', 724, 3995, 'être', 'AUX', 725, True, 0), ('ouvert', 725, 3999, 'ouvert', 'ADJ', 725, True, 0), ('et', 726, 4006, 'et', 'CCONJ', 728, True, 0), ('tout', 727, 4009, 'tout', 'PRON', 728, True, 0), ('devrait', 728, 4014, 'devoir', 'VERB', 725, False, 0), ('se', 729, 4022, 'se', 'PRON', 730, True, 0), ('jouer', 730, 4025, 'jouer', 'VERB', 728, False, 0), ('dans', 731, 4031, 'dans', 'ADP', 734, True, 0), ('les', 732, 4036, 'le', 'DET', 734, True, 0), ('prochaines', 733, 4040, 'prochain', 'ADJ', 734, False, 0), ('années', 734, 4051, 'année', 'NOUN', 730, False, 0), ('.', 735, 4057, '.', 'PUNCT', 725, False, 0)]\n"
          ],
          "name": "stdout"
        }
      ]
    },
    {
      "cell_type": "markdown",
      "metadata": {
        "id": "tIVLhaHCFEH0"
      },
      "source": [
        "#### Cette structure est assez complète, mais ce dont on a ici besoin, c'est une simple liste des lemmes, dont la sélection se base sur les parties du discours pleines, et on élimine les stop words"
      ]
    },
    {
      "cell_type": "markdown",
      "metadata": {
        "id": "r_umOv83FxeT"
      },
      "source": [
        "##### Fonction qui à partir des données lemme, POS, et stop-word renvoie le lemme ou rien du tout si non retenu"
      ]
    },
    {
      "cell_type": "code",
      "metadata": {
        "id": "LyLubyXoGEw7"
      },
      "source": [
        "# 2.e\n",
        "# répartition un peu arbitraire entre catégories vides et pleines\n",
        "# les premières faisant office de stopwords, dans un modèle sacs de mots\n",
        "CATEGORIES_VIDES = ['ADP', 'AUX', 'CONJ', 'CCONJ', 'DET', 'PART', 'PRON',\n",
        "                    'PUNCT', 'SCONJ', 'SYM', 'SPACE']\n",
        "CATEGORIES_PLEINES = ['ADJ', 'ADV', 'INTJ', 'NOUN', 'NUM', 'PROPN', 'VERB', 'X']"
      ],
      "execution_count": null,
      "outputs": []
    },
    {
      "cell_type": "code",
      "metadata": {
        "id": "SAMkMB6-FeVr"
      },
      "source": [
        "# 2.f\n",
        "# cette fonction servira à la fois sur les analyses déjà faites et sur le texte de référence utilisé à fins de comparaisons\n",
        "def selectionne_lemme(lemme, pos, est_stopword):\n",
        "  selection_lemme = ''\n",
        "  if pos in CATEGORIES_PLEINES and est_stopword == False:\n",
        "    selection_lemme = lemme\n",
        "  return selection_lemme\n"
      ],
      "execution_count": null,
      "outputs": []
    },
    {
      "cell_type": "code",
      "metadata": {
        "id": "J8Eo5V0oG4PV"
      },
      "source": [
        "# 2.g\n",
        "# utilisation sur les analyses déjà faites, création d'une nouvelle colonne, en utilisant la fonction suivante,\n",
        "# qui prend en argument la liste des tokens résultat de l'analyse nlp spacy effectuée auparavant\n",
        "def cree_l_lemmes_sur_resultat_nlp(l_tokens_nlp):\n",
        "  l_lemmes = []\n",
        "  for token in l_tokens_nlp:\n",
        "    lemme = selectionne_lemme(token[3], token[4], token[6])\n",
        "    if lemme != '':\n",
        "      l_lemmes.append(lemme)\n",
        "  return l_lemmes\n"
      ],
      "execution_count": null,
      "outputs": []
    },
    {
      "cell_type": "code",
      "metadata": {
        "id": "rWb9Bb8GI6ZM"
      },
      "source": [
        "# 2.h\n",
        "# appliquer ceci en créant une nouvelle colonne du dataframe stockant la liste des lemmes d'intérêt\n",
        "df_videos['lemmes_sous_titres'] = df_videos['tkn_sous_titres'].apply(lambda x: cree_l_lemmes_sur_resultat_nlp(x))"
      ],
      "execution_count": null,
      "outputs": []
    },
    {
      "cell_type": "code",
      "metadata": {
        "colab": {
          "base_uri": "https://localhost:8080/"
        },
        "id": "JjzYcxEmJbZq",
        "outputId": "f340ed9c-56e6-4f80-cc21-520860f40e05"
      },
      "source": [
        "print(df_videos.iloc[0]['lemmes_sous_titres'])"
      ],
      "execution_count": null,
      "outputs": [
        {
          "output_type": "stream",
          "text": [
            "['monde', 'pétrole', 'événement', 'juin', '2020', 'compagnie', 'BP', 'annoncer', 'suppression', 'emploi', '13', '175', 'milliard', 'dollar', 'dépréciation', 'actif', 'conséquence', 'coronavirus', 'porter', 'coup', 'arrêt', 'économie', 'mondial', 'demande', 'pétrole', 'nouveau', 'perspective', 'favorable', 'prévoir', 'interroger', 'coronavirus', 'sonne', 'fin', 'pétrole', 'BP', 'grand', 'compagnie', 'pétrolier', 'monde', 'annoncer', 'mesure', 'drastique', 'falloir', 'lire', 'ligne', 'communiqué', 'annoncer', 'BP', 'prévoir', 'pandémie', 'impact', 'durable', 'économie', 'mondial', 'demande', 'énergie', 'potentiellement', 'faible', 'période', 'prolonger', 'reprise', 'BP', 'changement', 'long', 'terme', 'changement', 'prix', 'multinationale', 'cours', 'moyen', 'baril', 'pétrole', '-', '-', 'brer', 'servir', 'référence', 'devoir', 'chuter', 'prochain', 'année', 'fixer', 'autour', '55', 'dollar', '2021', '2050', 'nettement', '70', 'dollar', 'anticiper', 'précédemment', 'prévision', 'pétrole', 'devoir', 'vendre', 'moyenne', 'prochain', 'année', 'générer', 'revenu', 'production', 'égal', 'changement', 'brutal', 'major', 'pétrole', 'compagnie', 'aérien', 'demander', 'passer', 'modèle', 'économique', 'air', 'France', 'ryanair', 'scénario', 'prévoir', 'fin', 'pétrole', 'fin', 'pétrole', 'confirme', 'conséquence', 'projet', 'exploration', 'exploitation', 'pétrolier', 'pouvoir', 'abandonner', 'rentable', 'champ', 'pétrolier', 'complexe', 'coûteux', 'exploiter', 'exemple', 'chantier', 'offshore', 'mer', 'sable', 'bitumineux', 'Canada', 'rapport', 'chantier', 'terre', 'classique', 'BP', 'onde', 'choc', 'ressentir', 'Américain', 'Chevron', 'emploi', 'supprimer', 'français', 'total', 'emploi', 'filiale', 'spécialiser', 'caoutchouc', 'plastique', 'facteur', 'jeu', 'taxation', 'carbone', 'répondre', 'urgence', 'climatique', 'augmenter', 'Europe', 'jusqu’', '100', 'euro', 'tonne', '2030', 'estimation', 'BP', '25', 'euro', 'moment', 'réaliser', 'vidéo', 'scénario', 'pétrole', 'rapporter', 'temps', 'davantage', 'taxer', 'ciseau', 'chamboule', 'valeur', 'projet', 'pétrolier', 'conduire', 'bp', 'déprécier', 'actif', 'milliard', 'époque', 'changer', 'face', 'urgence', 'climatique', 'pression', 'augmente', 'abandonner', 'énergie', 'fossile', 'transiter', 'énergie', 'respectueux', 'environnement', 'devenir', 'compétitif', 'plan', 'économique', 'basculement', 'après-pétrole', 'major', 'pétrolier', 'percevoir', 'dinosaure', 'ancien', 'monde', 'activité', 'polluant', 'inciter', 'actionnaire', 'faire', 'pression', 'compagnie', 'pétrolier', 'diversifier', 'activité', 'adopter', 'engagement', 'écologique', 'réagir', 'commencer', 'investir', 'énergie', 'renouvelable', 'fixer', 'objectif', 'neutralité', 'carbon', 'résume', 'Greenpeace', 'BP', 'réaliser', 'urgence', 'climatique', 'aller', 'réduire', 'valeur', 'pétrole', 'pourtant', 'avis', 'diverger', 'prix', 'pétrole', 'crise', 'coronavirus', 'devoir', 'chuter', 'investissement', '32', 'pourcent', 'secteur', '2020', 'estimer', 'provoquer', 'réduction', 'production', 'offre', 'potentiellement', 'faire', 'remonter', 'prix', 'pétrole', 'année', 'cas', 'reprise', 'croissance', 'économique', 'mondial', 'bref', 'débat', 'analyste', 'devoir', 'jouer', 'prochain', 'année']\n"
          ],
          "name": "stdout"
        }
      ]
    },
    {
      "cell_type": "markdown",
      "metadata": {
        "id": "-a99d1cbKBUh"
      },
      "source": [
        "### Recherche sur mots-clés"
      ]
    },
    {
      "cell_type": "markdown",
      "metadata": {
        "id": "BXNcVmGlKBUi"
      },
      "source": [
        "#### On va d'une part toper (1 ou 0) les vidéos qui présentent la ou les combinaisons de lemmes clés dans les sous titres\n",
        "On aurait pu aussi considérer les descriptions et les tags, mais dès lors que les combinaisons d'intérêt sont dans les sous-titres, elles le sont aussi dans les descriptions et tags "
      ]
    },
    {
      "cell_type": "markdown",
      "metadata": {
        "id": "mEyj020aKBUi"
      },
      "source": [
        "#### Et d'autre part mesurer la force des mots clés (la fréquence relative dans les sous-titres)"
      ]
    },
    {
      "cell_type": "markdown",
      "metadata": {
        "id": "TTM8km3cKBUi"
      },
      "source": [
        "##### On repère cela à partir de sous-séquences à retrouver dans la liste des lemmes"
      ]
    },
    {
      "cell_type": "code",
      "metadata": {
        "id": "7xdRtuYuKBUi"
      },
      "source": [
        "# 3.a\n",
        "SOUS_SEQUENCES_CLE = [['masque', 'chirurgical'], ['masque'], ['stock'], ['laboratoire'],\n",
        "                     ['gel', 'hydroalcoolique'], ['hydroalcoolique'], ['hydroxychloroquine'], ['chloroquine'],\n",
        "                     ['didier', 'raoult'], ['raoult'], ['commission'], ['commission', 'enquête']]\n",
        "                     "
      ],
      "execution_count": null,
      "outputs": []
    },
    {
      "cell_type": "markdown",
      "metadata": {
        "id": "LqYZpI1BKBUj"
      },
      "source": [
        "##### Fonctions de recherche de sous-séquences"
      ]
    },
    {
      "cell_type": "code",
      "metadata": {
        "id": "sbwBXs4OKBUj"
      },
      "source": [
        "# 3.c\n",
        "# fonction copiée depuis stackoverflow\n",
        "# on va chercher une sous-séquence dans celle du texte éclaté en mots\n",
        "def index_subseq_in_seq(subseq, seq):\n",
        "    \n",
        "    i, n, m = -1, len(seq), len(subseq)\n",
        "    try:\n",
        "        while True:\n",
        "            i = seq.index(subseq[0], i + 1, n - m + 1)\n",
        "            if subseq == seq[i:i + m]:\n",
        "               return i\n",
        "    except ValueError:\n",
        "        return -1"
      ],
      "execution_count": null,
      "outputs": []
    },
    {
      "cell_type": "code",
      "metadata": {
        "id": "LzjXPuoPKBUj"
      },
      "source": [
        "# 3.d\n",
        "# on peut aussi compter le nombre de séquences\n",
        "def nb_subseq_in_seq(subseq, seq):\n",
        "    \n",
        "    nb_subseq = 0\n",
        "    remaining_seq = seq\n",
        "    while len(remaining_seq) >= len(subseq):\n",
        "        index = index_subseq_in_seq(subseq, remaining_seq)\n",
        "        if index >= 0:\n",
        "            remaining_seq = remaining_seq[index + len(subseq):]\n",
        "            nb_subseq += 1\n",
        "        else:\n",
        "            remaining_seq = []\n",
        "    \n",
        "    return nb_subseq"
      ],
      "execution_count": null,
      "outputs": []
    },
    {
      "cell_type": "markdown",
      "metadata": {
        "id": "eXLvyim4KBUj"
      },
      "source": [
        "##### on créer deux colonnes, une indiquant présence ou non d'une des sous-séquences à détecter, et l'autre fréquence relative de l'ensemble des sous-séquences à rechercher\n"
      ]
    },
    {
      "cell_type": "code",
      "metadata": {
        "id": "kesb_3HvKBUj"
      },
      "source": [
        "# 3.e\n",
        "def presence_sous_sequences(liste_tokens, liste_sous_sequences):\n",
        "    presence = 0\n",
        "    for sous_sequence in liste_sous_sequences:\n",
        "        if index_subseq_in_seq(sous_sequence, liste_tokens) >= 0:\n",
        "            presence = 1\n",
        "            break\n",
        "    return presence  "
      ],
      "execution_count": null,
      "outputs": []
    },
    {
      "cell_type": "code",
      "metadata": {
        "id": "m6_JLK1KKBUk"
      },
      "source": [
        "# 3.f\n",
        "def lit_presence_termes_cle(l):\n",
        "    global compteur\n",
        "    presence_termes_cle = 0\n",
        "    liste_tokens = l['lemmes_sous_titres']\n",
        "    if isinstance(liste_tokens, list):\n",
        "        presence_termes_cle = presence_sous_sequences(liste_tokens, SOUS_SEQUENCES_CLE)\n",
        "        #print(\"%05d\" % (compteur), end=\"\\r\")\n",
        "        compteur += 1\n",
        "    return presence_termes_cle"
      ],
      "execution_count": null,
      "outputs": []
    },
    {
      "cell_type": "code",
      "metadata": {
        "id": "Zr7zdveYKBUk"
      },
      "source": [
        "# 3.g\n",
        "compteur = 0\n",
        "df_videos['presence_termes_cle'] = df_videos.apply(lambda l: lit_presence_termes_cle(l), axis=1)"
      ],
      "execution_count": null,
      "outputs": []
    },
    {
      "cell_type": "code",
      "metadata": {
        "id": "3vNmNciGKBUk"
      },
      "source": [
        "# 3.h\n",
        "def freq_relative_sous_sequences(liste_tokens, liste_sous_sequences):\n",
        "    freq_relative = 0.0\n",
        "    nb_tokens = len(liste_tokens)\n",
        "    nb_presences = 0\n",
        "    for sous_sequence in liste_sous_sequences:\n",
        "        nb_presences += nb_subseq_in_seq(sous_sequence, liste_tokens)\n",
        "    if nb_tokens > 0:\n",
        "        freq_relative = 100 * nb_presences / nb_tokens\n",
        "    return freq_relative"
      ],
      "execution_count": null,
      "outputs": []
    },
    {
      "cell_type": "code",
      "metadata": {
        "id": "BmrAQ5f0KBUk"
      },
      "source": [
        "# 3.i\n",
        "def calcule_freq_relative_termes_cle(l):\n",
        "    global compteur\n",
        "    freq_relative_termes_cle = 0\n",
        "    liste_tokens = l['lemmes_sous_titres']\n",
        "    if isinstance(liste_tokens, list):\n",
        "        freq_relative_termes_cle = freq_relative_sous_sequences(liste_tokens, SOUS_SEQUENCES_CLE)\n",
        "        #print(\"%05d\" % (compteur), end=\"\\r\")\n",
        "        compteur += 1\n",
        "    return freq_relative_termes_cle"
      ],
      "execution_count": null,
      "outputs": []
    },
    {
      "cell_type": "code",
      "metadata": {
        "id": "ReeCsFYyKBUk"
      },
      "source": [
        "# 3.j\n",
        "compteur = 0\n",
        "df_videos['freq_relative_termes_cle'] = df_videos.apply(lambda l: calcule_freq_relative_termes_cle(l), axis=1)"
      ],
      "execution_count": null,
      "outputs": []
    },
    {
      "cell_type": "code",
      "metadata": {
        "id": "fKEvHnyFKBUl",
        "colab": {
          "base_uri": "https://localhost:8080/"
        },
        "outputId": "14480962-1600-497f-9b83-088dd6fbfefe"
      },
      "source": [
        "# 3.k\n",
        "df_videos_termes_cle = df_videos.loc[df_videos['presence_termes_cle']==1]\n",
        "print(len(df_videos_termes_cle))"
      ],
      "execution_count": null,
      "outputs": [
        {
          "output_type": "stream",
          "text": [
            "699\n"
          ],
          "name": "stdout"
        }
      ]
    },
    {
      "cell_type": "code",
      "metadata": {
        "id": "eZkFmAjBKBUl",
        "colab": {
          "base_uri": "https://localhost:8080/",
          "height": 621
        },
        "outputId": "061fe7bc-1fb8-45a0-e277-f56816b454ad"
      },
      "source": [
        "# 3.l\n",
        "df_videos_termes_cle.head()"
      ],
      "execution_count": null,
      "outputs": [
        {
          "output_type": "execute_result",
          "data": {
            "text/html": [
              "<div>\n",
              "<style scoped>\n",
              "    .dataframe tbody tr th:only-of-type {\n",
              "        vertical-align: middle;\n",
              "    }\n",
              "\n",
              "    .dataframe tbody tr th {\n",
              "        vertical-align: top;\n",
              "    }\n",
              "\n",
              "    .dataframe thead th {\n",
              "        text-align: right;\n",
              "    }\n",
              "</style>\n",
              "<table border=\"1\" class=\"dataframe\">\n",
              "  <thead>\n",
              "    <tr style=\"text-align: right;\">\n",
              "      <th></th>\n",
              "      <th>video_id</th>\n",
              "      <th>channel_id</th>\n",
              "      <th>titre</th>\n",
              "      <th>description</th>\n",
              "      <th>date_publication</th>\n",
              "      <th>durée</th>\n",
              "      <th>catégorie_YT</th>\n",
              "      <th>tags</th>\n",
              "      <th>nb_vues</th>\n",
              "      <th>nom_chaîne</th>\n",
              "      <th>sous_titres</th>\n",
              "      <th>nb_mots</th>\n",
              "      <th>mode_création</th>\n",
              "      <th>nb_vues_chaîne</th>\n",
              "      <th>catégorie_SP</th>\n",
              "      <th>langue_sous_titres</th>\n",
              "      <th>tkn_sous_titres</th>\n",
              "      <th>ent_sous_titres</th>\n",
              "      <th>lemmes_sous_titres</th>\n",
              "      <th>presence_termes_cle</th>\n",
              "      <th>freq_relative_termes_cle</th>\n",
              "    </tr>\n",
              "  </thead>\n",
              "  <tbody>\n",
              "    <tr>\n",
              "      <th>6</th>\n",
              "      <td>91v0G_v2VYs</td>\n",
              "      <td>UCckz6n8QccTd6K_xdwKqa0A</td>\n",
              "      <td>Édouard Philippe masqué devant l'Assemblée nat...</td>\n",
              "      <td>\"Les députés et les ministres devront porter u...</td>\n",
              "      <td>2020-06-23</td>\n",
              "      <td>PT46S</td>\n",
              "      <td>25.0</td>\n",
              "      <td>NaN</td>\n",
              "      <td>815.0</td>\n",
              "      <td>AFP</td>\n",
              "      <td>députés les ministres devront porter un masque...</td>\n",
              "      <td>49.0</td>\n",
              "      <td>generated</td>\n",
              "      <td>394905244</td>\n",
              "      <td>Médias centraux</td>\n",
              "      <td>fr</td>\n",
              "      <td>[(députés, 0, 0, député, NOUN, 0, False, 0), (...</td>\n",
              "      <td>[(francis vercamer d monsieur, 159, 186, PER)]</td>\n",
              "      <td>[député, ministre, devoir, porter, masque, pre...</td>\n",
              "      <td>1</td>\n",
              "      <td>8.333333</td>\n",
              "    </tr>\n",
              "    <tr>\n",
              "      <th>9</th>\n",
              "      <td>FogBL3V4UBg</td>\n",
              "      <td>UCckz6n8QccTd6K_xdwKqa0A</td>\n",
              "      <td>Première vague de chaleur post-déconfinement e...</td>\n",
              "      <td>Réservation obligatoire et distanciation physi...</td>\n",
              "      <td>2020-06-26</td>\n",
              "      <td>PT1M36S</td>\n",
              "      <td>25.0</td>\n",
              "      <td>NaN</td>\n",
              "      <td>277.0</td>\n",
              "      <td>AFP</td>\n",
              "      <td>une arme en les mains ou utiliser une solution...</td>\n",
              "      <td>114.0</td>\n",
              "      <td>generated</td>\n",
              "      <td>394905244</td>\n",
              "      <td>Médias centraux</td>\n",
              "      <td>fr</td>\n",
              "      <td>[(une, 0, 0, un, DET, 1, True, 0), (arme, 1, 4...</td>\n",
              "      <td>[(le soleil, 249, 258, LOC), (ballon rond, 377...</td>\n",
              "      <td>[arme, main, utiliser, solution, hydroalcooliq...</td>\n",
              "      <td>1</td>\n",
              "      <td>2.272727</td>\n",
              "    </tr>\n",
              "    <tr>\n",
              "      <th>12</th>\n",
              "      <td>KZX5S-9ZIJs</td>\n",
              "      <td>UCckz6n8QccTd6K_xdwKqa0A</td>\n",
              "      <td>REPLAY - Macron: \"Nous sommes en guerre sanita...</td>\n",
              "      <td>\"Nous sommes en guerre sanitaire\" a déclaré lu...</td>\n",
              "      <td>2020-03-16</td>\n",
              "      <td>PT20M59S</td>\n",
              "      <td>25.0</td>\n",
              "      <td>NaN</td>\n",
              "      <td>NaN</td>\n",
              "      <td>AFP</td>\n",
              "      <td>françaises français mes chers compatriotes jeu...</td>\n",
              "      <td>2637.0</td>\n",
              "      <td>generated</td>\n",
              "      <td>394905244</td>\n",
              "      <td>Médias centraux</td>\n",
              "      <td>fr</td>\n",
              "      <td>[(françaises, 0, 0, français, ADJ, 0, False, 0...</td>\n",
              "      <td>[(covin, 163, 168, LOC), (la france, 684, 693,...</td>\n",
              "      <td>[français, français, compatriote, jeudi, soir,...</td>\n",
              "      <td>1</td>\n",
              "      <td>0.270758</td>\n",
              "    </tr>\n",
              "    <tr>\n",
              "      <th>13</th>\n",
              "      <td>LnpXtFstLAw</td>\n",
              "      <td>UCckz6n8QccTd6K_xdwKqa0A</td>\n",
              "      <td>REPLAY - Covid-19: Macron promet des décisions...</td>\n",
              "      <td>En déplacement en Corse Emmanuel Macron a indi...</td>\n",
              "      <td>2020-09-10</td>\n",
              "      <td>PT36M37S</td>\n",
              "      <td>25.0</td>\n",
              "      <td>['AFP' 'agence france presse' 'news' 'info' 'a...</td>\n",
              "      <td>159.0</td>\n",
              "      <td>AFP</td>\n",
              "      <td>bonjour à toutes et tous j'enlève le masque pa...</td>\n",
              "      <td>5947.0</td>\n",
              "      <td>b_generated</td>\n",
              "      <td>394905244</td>\n",
              "      <td>Médias centraux</td>\n",
              "      <td>fr</td>\n",
              "      <td>[(bonjour, 0, 0, bonjour, NOUN, 0, False, 0), ...</td>\n",
              "      <td>[(mesdames messieurs, 131, 149, PER), (corse, ...</td>\n",
              "      <td>[bonjour, enlever, masque, être, bon, distance...</td>\n",
              "      <td>1</td>\n",
              "      <td>0.123153</td>\n",
              "    </tr>\n",
              "    <tr>\n",
              "      <th>14</th>\n",
              "      <td>LrtPbVRncnQ</td>\n",
              "      <td>UCckz6n8QccTd6K_xdwKqa0A</td>\n",
              "      <td>Quelques centaines de manifestants anti-masque...</td>\n",
              "      <td>\"L’imposer maintenant je ne trouve pas ça très...</td>\n",
              "      <td>2020-08-29</td>\n",
              "      <td>PT1M43S</td>\n",
              "      <td>25.0</td>\n",
              "      <td>['FRANCE' 'SANTÉ' 'VIRUS' 'ÉPIDÉMIE' 'MANIFEST...</td>\n",
              "      <td>639.0</td>\n",
              "      <td>AFP</td>\n",
              "      <td>des lois sont injustes pour quelles raisons au...</td>\n",
              "      <td>211.0</td>\n",
              "      <td>b_generated</td>\n",
              "      <td>394905244</td>\n",
              "      <td>Médias centraux</td>\n",
              "      <td>fr</td>\n",
              "      <td>[(des, 0, 0, un, DET, 1, True, 0), (lois, 1, 4...</td>\n",
              "      <td>[(ça allume la lampe, 913, 931, MISC)]</td>\n",
              "      <td>[loi, injuste, raison, virus, létal, personne,...</td>\n",
              "      <td>1</td>\n",
              "      <td>7.936508</td>\n",
              "    </tr>\n",
              "  </tbody>\n",
              "</table>\n",
              "</div>"
            ],
            "text/plain": [
              "       video_id  ... freq_relative_termes_cle\n",
              "6   91v0G_v2VYs  ...                 8.333333\n",
              "9   FogBL3V4UBg  ...                 2.272727\n",
              "12  KZX5S-9ZIJs  ...                 0.270758\n",
              "13  LnpXtFstLAw  ...                 0.123153\n",
              "14  LrtPbVRncnQ  ...                 7.936508\n",
              "\n",
              "[5 rows x 21 columns]"
            ]
          },
          "metadata": {
            "tags": []
          },
          "execution_count": 29
        }
      ]
    },
    {
      "cell_type": "markdown",
      "metadata": {
        "id": "IfcO91phKBUl"
      },
      "source": [
        "##### Aperçu rapide sur quelques vidéos, choisir quelques valeurs de idx dans exécutions de la cellule suivante"
      ]
    },
    {
      "cell_type": "code",
      "metadata": {
        "id": "lLAFCNF1KBUm",
        "colab": {
          "base_uri": "https://localhost:8080/"
        },
        "outputId": "0d840ef3-13d5-477d-88a2-e291bf068e46"
      },
      "source": [
        "# 3.m\n",
        "idx = 234\n",
        "l_tokens = df_videos_termes_cle.iloc[idx]['lemmes_sous_titres']\n",
        "print(l_tokens)\n",
        "print(len(l_tokens))\n",
        "print('----------------------')\n",
        "presence = df_videos_termes_cle.iloc[idx]['presence_termes_cle']\n",
        "freq_relative = df_videos_termes_cle.iloc[idx]['freq_relative_termes_cle']\n",
        "print(\"présence: %d - fréq. relative %.2f\" % (presence, freq_relative))"
      ],
      "execution_count": null,
      "outputs": [
        {
          "output_type": "stream",
          "text": [
            "['être', 'centre', 'médical', 'site', 'veolia', 'changy', 'hier', 'dizaine', 'infirmier', 'prendre', 'possession', 'local', 'objectif', 'tester', '280', 'salarié', 'entreprise', 'découverte', 'cas', 'comics', '19', 'employé', 'passage', 'dépister', 'bout', 'forcément', 'spécialement', 'inquiet', 'matériel', 'masque', 'matériel', 'désinfecter', 'camion', 'gant', 'spécialement', 'inquiet', 'bon', 'rassurant', 'faire', 'test', 'salarié', 'contaminé', 'contracter', 'virus', 'obsèque', '6', 'juin', 'diagnostic', 'mise', 'isolément', 'collègue', 'tester', 'positif', 'travailler', 'étage', 'bâtiment', 'falloir', 'agir', 'vite', 'stopper', 'chaîne', 'transmission', 'travailler', 'faire', 'cercle', 'contact', 'épisode', 'identifier', 'ensemble', 'personnel', 'test', 'généraliter', 'entreprise', 'proposer', 'ensemble', 'collaborateur', 'rappeler', 'cas', 'avérer', 'prendre', 'décision', 'alerter', 'rs', 'fois', 'prélèvement', 'effectuer', 'employé', 'répondre', 'question', 'identifier', 'éventuel', 'cas', 'contact', 'tester', 'positif', 'contact', 'personne', 'vivre', 'travail', 'vie', 'personnel', 'instant', 'cas', 'kobe', 'recenser', 'entreprise', 'traitement', 'déchet', 'campagne', 'test', 'termine', 'lundi']\n",
            "112\n",
            "----------------------\n",
            "présence: 1 - fréq. relative 0.89\n"
          ],
          "name": "stdout"
        }
      ]
    },
    {
      "cell_type": "markdown",
      "metadata": {
        "id": "Dchc4XlDKBUm"
      },
      "source": [
        "### Pour gensim, utilisé tant pour la similarité que pour l'analyse de topics\n",
        "#### on va créer la matrice (document, terme) des sous-titres (plus l'équivalent pour le texte de référence)\n",
        "##### Gensim utilise des dictionnaires associant chaînes de caractères à index en interne, d'où travailler sur les lemmes"
      ]
    },
    {
      "cell_type": "markdown",
      "metadata": {
        "id": "k4TP0J0FKBUm"
      },
      "source": [
        "#### Mais auparavant, récupération du texte de référence (dépendant du sujet de référence)"
      ]
    },
    {
      "cell_type": "code",
      "metadata": {
        "id": "o3YkquedKBUn"
      },
      "source": [
        "# 4.a\n",
        "chemin_nom_reference = \"/content/drive/My Drive/Datasets NLP/COVID 19/texte_reference_controverse_coronavirus.txt\""
      ],
      "execution_count": null,
      "outputs": []
    },
    {
      "cell_type": "code",
      "metadata": {
        "id": "STL_YBjaKBUn"
      },
      "source": [
        "# 4.b\n",
        "fichier_ref = open(chemin_nom_reference, 'r', encoding='utf8')\n",
        "texte_ref = fichier_ref.read()\n",
        "fichier_ref.close()"
      ],
      "execution_count": null,
      "outputs": []
    },
    {
      "cell_type": "code",
      "metadata": {
        "id": "BHxINMY2KBUn",
        "colab": {
          "base_uri": "https://localhost:8080/"
        },
        "outputId": "f4605b76-1ee7-4aa9-d5c3-6a80a28dd361"
      },
      "source": [
        "print(texte_ref)"
      ],
      "execution_count": null,
      "outputs": [
        {
          "output_type": "stream",
          "text": [
            "La pandémie de Covid-19 en France est une crise sanitaire majeure provoquée par une maladie infectieuse émergente apparue fin 2019 en Chine continentale, la maladie à coronavirus 2019 (Covid-19), dont l'agent pathogène est le SARS-CoV-2. Ce virus est à l'origine d'une pandémie, déclarée le 11 mars 2020 par l'Organisation mondiale de la santé.\n",
            "\n",
            "Lorsque la pandémie arrive en Europe, la France est touchée comme d'autres pays voisins même si l'Allemagne est plus résiliente.\n",
            "\n",
            "En France, elle est associée à une surmortalité journalière de 33 % entre le 1er mars et le 30 avril 2020 comparée aux valeurs moyennes des années 2000 à 2019 : « 2 120 décès ont été recensés en moyenne chaque jour par l'état civil, contre 1 590 en moyenne entre 2000 et 2019 ».\n",
            "\n",
            "Le 24 janvier 2020, trois premiers cas sont recensés sur le territoire métropolitain. À la mi-mars 2020, afin de stopper la diffusion exponentielle du coronavirus et pour réduire le plus possible le nombre de personnes atteintes et donc de morts, la population est confinée à domicile et tous les lieux recevant du public non indispensables à la vie du pays sont fermés. Les mesures de confinement sont levées entre la mi-mai et la mi-juillet. Puis, avec une nouvelle augmentation du nombre de cas, un nouveau confinement est décrété en novembre.\n",
            "\n",
            "Cette épidémie est plus meurtrière que les épidémies de grippe saisonnière du XXIe siècle en France. Il faut remonter à la grippe asiatique (1957-1958) et à la grippe de Hong Kong (1968-1969) pour trouver des épidémies de grippe saisonnière qui auraient fait plus ou autant de victimes en France que la Covid-19, épidémies durant lesquelles il ne fut pratiqué aucun confinement.\n",
            "\n",
            "Au 8 décembre 2020, le bilan des seuls centres hospitaliers participant au système d’information pour le suivi des victimes et signalements liés à la Covid-19 dans les établissements médico-sociaux publié quotidiennement par l'Agence nationale de santé publique fait état d'un cumul de 56 352 morts et 2 309 621 cas positifs ont été confirmés par réaction de polymérisation en chaîne (polymerase chain reaction, PCR). Quelques millions de personnes ont été infectées depuis le début de la pandémie en France. \n",
            "\n",
            "\n",
            "\n",
            "Controverse autour des masques sanitaires\n",
            "\n",
            "En 2009, l'État détenait 723 millions de masques de protection FFP2 et 1 milliard de masques chirurgicaux, puis, à partir de 2011, la décision a été prise et « mise en œuvre par le ministre chargé de la santé, sur le fondement de la doctrine développée par le SGDSN et les avis du HCSP » de ne pas renouveler certains stocks arrivant à péremption car il était supposé qu'en cas de besoin soudain les usines de production auraient été capables d'être réactives très rapidement, notamment en Chine. Pour le ministre de la Santé, Olivier Véran, l’État dispose en 2020 d'un stock de 150 millions de masques chirurgicaux et d'aucun stock de masques de protection FFP2.\n",
            "\n",
            "Début mars 2020, des professionnels de la santé pointent l'absence de réserves et le manque de prévision de l'exécutif, alors que les autorités politiques et sanitaires avaient déclaré que les masques n'étaient d'aucune utilité pour une grande partie de la population. Dix millions de masques sont déstockés, mais il ne s'agit pas des masques dont ont besoin du personnel de santé, qui sont des masques FFP2. Selon Nicolas Brillat, directeur de l'exploitation de l'un des principaux fabricants du secteur, les autorités avaient été alertées depuis six semaines.\n",
            "\n",
            "Le 3 mars, les masques sont réquisitionnés pour les hôpitaux et les soignants.\n",
            "\n",
            "Sur la question des masques, l'Italie a demandé une aide. La Commission européenne laisse entendre que la position des gouvernements français et allemand ne serait pas complètement compatible avec la logique du marché commun : la France souhaite « lutter contre la spéculation et garder les masques pour son personnel médical, les chercheurs en laboratoire et les malades », tandis que l'Allemagne, en interdisant leur exportation, qu'ils soient disponibles sur place afin que « quiconque le souhaitait [puisse] s'approvisionner pour constituer des stocks ».\n",
            "\n",
            "Le ministre des Affaires étrangères, Jean-Yves Le Drian annonce le 18 mars que la Chine va livrer deux millions de masques chirurgicaux et 200 000 masques de type N95 à l'Union européenne. En France, les besoins hebdomadaires en masques pour le personnel soignant sont estimés à 40 millions d'unités.\n",
            "\n",
            "Dans une tribune du 24 mars dans Libération, Serge Galam, physicien, chercheur émérite au CNRS et au CEVIPOF, dénonce les errements du discours officiel justifiant l'inutilité du port du masque pour la population.\n",
            "\n",
            "Le 3 mai, le site Reflets.info dénonce le discours mensonger du gouvernement sur l'interdiction de vente de masques, ayant servi à masquer son incapacité à s'en fournir suffisamment, alors que des filières existaient. Cela a également favorisé la grande distribution au détriment des pharmacies.\n",
            "\n",
            "Sur le plan scientifique seuls les masques FFP2 et FFP3 ont fait la preuve de leur efficacité dans la protection des porteurs, les masques chirurgicaux ne faisant que protéger l'entourage des gouttelettes émises. Au vu de ces données, l'OMS a longtemps déconseillé l'usage de masques dans l'espace public, craignant les effets pervers de leur mésusage selon les contextes nationaux et sociaux. Le 5 juin, l'OMS modifie néanmoins ses préconisations et, tout en rappelant que le masque en lui-même ne protège pas contre le virus, conseille désormais le port du masque dans les espaces confinés et là où la distanciation physique ne peut pas être respectée. Le Danemark, qui a mis en place très tôt des mesures de dépistage et qui préconise le respect des mesures barrière, continue à déconseiller le port du masque dans l'espace public.\n",
            "\n",
            "Tests virologiques\n",
            "\n",
            "L'insuffisance des capacités de test et proposition d'utiliser les laboratoires d'analyse vétérinaire. D'après le journal Le Point du 3 avril, les Agences régionales de santé auraient refusé d'utiliser les capacités techniques des laboratoires départementaux d'analyse pour « des motifs flous ». Pourtant l'Organisation mondiale de la santé préconise le test systématique des cas suspects et les gouvernements allemands, belges et espagnols mobilisent toutes les ressources disponibles pour les réaliser, y compris les laboratoires vétérinaires. Alors que l'Allemagne peut effectuer 500 000 tests par semaine au 26 mars (pour une capacité en France de 28 000 tests par semaine au 22 mars) et que les laboratoires départementaux auraient la capacité de réaliser, sous un délai de 15 jours, entre 150 000 et 300 000 tests PCR par semaine, le journal Le Point affirme que le gouvernement n'aurait pas répondu depuis mi-mars. Ces laboratoires départementaux ne connaîtraient pas la pénurie de réactifs à laquelle sont confrontés les laboratoires de santé humaine. « Faute de consigne claire du gouvernement » d'après un dirigeant d'une entreprise qui fabrique des réactifs de diagnostics pour la détection de maladies infectieuses, ces stocks sont vendus à ceux qui en font la demande, en Allemagne notamment.\n",
            "\n",
            "Gels hydroalcooliques\n",
            "\n",
            "Selon Que choisir, entre le 25 novembre 2019 et le 5 mars 2020, l'épidémie de Covid-19 a fait exploser la demande en gels hydroalcooliques et augmenter les tarifs (+30 % pour un flacon de 75 ml et +32 % pour un flacon de 250 ml en moyenne).\n",
            "\n",
            "Un décret est publié au Journal officiel le 6 mars 2020 : « Le décret encadrant les prix de vente des gels hydroalcooliques entre en vigueur aujourd'hui pour éviter toute spéculation. Il plafonne le prix des flacons de 50 ml à 2 €, ceux de 100 ml à 3 €, ceux de 300 ml à 5 € et le litre à 15 €. De plus, le Gouvernement autorise, à compter du 6 mars, la préparation par les pharmacies des solutions hydroalcooliques destinées à l'hygiène humaine, en cas de rupture de leur approvisionnement ». Les gels hydroalcooliques et antibactériens sont durablement en rupture de stock en grandes surfaces, parapharmacies et pharmacies. Toutefois, certaines pharmacies affirment avoir dû annuler des commandes de gels, vendus trop cher par les fournisseurs par rapport aux prix de revente fixés par le décret du gouvernement.\n",
            "\n",
            "Un décret publié le 25 avril 2020 au Journal officiel, réduit de nouveau le prix des gels à 1,76 € pour 50 ml, 2,64 € pour 100 ml, 4,40 € pour 300 ml et 13,19 € le litre. Cette disposition, prolongée à plusieurs reprises, est en vigueur jusqu'au 10 janvier 2021.\n",
            "\n",
            "En mars-avril 2020, les entreprises productrices de gels hydroalcooliques ont dû s'adapter à cette forte demande conjuguée à un prix des produits finis plafonné. Ainsi toutes les entreprises ont dû transformer leur production pour éviter qu'il n'y ait de pénurie. Les producteurs ont pu, pour cela, augmenter les cadences de production ou encore affecter de nouvelles chaînes de production aux gels antibactériens. Certaines usines se sont reconverties pour pallier le manque, tels que LVMH ou « L'Occitane » à Manosque.\n",
            "\n",
            "Controverses sur l'hydroxychloroquine\n",
            "\n",
            "À la suite d'études observationnelles pourtant contradictoires et controversées sur les effets de l'hydroxychloroquine menées en Chine puis à l'IHU de Marseille et médiatisées par Didier Raoult, plusieurs médecins dont Philippe Douste-Blazy demandent l'assouplissement des possibilités de prescription en milieu hospitalier. L'essai clinique Discovery, lancé par l'Inserm, est critiqué notamment par Christian Perronne, qui lui reproche de ne pas tester le protocole exact proposé par Didier Raoult. Les auteurs d'une étude de l'hôpital de Garches tendant à prouver l'intérêt du protocole de Marseille, ont retiré leur pré-print et souhaitent corriger leur manuscrit après revue par les pairs.\n",
            "\n",
            "Entre le 26 mars et le 26 mai, par dérogation, l'hydroxychloroquine et l'association lopinavir/ritonavir peuvent être prescrits, dispensés et administrés sous la responsabilité d'un médecin aux patients atteints par la Covid-19, dans les établissements de santé qui les prennent en charge, ainsi que, pour la poursuite de leur traitement si leur état le permet et sur autorisation du prescripteur initial, à domicile.\n",
            "\n",
            "Le 22 mai, The Lancet publie une étude rétrospective de 96 032 dossiers de patients hospitalisés sur six continents, dirigée par Mandeep R. Mehra. Elle trouve une corrélation entre les traitements utilisant de la chloroquine ou de l'hydroxychloroquine, et une augmentation de la mortalité hospitalière ainsi que de l'arythmie cardiaque. Dans la foulée de cet article, l'Organisation mondiale de la santé et le Haut Conseil de la santé publique prennent position contre l'utilisation de la molécule.\n",
            "\n",
            "Les polémiques se poursuivent tant à propos des conflits d'intérêt des principaux auteurs de l'étude du Lancet avec l'industrie pharmaceutique que du fait des biais présentés par cette étude. Pendant ce temps, l'IHU Méditerranée publie le 27 mai un abstract sur une cohorte de plus de 3 500 patients, suivie à Marseille.\n",
            "\n",
            "Le 2 juin 2020, The Lancet émet une « mise en garde » (expression of concern) sur l'intégrité des données, et indique que, « bien qu’un audit indépendant sur la provenance et la validité des données ait été commandé par les auteurs non affiliés à Surgisphere et soit en cours », cette « mise en garde » correspond aux « très nombreuses critiques » suscitées par l'étude. Le 3 juin, l'OMS annonce qu'elle revient sur son retrait à sa participation aux essais sur l'hydroxychloroquine. Le 4 juin, 3 des 4 auteurs rétractent leur publication, car ils n'ont pas réussi à effectuer un audit indépendant des données.\n",
            "\n",
            "En juillet-août 2020 il se dessine un consensus international grandissant selon lequel l'hydroxychloroquine n'est pas le médicament indiqué contre la Covid-19. Ceci est en accord avec les résultats des études précliniques de cette période qui, selon la coopération internationale de scientifiques de plus de 80 pays, démontrent qu'un effect clinique de l'hydroxychloroquine contre le Covid-19 est improbable. \n",
            "\n",
            "Opinion publique\n",
            "\n",
            "Dans une étude Ifop réalisée par internet les 27 et 28 février, 61 % des sondés se disent inquiets face à la pandémie.\n",
            "\n",
            "Selon une enquête de l'institut Elabe parue le 25 mars, les cotes de popularité d'Emmanuel Macron et d'Édouard Philippe progressent, mais 73 % des Français estiment que le gouvernement n'est pas à la hauteur.\n",
            "\n",
            "Le 25 mars, 56 % des Français interrogés évoquent une mauvaise gestion de la crise de la Covid-19 par le gouvernement.\n",
            "\n",
            "Selon un sondage Ifop-Fiducial réalisé le 26 et 27 mars, 26 % des personnes questionnées estiment que le gouvernement « a agi rapidement », 34 % qu'il « donne tous les moyens aux infrastructures et professionnels de santé pour lutter contre ce virus » et 72 % qu'il « a caché certaines informations ».\n",
            "\n",
            "Le 29 mars, une mobilisation semble naître sur les réseaux sociaux avec des hashtags comme #OnNoublieraPas. Ces réactions expriment pour le sociologue Pascal Froissart « un mouvement de défiance contre les institutions ».\n",
            "\n",
            "En mai 2020, les Français ont été l'un des peuples les plus critiques envers leur gouvernement en Europe, selon un sondage montrant 66 % de désapprobation.\n",
            "\n",
            "Au début du mois d'août, 85 % des Français se disent favorables au port du masque dans les lieux publics clos. Cependant, une contestation existe sur les réseaux sociaux et plusieurs pétitions sur le sujet commencent à circuler à la même période. À partir du mois d'octobre, des mouvements de protestation s'élèvent, parlant de dictature sanitaire. \n",
            "\n",
            "Commissions d'enquête parlementaires\n",
            "\n",
            "Au sein de l’Assemblée nationale, la mission d’information sur la gestion et les conséquences dans toutes ses dimensions de l'épidémie de Covid-19 est créée le 17 mars 2020. Elle prend par la suite les prérogatives d’une commission d’enquête parlementaire.\n",
            "\n",
            "Le Sénat a aussi créé sa commission d’enquête parlementaire fin juin.\n",
            "Cour de justice de la République\n",
            "\n",
            "La cour de justice de la République est saisie sur l'action de plusieurs ministres.\n",
            "\n",
            "La manière dont le gouvernement français gère la crise du coronavirus suscite des critiques. Parmi les principaux points dénoncés se trouvent le maintien des élections municipales, « considéré par de nombreux médecins comme une erreur du gouvernement dans la lutte contre l'épidémie de Covid-19 », la pénurie de masques, l'impréparation et la gestion gouvernementale de la pandémie. Au 12 mai 2020, 63 plaintes ont été déposées par des particuliers et des associations médicales devant la Cour de justice de la République contre le Premier ministre Édouard Philippe, Christophe Castaner, l’ancienne ministre de la Santé, Agnès Buzyn, et Olivier Véran, l'actuel ministre de la Santé.\n",
            "\n",
            "Le 4 juillet 2020, la Cour de justice de la République, qui a considéré recevables neuf plaintes sur les quatre-vingt-dix qu'elle a reçues, ouvre une enquête judiciaire sur la gestion de la crise de Covid-19 par les ex-ministres Édouard Philippe, Olivier Véran et Agnès Buzyn. Elle a pour mission de déterminer si leur gestion de la crise sanitaire liée à l'épidémie de coronavirus n'est pas entachée d'infractions pénales. Le 7 juillet 2020, l'enquête judiciaire relative à la gestion ministérielle de la crise des coronavirus contre les trois responsables a été ouverte.\n",
            "\n",
            "Une association de victimes du Covid-19, Victimes Coronavirus France, qui réunit 200 personnes, a décidé de porter plainte contre Jean Castex devant la Cour de justice de la République (CJR).\n",
            "\n",
            "Le président de la République a qualifié d'irresponsables ceux qui « cherchent déjà à faire des procès, alors que nous n'avons pas encore gagné la guerre ».\n",
            "\n",
            "Le 15 octobre 2020, les domiciles de l’ancien premier ministre Edouard Philippe, de l’actuel ministre de la santé, Olivier Véran, de sa prédécesseure à ce poste, Agnès Buzyn, de l’ancienne porte-parole du gouvernement Sibeth Ndiaye, et du directeur général de la santé, Jérôme Salomon, ont été perquisitionnés par les gendarmes de l’Office central de lutte contre les atteintes à l’environnement et à la santé publique (Oclaesp) dans le cadre de l’information judiciaire ouverte par la Cour de justice de la République (CJR) sur la gestion de la crise sanitaire».\n",
            "Enquête préliminaire sur l'action des administrations\n",
            "\n",
            "Le 8 juin 2020, l'action des administrations fait l'objet d'une enquête préliminaire ouverte par le parquet de Paris, et confiée à l’office central de lutte contre les atteintes à l'environnement et à la santé publique sur la gestion de la crise. Le parquet de Paris a reçu plusieurs dizaines de plaintes ciblant parfois des responsables de l'administration. Au 31 août 2020, il avait reçu 170 plaintes, dont quatre ont donné lieu à des enquêtes distinctes visant des Ehpad de la capitale. L'enquête préliminaire est ouverte pour, \"homicides involontaires\" ou \"mise en danger de la vie d'autrui\". Cinq mois après avoir l'ouverture une de l'enquête préliminaire sur des faits liés à la gestion de l’épidémie de Covid-19 en France au cours du premier semestre 2020, le pôle santé publique du parquet de Paris a décidé, mardi 10 novembre 2020, de transmettre ses investigations à des juges d’instruction. Quatre informations judiciaires sont ouvertes pour «abstention volontaire de combattre un sinistre, de mise en danger de la vie d’autrui et d’homicides et blessures involontaires» regroupent 253 plaintes mettant en cause des décideurs et organismes publics.\n",
            "\n",
            "Le 5 juillet 2020, dans un rapport de vingt pages, la Fédération nationale des sapeurs-pompiers dénonce une mauvaise administration de la crise du Covid-19. \n",
            "\n"
          ],
          "name": "stdout"
        }
      ]
    },
    {
      "cell_type": "markdown",
      "metadata": {
        "id": "rqM79SyxOUyE"
      },
      "source": [
        "###### procéder à l'analyse syntaxique du texte de référence"
      ]
    },
    {
      "cell_type": "code",
      "metadata": {
        "id": "mkOGYORLKBUn"
      },
      "source": [
        "# 4.d\n",
        "# construction d'une liste de lemmes pour analyses sacs de mots\n",
        "# l'analyse linguistique a déjà été faite par spacy, on en passe le résultat (tokens_spacy)\n",
        "def cree_l_lemmes_sur_resultat_brut_spacy(tokens_spacy):\n",
        "\n",
        "  l_lemmes = []  \n",
        "  for token in tokens_spacy:\n",
        "    lemme = selectionne_lemme(token.lemma_, token.pos_, token.is_stop)\n",
        "    if lemme != '':\n",
        "      l_lemmes.append(lemme)\n",
        "  return l_lemmes"
      ],
      "execution_count": null,
      "outputs": []
    },
    {
      "cell_type": "code",
      "metadata": {
        "id": "jGFAexa-KBUo"
      },
      "source": [
        "# 4.e\n",
        "# performer l'analyse syntaxique spacy et en déduire le sac de lemmes\n",
        "tokens_nlp_ref = nlp(texte_ref)\n",
        "l_tokens_ref_normes = cree_l_lemmes_sur_resultat_brut_spacy(tokens_nlp_ref)\n",
        "# besoin d'une \"anti-normalisation\" pour aligner le texte sur les caractéristiques des sous-titres\n",
        "# s'aligner sur la mauvaise qualité des sous-titres, et passer tout en minuscule\n",
        "# (mais pas les sigles, à voir)\n",
        "# et éliminer les symboles '—' et '«' (il n'y a pas la fermante)\n",
        "l_tokens_ref = []\n",
        "for token_norme in l_tokens_ref_normes:\n",
        "    token = token_norme.lower()\n",
        "    if token not in ['—', '«']:\n",
        "        l_tokens_ref.append(token)"
      ],
      "execution_count": null,
      "outputs": []
    },
    {
      "cell_type": "markdown",
      "metadata": {
        "id": "CFPHOetlKBUo"
      },
      "source": [
        "##### opérations de constructions d'objets à gensim"
      ]
    },
    {
      "cell_type": "code",
      "metadata": {
        "id": "QKTPOe6GKBUp"
      },
      "source": [
        "# 4.f\n",
        "# parcourir l'ensemble du dataframe pour obtenir les données de la matrice document / termes\n",
        "# sous la forme d'une liste par documents de vecteurs de termes \n",
        "# on stocke une liste de listes de termes (ici les lemmes), vidéo par vidéo\n",
        "mat_doc_tokens_ss_titres = []\n",
        "\n",
        "# parcourir les vidéos\n",
        "for ix_video, l_tokens in df_videos['lemmes_sous_titres'].iteritems():\n",
        "    \n",
        "    mat_doc_tokens_ss_titres.append(l_tokens)\n",
        "    #print(\"%05d\" % (ix_video), end=\"\\r\")\n",
        "    \n",
        "# rajouter en dernier le texte de référence\n",
        "mat_doc_tokens_ss_titres.append(l_tokens_ref)\n",
        "\n",
        "# création d'un dictionnaire donnant le terme à partir de son identifiant numérique\n",
        "dico_termes_ss_titres = corpora.Dictionary(mat_doc_tokens_ss_titres)\n",
        "\n",
        "# conversion en une liste de vecteurs fréquence des termes sur documents \n",
        "# représentés sous la forme (id numérique du terme, fréquence du terme dans le document)\n",
        "# les fréquences à 0 n'y sont pas présentes\n",
        "mat_doc_termes_freq_ss_titres = [dico_termes_ss_titres.doc2bow(l_tokens) \\\n",
        "                                 for l_tokens in mat_doc_tokens_ss_titres]"
      ],
      "execution_count": null,
      "outputs": []
    },
    {
      "cell_type": "code",
      "metadata": {
        "id": "AQuZKJ1nKBUp",
        "colab": {
          "base_uri": "https://localhost:8080/"
        },
        "outputId": "acda5b94-c82d-40a7-9a73-804e9d20ce61"
      },
      "source": [
        "# 4.g\n",
        "# examiner les objets créés (et stocker taille de corpus et taille de dico)\n",
        "taille_corpus = len(mat_doc_tokens_ss_titres)\n",
        "print(\"taille du corpus : %d textes\" % (taille_corpus))\n",
        "# vaut le nombre de vidéos dans l'échantillon, plus 1, le texte de référence\n",
        "\n",
        "# conserver aussi le nombre de vidéos avec présence du terme clé\n",
        "taille_corpus_avec_termes_cle = len(df_videos_termes_cle)\n",
        "print(\"dont vidéos avec termes clé : %d textes\" % \\\n",
        "      (taille_corpus_avec_termes_cle))\n",
        "\n",
        "# prendre deux trois indices (numéros de documents)\n",
        "idx = 100\n",
        "print(\"tokens pour document %d :\" % (idx), mat_doc_tokens_ss_titres[idx])\n",
        "print(\"termes et fréquences pour document %d :\" % (idx), mat_doc_termes_freq_ss_titres[idx])\n",
        "taille_dico = len(dico_termes_ss_titres)\n",
        "print(\"dico termes ss titres : %d termes dans le dictionnaire\" % (taille_dico))\n",
        "for i in range(1000,1010): print(i, dico_termes_ss_titres[i])"
      ],
      "execution_count": null,
      "outputs": [
        {
          "output_type": "stream",
          "text": [
            "taille du corpus : 1343 textes\n",
            "dont vidéos avec termes clé : 699 textes\n",
            "tokens pour document 100 : ['union', 'européen', 'limiter', 'exportation', 'masquer', 'équipement', 'médical', 'protection', 'garantir', 'propre', 'approvisionnement', 'face', 'pandémie', 'devoir', 'coronavirus', 'gerald', 'cardiaque', 'médecin', 'urgentiste', 'bonsoir', 'réagir', 'direction', 'arte', 'france', 'chiffre', 'venir', 'tomber', 'record', 'décès', 'italie', '24', 'heure', '368', 'décès', '24', 'heure', 'record', 'jour', 'réaction', 'rapport', 'chiffre', 'voir', 'épidémie', 'progresse', 'italie', 'mesure', 'confinement', 'falloir', 'regarder', 'détail', 'décéder', 'fois', 'donner', 'donnée', 'brut', 'décès', 'savoir', 'france', 'jour', 'koror', 'coronavirus', 'sûr', 'yer', '1700', 'décès', 'jour', 'falloir', 'aller', 'recontextualiser', 'voir', 'nom', 'nombre', 'décès', 'augmente', 'revanche', 'italie', 'mesure', 'confinement', 'vouloir', 'système', 'santé', 'peut-être', 'saturation', 'engager', 'aller', 'accélérer', 'voir', 'changer', 'avis', 'cas', 'modérer', 'discours', 'semaine', 'voir', 'passer', 'italie', 'falloir', 'clairement', 'prépare', 'chose', 'voisin', 'italien', 'vouloir', 'vouloir', 'préparer', 'dépasser', 'crise', 'coronavirus', 'dépasser', 'faute', 'moyen', 'hôpital', 'public', 'regarde', 'chiffre', 'mortalité', '2', '1', 'pourcent', '1', 'pourcent', 'problème', 'patient', 'affecter', '99', 'pourcent', 'guérir', 'vrai', 'avoir', 'pourcent', 'malade', 'besoin', 'réanimation', 'avoir', 'appeler', 'taux', 'd', 'attaque', 'énormément', 'personne', 'population', '15', 'million', 'hypothèse', '15', 'million', 'jean', 'michel', 'blanquer', 'remettre', 'éducation', 'national', 'parler', 'moitié', '50', 'pourcent', 'français', '30', 'million', 'prendre', 'hypothèse', 'bas', '15', 'million', '1', 'pourcent', 'nécessite', 'réanimation', '15', 'million', 'personne', 'besoin', 'réanimation', 'capacité', 'leçon', '15000', 'place', 'réanimation', 'vouloir', 'vouloir', 'prendre', 'patient', 'charge', 'stratégie', 'gouvernement', 'début', 'crise', 'freiner', 'ralentir', 'aplatir', 'vague', 'risque', 'submerger', 'vague', 'pouvoir', 'passer', 'semaine', 'mois', 'éventuellement', 'pouvoir', 'lisser', 'chose', '150', 'malade', 'partir', 'pose', 'hypothèse', 'appui', 'savoir', 'place', 'réanimation', 'prendre', 'semaine', 'avoir', 'place', 'prendre', 'dizaine', 'semaine', 'espérer', 'pouvoir', 'absorber', 'flux', 'patient', 'entendre', 'annonce', 'union', 'européen', 'limitation', 'exportation', 'masque', 'équipement', 'médical', 'annoncer', 'azimut', 'justement', 'moyen', 'falloir', 'donner', 'système', 'santé', 'regard', 'yer', 'chose', 'stratégie', 'venir', 'freiner', 'arrivée', 'malade', 'partie', 'concomitant', 'évidemment', 'préparer', 'hôpital', 'libérer', 'lit', 'libérer', 'place', 'réanimation', 'voir', 'place', 'disponible', 'moment', 'pouvoir', 'monter', 'puissance', 'franchisé', 'conte', '15', 'lit', 'réanimation', 'lit', 'soin', 'intensif', 'mobiliser', 'respirateur', 'monter', 'puissance', 'enjeu', 'plan', 'blanc', 'hôpital', 'jour', 'territoire', 'national', 'semaine', 'région', 'grand', 'test', 'permettre', 'monter', 'puissance', 'progressivement', 'falloir', 'penser', 'réanimation', 'hôpital', 'appeler', 'hôtel', '-', 'dieu', 'cas', 'délicat', 'délit', 'réouvrir', 'extrêmement', 'rapidement', 'centaine', 'lit', 'falloir', 'prendre', 'région', 'france', 'mesure', 'pouvoir', 'réarmer', 'hôpital', 'pouvoir', 'accueillir', 'malade', 'peut-être', 'libérer', 'place', 'réanimation', 'fois', 'malade', 'petit', 'mieux', 'suffisamment', 'rentrer', 'maison', 'malade', 'grave', 'simplement', 'malade', 'coroner', 'positif', 'infarctus', 'problème', 'santé', 'haut', 'nécessiter', 'hospitalisation', 'yer', 'question', 'moyen', 'masque', 'fondamental', 'protéger', 'soignant', 'maillon', 'faible', 'système', 'gallery', 'yer', 'soignant', 'mettre', 'tapis', 'mettre', 'parterre', 'emblée', 'soignant', 'risque', 'contact', 'sortir', 'garde', 'contact', 'permanence', 'falloir', 'avoir', 'masque', 'clair', 'masque', 'devenir', 'denrée', 'clair', 'falloir', 'réserver', 'troupe', 'soignant', 'france', 'poser', 'question', 'faire', 'expérience', 'stock', 'envoyer', 'constituer', 'cas', 'instant', 'priorité', 'falloir', 'monde', 'aller', 'sens', 'arriver', 'gerald', '15', 'acte', 'entendre', 'médecin', 'cloche', 'médecin', 'colère', 'hypothèse', 'médecin', 'colère', 'libéral', 'dire', 'masque', 'vrai', 'problème', 'fois', 'falloir', 'revenir', 'crise', 'objectif', 'mobilisation', 'service', 'santé', 'mobilisation', 'mesure', 'laver', 'main', 'paraître', 'idiot', 'laver', 'main', 'distance', 'personne', 'limité', 'transport', 'confinement', 'italien', 'chinois', 'heure', 'jour', 'moyen', 'transmettre', 'virus', 'prochain', 'individu', 'ensemble', 'société', 'histoire', 'barrière', '70', 'an', 'président', 'république', '70', 'an', 'risque', 'vrai', 'risque', 'an', 'maladie', 'sévère', 'chronique', 'invalidant', 'falloir', 'prendre', 'mesure', 'sérieux', 'ensemble', 'individu', 'france', 'partout', 'europe', 'partout', 'monde', 'aller', 'appliquer', 'geste', 'barrière', 'histoire', '70', 'an', 'monde', 'appliquer', 'fois', 'bon', 'nouveau', 'répondre', 'interrogation', 'arriver', 'faire', 'arriver', 'fois', 'juguler', 'épidémie', 'enrayer', 'transmission', 'mesure', 'distance', 'social', 'faire', 'préparer', 'système', 'santé', 'chose', 'concomitant', 'permettre', 'lisser', 'amortir', 'choc', 'demain', 'boule', 'cristal', 'changer', 'dernier', 'semaine', 'envoyer', 'vague', 'arriver', 'chine', 'penser', 'problème', 'chine', 'chinois', 'apercevoir', 'arriver', 'italie', 'rapidement', 'mettre', 'oeuvre', 'chose', 'savoir', 'apprendre', 'jour', 'marcher', 'virus', 'découvrir', 'chose', 'durée', 'incubation', 'clair', 'mode', 'transmission', 'clair', 'falloir', 'évolue', 'temps', 'avancer', 'temps', 'retard', 'dernier', 'question', 'gérard', 'cazaux', 'temps', '50', '70', 'pourcent', 'population', 'toucher', 'coroner', 'russe', 'ge', 'michel', 'blanc', 'terre', 'falloir', 'alarmer', 'coût', 'chiffre', 'anxiogène', 'anxiogène', 'virus', 'touche', 'mourir', 'cas', 'fois', '90', '99', 'pourcent', 'population', 'contaminer', 'virus', 'sortir', 'symptôme', 'perturbant', 'population', 'virus', 'dangereux', 'dangereux', 'virulence', 'gravité', 'individuel', 'petit', 'pourcentage', 'personne', 'présenter', 'complication', 'petit', 'pourcentage', 'an', 'énorme', 'population', 'toucher', 'petit', 'pourcentage', 'devenir', 'devenir', 'grand', 'nombre', 'malade', 'falloir', 'falloir', 'prendre', 'charge', 'savoir', '15', 'pourcent', '30', 'pourcent', '50', 'pourcent', 'population', 'toucher', 'population', 'toucher', 'immunise', 'persuader', 'chiffre', 'égrainer', 'jour', 'largement', 'salle', 'réalité', 'inquiétant', 'vouloir', 'toucher', 'compte', 'immuniser', 'vrai', 'problème', 'chiffre', '1000', 'multiplier', 'continuer', 'augmenter', 'manière', 'exponentiel', 'mathématiquement', 'petit', 'pourcentage', 'chiffre', 'multiplier', 'petit', 'pourcentage', 'fois', 'monde', 'accueillir', 'urgence', 'service', 'réanimation', 'gerald', 'quinzaine', 'précision', 'rappeler', 'médecin', 'urgentiste']\n",
            "termes et fréquences pour document 100 : [(0, 1), (11, 4), (25, 4), (28, 1), (33, 1), (34, 1), (36, 1), (48, 4), (52, 2), (54, 1), (67, 3), (71, 3), (76, 3), (77, 1), (97, 1), (99, 1), (100, 3), (101, 15), (107, 1), (108, 2), (124, 6), (127, 1), (128, 4), (130, 4), (135, 1), (136, 1), (140, 1), (141, 2), (144, 1), (149, 11), (151, 6), (154, 1), (165, 1), (175, 1), (180, 1), (192, 3), (194, 1), (198, 1), (210, 1), (214, 2), (235, 4), (244, 2), (251, 6), (253, 4), (255, 1), (257, 3), (265, 5), (266, 1), (280, 1), (285, 1), (293, 1), (313, 7), (316, 3), (336, 5), (345, 1), (352, 1), (353, 3), (360, 1), (361, 2), (363, 7), (367, 4), (371, 4), (372, 6), (374, 1), (375, 1), (378, 2), (379, 5), (382, 1), (390, 8), (394, 5), (395, 5), (396, 1), (409, 2), (413, 5), (432, 1), (438, 4), (444, 1), (446, 5), (449, 1), (457, 5), (459, 4), (463, 2), (475, 4), (479, 1), (480, 1), (483, 2), (489, 1), (491, 10), (492, 2), (498, 3), (500, 1), (503, 6), (505, 3), (513, 2), (514, 2), (519, 2), (533, 2), (539, 1), (541, 1), (543, 2), (589, 2), (605, 2), (622, 1), (623, 1), (632, 1), (658, 2), (660, 1), (661, 1), (663, 1), (664, 2), (675, 1), (698, 2), (700, 2), (747, 2), (749, 4), (750, 1), (760, 1), (767, 7), (774, 1), (792, 1), (797, 1), (804, 3), (807, 5), (810, 2), (812, 2), (831, 1), (832, 1), (841, 6), (849, 1), (878, 1), (902, 1), (923, 2), (947, 1), (950, 1), (993, 2), (1001, 2), (1006, 1), (1019, 1), (1022, 1), (1023, 1), (1032, 2), (1044, 1), (1055, 2), (1065, 1), (1070, 1), (1084, 4), (1107, 2), (1120, 1), (1122, 1), (1134, 1), (1160, 1), (1168, 7), (1177, 2), (1181, 1), (1185, 1), (1186, 1), (1194, 5), (1217, 1), (1231, 1), (1234, 1), (1239, 5), (1243, 2), (1245, 2), (1261, 2), (1263, 3), (1266, 6), (1271, 1), (1276, 1), (1281, 1), (1282, 1), (1287, 1), (1291, 1), (1293, 2), (1302, 1), (1321, 1), (1325, 1), (1326, 1), (1335, 1), (1340, 2), (1343, 1), (1344, 4), (1346, 1), (1363, 1), (1364, 4), (1370, 1), (1372, 5), (1377, 1), (1385, 2), (1392, 1), (1399, 1), (1409, 1), (1425, 1), (1427, 1), (1451, 1), (1477, 1), (1491, 7), (1604, 1), (1615, 1), (1617, 1), (1627, 1), (1647, 1), (1658, 1), (1687, 1), (1699, 3), (1712, 1), (1714, 1), (1747, 1), (1753, 1), (1809, 3), (1811, 1), (1830, 1), (1832, 1), (1863, 1), (1886, 1), (1893, 1), (1971, 3), (1982, 1), (2008, 2), (2036, 7), (2040, 1), (2081, 1), (2100, 1), (2107, 2), (2108, 2), (2111, 1), (2140, 1), (2148, 1), (2150, 1), (2157, 5), (2158, 1), (2163, 2), (2173, 1), (2205, 1), (2212, 1), (2220, 5), (2221, 2), (2225, 1), (2237, 1), (2245, 1), (2254, 2), (2310, 1), (2330, 1), (2336, 1), (2352, 1), (2358, 1), (2363, 1), (2376, 2), (2404, 2), (2418, 1), (2473, 1), (2497, 2), (2498, 1), (2569, 1), (2642, 2), (2832, 1), (2860, 1), (2867, 1), (2916, 1), (2919, 2), (2924, 1), (2997, 1), (3042, 3), (3113, 1), (3115, 2), (3145, 1), (3256, 1), (3280, 1), (3318, 1), (3360, 1), (3418, 1), (3452, 1), (3471, 1), (3512, 1), (3705, 1), (3781, 1), (3787, 1), (3855, 1), (3904, 2), (3929, 1), (3958, 1), (3985, 1), (4045, 1), (4117, 1), (4170, 1), (4279, 2), (4334, 1), (4623, 1), (4713, 1), (4835, 2), (4848, 1), (4951, 3), (4965, 2), (5053, 1), (5092, 5), (5161, 1), (5175, 1), (5228, 1), (5261, 1), (5352, 1), (5641, 1), (5744, 1), (5967, 1), (6006, 2), (6028, 2), (6068, 1), (6243, 1), (6244, 1), (6317, 1), (6551, 1), (6561, 1), (6566, 1), (6628, 1), (6676, 1), (6928, 1), (6984, 2), (7085, 1), (7340, 1), (7406, 1), (7630, 1), (7758, 1), (7759, 1), (7760, 1), (7761, 1), (7762, 1), (7763, 2), (7764, 1), (7765, 1), (7766, 1), (7767, 1), (7768, 1), (7769, 1), (7770, 1), (7771, 3), (7772, 1), (7773, 1), (7774, 1), (7775, 1), (7776, 1), (7777, 2), (7778, 1), (7779, 1), (7780, 1), (7781, 1), (7782, 1), (7783, 1), (7784, 1), (7785, 1), (7786, 1)]\n",
            "dico termes ss titres : 36420 termes dans le dictionnaire\n",
            "1000 être\n",
            "1001 accueillir\n",
            "1002 autoriser\n",
            "1003 avérer\n",
            "1004 consigne\n",
            "1005 contamine\n",
            "1006 contaminer\n",
            "1007 contrôle\n",
            "1008 espace\n",
            "1009 estime\n"
          ],
          "name": "stdout"
        }
      ]
    },
    {
      "cell_type": "markdown",
      "metadata": {
        "id": "Y7MIZ2m5KBUp"
      },
      "source": [
        "#### La simple mesure des fréquences brutes de termes dans les documents, assortis à une bonne mesure comme celle du cosinus qui permet de normaliser la taille des documents, permet déjà d'examiner les documents par rapport à leur similarité avec le texte de référence"
      ]
    },
    {
      "cell_type": "markdown",
      "metadata": {
        "id": "m5TIcKJwKBUp"
      },
      "source": [
        "#### On va examiner les similarités en étudiant :\n",
        "1) le comptage simple<p>\n",
        "2) le tf-idf (en essayant quelques variantes)<p>\n",
        "3) pour mémoire, le one-hot encoding<p>"
      ]
    },
    {
      "cell_type": "markdown",
      "metadata": {
        "id": "N3Pm0HArKBUq"
      },
      "source": [
        "#### Mesurer la similarité des documents avec le texte de référence passe par :\n",
        "- transformer les listes de termes, fréquence (ou poids de façon plus générale) en matrices (creuses)<p>\n",
        "- calculer le cosinus entre deux documents<p>\n",
        "- représenter graphiquement ces similarités en les mettant en regard avec les résultats de l'approche par mots clé<p>"
      ]
    },
    {
      "cell_type": "markdown",
      "metadata": {
        "id": "ZH9hpVyWKBUq"
      },
      "source": [
        "#### Utilitaires : \n",
        "##### vecteurs creux : transformer une liste de (id, poids) avec les seuls id effectivement présents dans le document, en un np.array de longueur le nombre de termes dans le dictionnaire, pour éviter de calculer en bloc la matrice de similarité\n",
        "#### Et calculer le cosinus entre deux vecteurs"
      ]
    },
    {
      "cell_type": "code",
      "metadata": {
        "id": "WZ2PWIWIKBUq"
      },
      "source": [
        "# 5.a\n",
        "# A partir d'un vecteur dense de (index, poids) issu de la construction gensim\n",
        "# poids créer un vecteur sur l'ensemble des composantes du dictionnaire, donc creux (sparse)\n",
        "def vect_gensim_2_vect_creux_np(vect_poids, taille_dico):\n",
        "    vect_creux_np = np.zeros(taille_dico)\n",
        "    for (index, poids) in vect_poids:\n",
        "        vect_creux_np[index] = poids\n",
        "    return vect_creux_np"
      ],
      "execution_count": null,
      "outputs": []
    },
    {
      "cell_type": "code",
      "metadata": {
        "id": "-CEgeA_6KBUq"
      },
      "source": [
        "# 5.b\n",
        "def similarite_cosinus(vect_np_1, vect_np_2):\n",
        "    cosinus = np.dot(vect_np_1, vect_np_2) / \\\n",
        "              (np.sqrt(np.dot(vect_np_1,vect_np_1)) * np.sqrt(np.dot(vect_np_2,vect_np_2)))\n",
        "    return cosinus"
      ],
      "execution_count": null,
      "outputs": []
    },
    {
      "cell_type": "markdown",
      "metadata": {
        "id": "SkEhok2XKBUq"
      },
      "source": [
        "##### Fonction pour calculer les similarités des sous-titres avec le texte de référence, et ensuite les présenter triées"
      ]
    },
    {
      "cell_type": "code",
      "metadata": {
        "id": "45z6gA-WKBUq"
      },
      "source": [
        "# 5.c\n",
        "# pour le calcul des similarités :\n",
        "# on étend les vecteurs de poids (fréquence, etc.) sur la taille du dictionnaire (10000+ termes)\n",
        "# et on calcule le cosinus sur le produit scalaire entre le vecteur de référence\n",
        "# et le vecteur de sous-titres couramment considéré\n",
        "\n",
        "# pour chaque (sous-titres de) vidéos on stocke un triplet de similarités :\n",
        "# présence (fréquence absolue) du terme clé, fréquence relative et surtout similarité vectorielle avec le texte de référence\n",
        "# similarité basée, similarité qui peut être de fréquence absolue, tf-idf, voire one-hot encoding\n",
        "\n",
        "def calcule_similarites_avec_ref(mat_doc_termes_poids, taille_corpus, taille_dico, df_videos):\n",
        "    l_similarites = []\n",
        "\n",
        "    # créer le vecteur sparse pour le texte de référence, qui est en dernier (cas sparse) - en numpy\n",
        "    vect_creux_ref = vect_gensim_2_vect_creux_np(mat_doc_termes_poids[taille_corpus-1], taille_dico)\n",
        "                                                 \n",
        "    # boucler sur les autres vecteurs du corpus et calculer la similarité de cosinus avec le texte de référence\n",
        "    # et stocker des triplets :\n",
        "    # (index_video, présence termes clé, fréquence relative termes clé, similarité avec texte de référence)\n",
        "    # index vidéo pour garder une référence de la vidéo d'origine quand la liste aura été triée\n",
        "    \n",
        "    for idx_video, vect_doc_termes_poids in enumerate(mat_doc_termes_poids[:taille_corpus-1]):\n",
        "        \n",
        "        # lire les éléments relatifs aux termes clés\n",
        "        presence_termes_cle = df_videos.iloc[idx_video]['presence_termes_cle']\n",
        "        freq_relative_termes_cle = df_videos.iloc[idx_video]['freq_relative_termes_cle']\n",
        "        \n",
        "        # calculer la similarité cosinus\n",
        "        vect_creux_compare = vect_gensim_2_vect_creux_np(vect_doc_termes_poids, taille_dico)\n",
        "        similarite = similarite_cosinus(vect_creux_compare, vect_creux_ref)\n",
        "                 \n",
        "        l_similarites.append((idx_video, presence_termes_cle, freq_relative_termes_cle, similarite))\n",
        "\n",
        "    # trier par similarité, les plus fortes en tête\n",
        "    l_similarites.sort(key=lambda x: x[3], reverse=True)\n",
        "    \n",
        "    return l_similarites"
      ],
      "execution_count": null,
      "outputs": []
    },
    {
      "cell_type": "code",
      "metadata": {
        "id": "FInhAOnyKBUq"
      },
      "source": [
        "# 5.d\n",
        "# sur les vidéos triées par ordre de similarité décroissant, noter les \"premières\" vidéos\n",
        "# s'il y a N vidéos taggées explicitement des mots clés, les afficher toutes\n",
        "# et éventuellement compléter de telle sorte qu'il y ait au moins N vidéos en tout\n",
        "# on va lister des quadruplets (index_video, presence_termes_cle, freq_relative_termes_cle, similarité)\n",
        "\n",
        "def liste_videos_similaires(l_similarites_triees, nb_videos_presence_explicite):\n",
        "    l_videos_similaires = []\n",
        "    idx_video_presence_explicite = 0\n",
        "    idx_video_presence_non_explicite = 0\n",
        "    for no_ordre, (idx_video, presence_termes_cle, freq_relative_termes_cle, similarite) \\\n",
        "        in enumerate(l_similarites_triees):\n",
        "        video_info_similarite = (idx_video, presence_termes_cle, freq_relative_termes_cle, similarite)\n",
        "        if idx_video_presence_explicite < nb_videos_presence_explicite:\n",
        "            l_videos_similaires.append(video_info_similarite)\n",
        "            if presence_termes_cle >= 1:\n",
        "                idx_video_presence_explicite += 1\n",
        "            else:\n",
        "                idx_video_presence_non_explicite += 1\n",
        "        else:\n",
        "            if idx_video_presence_non_explicite < nb_videos_presence_explicite:\n",
        "                l_videos_similaires.append(video_info_similarite)\n",
        "                idx_video_presence_non_explicite += 1\n",
        "        if idx_video_presence_explicite >= nb_videos_presence_explicite: \n",
        "            break\n",
        "    return l_videos_similaires"
      ],
      "execution_count": null,
      "outputs": []
    },
    {
      "cell_type": "code",
      "metadata": {
        "id": "kWXxwUe3KBUr"
      },
      "source": [
        "# 5.e\n",
        "# montre la liste des premières vidéos\n",
        "def affiche_videos_similaires(l_similarites, nb_videos_presence_explicite):\n",
        "    l_videos_similaires = liste_videos_similaires(l_similarites, nb_videos_presence_explicite)\n",
        "    for (idx_video, presence_termes_cle, freq_relative_termes_cle, similarite) in l_videos_similaires:\n",
        "        print(\"vidéo %d\\t fréq. relative termes clé : %.2f\\t similarité : %.2f\" % \\\n",
        "              (idx_video, freq_relative_termes_cle, similarite))\n",
        "    "
      ],
      "execution_count": null,
      "outputs": []
    },
    {
      "cell_type": "code",
      "metadata": {
        "id": "5V8Q8OD1KBUr"
      },
      "source": [
        "# 5.f\n",
        "# représenter graphiquement la distribution des similarités (sur toutes les videos)\n",
        "\n",
        "def montre_repartition_similarites(l_similarites_triees, nature_similarite):\n",
        "    \n",
        "    # on a besoin de similarité avec présence mot clé explicite ou non\n",
        "    similarite_explicite = [similarite for (idx_video, presence_termes_cle, freq_relative_termes_cle, similarite) \\\n",
        "                            in l_similarites_triees if presence_termes_cle >= 1]\n",
        "    similarite_non_explicite = [similarite for (idx_video, presence_termes_cle, freq_relative_termes_cle, similarite) \\\n",
        "                                in l_similarites_triees if presence_termes_cle < 1]\n",
        "    # calculer le nombre de bins sur la similarité maximum (celle de la première vidéo)\n",
        "    # (arrondir au montant sup)\n",
        "    nb_bins = math.ceil(100 * l_similarites_triees[0][3])\n",
        "    \n",
        "    # tracer figure\n",
        "    fig = go.Figure()\n",
        "    fig.add_trace(go.Histogram(x=similarite_explicite, nbinsx=nb_bins, name=\"explicite\", marker_color=\"red\"))\n",
        "    fig.add_trace(go.Histogram(x=similarite_non_explicite, nbinsx=nb_bins, name=\"non explicite\", marker_color=\"green\"))\n",
        "    fig.update_layout(title=nature_similarite, barmode='stack', xaxis_title=\"similarité\", yaxis_title=\"nb vidéos\")\n",
        "    fig.show()"
      ],
      "execution_count": null,
      "outputs": []
    },
    {
      "cell_type": "code",
      "metadata": {
        "id": "UkpsqRN2w0xp"
      },
      "source": [
        "def montre_repartition_similarites_px(l_similarites_triees):\n",
        "    \n",
        "    # plotly express, il faut passer par un dataframe,\n",
        "    # on a besoin de similarité et présence mot clé explicite ou non\n",
        "    similarite = [similarite for (idx_video, presence_termes_cle, freq_relative_termes_cle, similarite) \\\n",
        "                  in l_similarites_triees]\n",
        "    presence_explicite = [\"Oui\" if presence_termes_cle >= 1 else \"Non\" \\\n",
        "                for (idx_video, presence_termes_cle, freq_relative_termes_cle, similarite) in l_similarites_triees]\n",
        "    dico_similarite = {'similarité': similarite, 'avec termes clé': presence_explicite}\n",
        "    df_similarite = pd.DataFrame(dico_similarite)\n",
        "    \n",
        "    # calculer le nombre de bins sur la similarité maximum (celle de la première vidéo)\n",
        "    # (arrondir au montant sup)\n",
        "    nb_bins = math.ceil(100 * df_similarite.iloc[0,0])\n",
        "\n",
        "    fig = px.histogram(df_similarite, x=\"similarité\", color=\"avec termes clé\",\n",
        "                       color_discrete_map={'Oui':'red', 'Non':'green'},\n",
        "                       nbins=nb_bins)\n",
        "    fig.show()"
      ],
      "execution_count": null,
      "outputs": []
    },
    {
      "cell_type": "code",
      "metadata": {
        "id": "Z9a0KO5wKBUr"
      },
      "source": [
        "# 5.g\n",
        "# représenter graphiquement la relation entre fréquence relative des mots clé dans les sous-titres \n",
        "# et similarité avec le texte de référenceh\n",
        "\n",
        "def montre_relation_freq_termes_cle_similarite(l_similarites_triees):\n",
        "    \n",
        "    # plotly express, il faut passer par un dataframe,\n",
        "    # on a besoin de similarité et fréquences relatives des termes clé\n",
        "    # et uniquement sur les vidéos avec présence des termes clé\n",
        "    similarite = [similarite for (idx_video, presence_termes_cle, freq_relative_termes_cle, similarite) \\\n",
        "                  in l_similarites_triees if presence_termes_cle >= 1]\n",
        "    log_freq_relative = [math.log(freq_relative_termes_cle)\\\n",
        "                for (idx_video, presence_termes_cle, freq_relative_termes_cle, similarite) \\\n",
        "                in l_similarites_triees if presence_termes_cle >= 1]\n",
        "    num_video = [idx_video for (idx_video, presence_termes_cle, freq_relative_termes_cle, similarite) \\\n",
        "                 in l_similarites_triees if presence_termes_cle >= 1]\n",
        "    dict_similarite = {'num. video': num_video,\n",
        "                       'similarite': similarite,\n",
        "                       'log fréq. relative': log_freq_relative}\n",
        "    df_similarite = pd.DataFrame(dict_similarite)\n",
        "    \n",
        "    fig = px.scatter(df_similarite, x=\"log fréq. relative\", y=\"similarite\")\n",
        "    x_text = 0.5 * (max(log_freq_relative) + min(log_freq_relative))\n",
        "    y_text = 1.25 * max(similarite)\n",
        "    corr_similarite_freq_relative = pearsonr(log_freq_relative, similarite)\n",
        "    text_corr = \"Correlation %.2f\" % (corr_similarite_freq_relative[0])\n",
        "    fig.update_layout(autosize=False, width=600, height=400,\n",
        "                      annotations=[go.layout.Annotation(x=x_text, y=y_text, text=text_corr, showarrow=False)])\n",
        "    fig.show()"
      ],
      "execution_count": null,
      "outputs": []
    },
    {
      "cell_type": "markdown",
      "metadata": {
        "id": "1o_xyk5WKBUr"
      },
      "source": [
        "#### commencer donc avec les fréquences brutes"
      ]
    },
    {
      "cell_type": "code",
      "metadata": {
        "id": "XIxp3wBkKBUr"
      },
      "source": [
        "# 6.a\n",
        "l_similarites_freq = calcule_similarites_avec_ref(mat_doc_termes_freq_ss_titres,\\\n",
        "                                                  taille_corpus, taille_dico, df_videos)"
      ],
      "execution_count": null,
      "outputs": []
    },
    {
      "cell_type": "code",
      "metadata": {
        "id": "M5L_Xl4-KBUr",
        "colab": {
          "base_uri": "https://localhost:8080/"
        },
        "outputId": "b8d31e81-3857-4048-8d8a-43afb4b8154c"
      },
      "source": [
        "# 6.b\n",
        "# afficher\n",
        "affiche_videos_similaires(l_similarites_freq, 20)"
      ],
      "execution_count": null,
      "outputs": [
        {
          "output_type": "stream",
          "text": [
            "vidéo 1161\t fréq. relative termes clé : 2.96\t similarité : 0.51\n",
            "vidéo 1098\t fréq. relative termes clé : 3.65\t similarité : 0.50\n",
            "vidéo 1202\t fréq. relative termes clé : 3.66\t similarité : 0.47\n",
            "vidéo 894\t fréq. relative termes clé : 3.64\t similarité : 0.46\n",
            "vidéo 909\t fréq. relative termes clé : 1.14\t similarité : 0.42\n",
            "vidéo 940\t fréq. relative termes clé : 1.11\t similarité : 0.42\n",
            "vidéo 976\t fréq. relative termes clé : 3.04\t similarité : 0.41\n",
            "vidéo 993\t fréq. relative termes clé : 3.24\t similarité : 0.40\n",
            "vidéo 1203\t fréq. relative termes clé : 5.33\t similarité : 0.40\n",
            "vidéo 451\t fréq. relative termes clé : 6.17\t similarité : 0.40\n",
            "vidéo 17\t fréq. relative termes clé : 2.61\t similarité : 0.39\n",
            "vidéo 991\t fréq. relative termes clé : 2.95\t similarité : 0.39\n",
            "vidéo 1097\t fréq. relative termes clé : 0.92\t similarité : 0.38\n",
            "vidéo 963\t fréq. relative termes clé : 1.56\t similarité : 0.38\n",
            "vidéo 1029\t fréq. relative termes clé : 0.41\t similarité : 0.37\n",
            "vidéo 984\t fréq. relative termes clé : 2.12\t similarité : 0.37\n",
            "vidéo 972\t fréq. relative termes clé : 0.88\t similarité : 0.37\n",
            "vidéo 1128\t fréq. relative termes clé : 0.96\t similarité : 0.36\n",
            "vidéo 1132\t fréq. relative termes clé : 0.81\t similarité : 0.36\n",
            "vidéo 877\t fréq. relative termes clé : 3.85\t similarité : 0.35\n"
          ],
          "name": "stdout"
        }
      ]
    },
    {
      "cell_type": "code",
      "metadata": {
        "id": "ubJQz-wzKBUs",
        "colab": {
          "base_uri": "https://localhost:8080/",
          "height": 542
        },
        "outputId": "d4f129dd-d23d-4b89-d044-a14851244c23"
      },
      "source": [
        "# 6.c\n",
        "# graphiquement\n",
        "montre_repartition_similarites(l_similarites_freq, \"similarités comptages\")"
      ],
      "execution_count": null,
      "outputs": [
        {
          "output_type": "display_data",
          "data": {
            "text/html": [
              "<html>\n",
              "<head><meta charset=\"utf-8\" /></head>\n",
              "<body>\n",
              "    <div>\n",
              "            <script src=\"https://cdnjs.cloudflare.com/ajax/libs/mathjax/2.7.5/MathJax.js?config=TeX-AMS-MML_SVG\"></script><script type=\"text/javascript\">if (window.MathJax) {MathJax.Hub.Config({SVG: {font: \"STIX-Web\"}});}</script>\n",
              "                <script type=\"text/javascript\">window.PlotlyConfig = {MathJaxConfig: 'local'};</script>\n",
              "        <script src=\"https://cdn.plot.ly/plotly-latest.min.js\"></script>    \n",
              "            <div id=\"7c1d5889-34d5-4dec-ba30-ac7860c7789a\" class=\"plotly-graph-div\" style=\"height:525px; width:100%;\"></div>\n",
              "            <script type=\"text/javascript\">\n",
              "                \n",
              "                    window.PLOTLYENV=window.PLOTLYENV || {};\n",
              "                    \n",
              "                if (document.getElementById(\"7c1d5889-34d5-4dec-ba30-ac7860c7789a\")) {\n",
              "                    Plotly.newPlot(\n",
              "                        '7c1d5889-34d5-4dec-ba30-ac7860c7789a',\n",
              "                        [{\"marker\": {\"color\": \"red\"}, \"name\": \"explicite\", \"nbinsx\": 52, \"type\": \"histogram\", \"x\": [0.5124904921867591, 0.500583691738331, 0.4727789515240915, 0.46165239815428305, 0.4230615054250394, 0.41977194025102, 0.4085209482844637, 0.4009410773619389, 0.40034483345458416, 0.39797197041092364, 0.39248349079140504, 0.39216570532660977, 0.38280069088144797, 0.37846822155996757, 0.3739263221422059, 0.3716523279050432, 0.36920160430929294, 0.35806607897106946, 0.3570216306970405, 0.3517901563399096, 0.3515373426843025, 0.3494570262850691, 0.3469050786182192, 0.34579123157453295, 0.34023966660198474, 0.33747366651429744, 0.3373482105493609, 0.33691142883705427, 0.33631846471821575, 0.3353739113039761, 0.33451772341927327, 0.3340200602358926, 0.33035493707227004, 0.32827124720627004, 0.32579489491230007, 0.3256494360842599, 0.32544062709079685, 0.32345907391327966, 0.3192623839523921, 0.3186966223116527, 0.3167281902514789, 0.315503306662199, 0.3153799031642582, 0.3150581792587763, 0.31391093941365766, 0.3137747313851268, 0.3136269175058602, 0.31239705906917226, 0.3123212754090534, 0.31186460505434743, 0.31077686609833366, 0.310671780292056, 0.31038758248564796, 0.30851411295714326, 0.30796772106644527, 0.30735119762479063, 0.30555695198382893, 0.30350419357401764, 0.3025592062096481, 0.30150923684982006, 0.30095036962555116, 0.3006754509129684, 0.30018512278955944, 0.29913082420299697, 0.2970775705702704, 0.29634654452197595, 0.2959743652483453, 0.2949246069710212, 0.29382377277399835, 0.29321484062268466, 0.29079319724592106, 0.29076440107499013, 0.2906376287169739, 0.2901559513866343, 0.2901085117227213, 0.2885663693683674, 0.28720450832164235, 0.28678592208916415, 0.28639707677419246, 0.28633381445644657, 0.2862915714847505, 0.2856984771029816, 0.2855567546535484, 0.285473401364083, 0.2848948977659223, 0.28354090733460346, 0.28348641258890145, 0.2818775305356915, 0.2816765407736596, 0.2816562594161083, 0.2812675389563132, 0.28099614403063705, 0.28094831632685974, 0.28083474038888223, 0.280698557501464, 0.28015097664083216, 0.28011388997629455, 0.2795306831333748, 0.27864232743361483, 0.27735756458028626, 0.27698352760003947, 0.27695390043113366, 0.27668768999259385, 0.2764032025989383, 0.27639489472827455, 0.27637224854556686, 0.27608026849744843, 0.27574485707127416, 0.2738830807243016, 0.2732958584298256, 0.27322429346987986, 0.2731748212242757, 0.2721559803194423, 0.2717438165344465, 0.2708959617580671, 0.2695273837483325, 0.26943910610417643, 0.26926866696793594, 0.2689559402033876, 0.2684963417776318, 0.26768953056334166, 0.26691619805391115, 0.26675539268061316, 0.26596573626208403, 0.26551509931307143, 0.26414384961579535, 0.2640691687688538, 0.26332319314607827, 0.26331773891295046, 0.26302053463166614, 0.2627162549472522, 0.26243034012424166, 0.26236261186476717, 0.2620862180340085, 0.26207663469888626, 0.26132050367338217, 0.2610367708339047, 0.2609708029671649, 0.2600856571963892, 0.25935365209924777, 0.25846176887281025, 0.25828248629339107, 0.25824031276758347, 0.25796833747796327, 0.2577588990312982, 0.2571764691709884, 0.2562475970948264, 0.2560318503561537, 0.2560296922043004, 0.25559454915281754, 0.25539924954509596, 0.2537909536146258, 0.2534251842716474, 0.25337241812816885, 0.25335912418830625, 0.25291787943778726, 0.25277922664107866, 0.25270060494288726, 0.2522780781081838, 0.2521074993286905, 0.25089211541509454, 0.250101534693437, 0.2500660128067367, 0.25001160626515206, 0.2499993680611535, 0.2490045173256046, 0.2489177088714522, 0.2488527775592978, 0.24847725038680893, 0.24826205585379754, 0.24761614567018353, 0.2464756519004055, 0.24545293126262632, 0.24473706304436083, 0.24367130707454357, 0.24341934315250927, 0.243236161552999, 0.2431363611427096, 0.2425959981828516, 0.2420688346834022, 0.24192568413477816, 0.24176887634598512, 0.24160397054941904, 0.24088995402719005, 0.2408143747346549, 0.24031437971975675, 0.24009074302307212, 0.2382738367840934, 0.23822472761400218, 0.23784759573240932, 0.2376494835615421, 0.23732910275601837, 0.23613812042786136, 0.23471297054695042, 0.23470720200160433, 0.2344579616750411, 0.2343437110527926, 0.2338292924220441, 0.23331900710783127, 0.23304301732956773, 0.23269020053239423, 0.23132475757616763, 0.23102950982658496, 0.2309704783256946, 0.23068222106227346, 0.23068222106227346, 0.23016267585374556, 0.22966109463676468, 0.22936323153879798, 0.22926664123351, 0.22888219763255552, 0.22850778030077049, 0.22838917312345808, 0.22791649863417515, 0.22784310267395325, 0.22760076558077408, 0.2274569175381701, 0.2272221094471928, 0.22720720701476504, 0.22617446883867012, 0.22580602715870207, 0.22550239869420877, 0.22546248971095997, 0.22497218424764173, 0.22458329718002526, 0.22444317168485847, 0.22403582597537414, 0.22384845481316024, 0.22329321432061988, 0.22290392730537287, 0.22289620326931897, 0.22249634216383715, 0.2224683558241699, 0.22161929158120877, 0.2216014761246657, 0.22147764226087188, 0.22110033730708112, 0.22093331933394256, 0.2209267063142967, 0.2206792853438403, 0.22062563836279026, 0.22047592524955792, 0.2201616899920548, 0.22009030489744916, 0.21989974856677125, 0.21970911155775366, 0.21969628604560343, 0.21954875113861233, 0.2194852340632978, 0.21945349900955438, 0.2186326700687922, 0.2182998861445256, 0.2179957540916443, 0.21741348704238203, 0.21716430528605632, 0.21642801603170406, 0.21610275340002535, 0.21531225977306284, 0.21524281065370032, 0.21459147863948258, 0.21448479330735082, 0.21428214383642888, 0.2142366741183059, 0.21417834927314633, 0.21352717976433774, 0.2133046774450931, 0.21321703294510783, 0.2131923898614184, 0.21240756704570915, 0.21239174054251023, 0.21226239967025068, 0.21170719939376434, 0.2116407418168878, 0.2115889869222764, 0.2112882070658235, 0.2111386604609304, 0.21047547362819533, 0.20955918412807248, 0.20936111811090102, 0.20931686711237257, 0.2089567848256354, 0.20879303377377698, 0.20878885294364688, 0.20853824407284283, 0.20845589757791994, 0.2083705451000567, 0.20795369151040483, 0.2078113035096718, 0.20744462321003693, 0.20725977842920804, 0.20647950177938063, 0.20634080967004725, 0.2063226993952901, 0.2061870795855374, 0.20605043840494494, 0.20528417055103085, 0.20525065698019052, 0.2051338615624992, 0.20432318927491064, 0.2039638773501884, 0.20392392133128795, 0.20381939317541184, 0.20378988004167828, 0.2037155427553132, 0.20362055201374768, 0.20360671170528177, 0.20342484646261866, 0.20332695784554997, 0.20321625143664618, 0.20318461916678632, 0.2028106456032711, 0.20275893401826012, 0.20214038441061494, 0.20208905461852353, 0.2009828397706146, 0.20059893266468634, 0.2005817274378839, 0.19971092951206745, 0.1994932759290254, 0.19943694038111287, 0.19925850144533183, 0.19842883175488396, 0.1966098953288877, 0.19567340845168626, 0.1954110824231552, 0.19540258135094213, 0.19530982452587095, 0.19472808038127323, 0.1944539258666517, 0.19441043088890328, 0.19432371769797088, 0.19409661053529928, 0.194086065019687, 0.19383073125792732, 0.19341345824176562, 0.1933894953883727, 0.19334284897190931, 0.19292181495870994, 0.1924011485864771, 0.192399869539521, 0.1919092037623963, 0.1916706105469652, 0.19159318946538595, 0.19136188833813741, 0.19122407143135592, 0.19100664187139388, 0.19095906950838953, 0.19073021266978635, 0.19072304552165179, 0.19060429553680971, 0.19031567140014868, 0.1897874915076312, 0.18975646316450326, 0.1891863360758663, 0.18881745830584468, 0.18867497798749344, 0.1886181864815019, 0.18806379018748012, 0.1874267841727722, 0.18730539557022702, 0.1865898326215146, 0.18655525281705698, 0.1857444526504343, 0.18537349452445384, 0.18510702279770944, 0.18493580451253705, 0.18463889403617467, 0.18461210070918035, 0.18446357204142755, 0.18425387619937036, 0.1835287167736712, 0.18320322035130832, 0.1828102313308647, 0.18272176310280586, 0.18260557654368634, 0.18222715866012937, 0.18154725729026971, 0.18141797718568603, 0.18140099549727945, 0.18106513124896456, 0.18088309257552537, 0.18087278389209077, 0.18049627844538307, 0.18046292425101476, 0.18024430763610066, 0.1798251152030093, 0.17972298936582978, 0.17954739285163532, 0.17923026444479045, 0.17819023678479765, 0.1781181499541712, 0.1775419343029473, 0.17730156043135825, 0.17711796823765805, 0.17701929759625082, 0.17700215261030666, 0.17652957468129474, 0.1765194122643535, 0.17631191076902863, 0.17629520934697318, 0.1761046676864363, 0.17598408527940837, 0.17562897665613758, 0.1755667292448273, 0.1755589373475692, 0.17528652497200733, 0.17522416610760408, 0.17514620703710745, 0.17463994954798853, 0.17460367242143537, 0.1745551254574239, 0.1744959713717861, 0.17428032757721104, 0.17408009263595572, 0.17326038545121084, 0.17299284554863517, 0.1721919616625128, 0.171775273866471, 0.17168634972842983, 0.1715995616728014, 0.1712676276087523, 0.17115007578521432, 0.17081676911882743, 0.17051815632014833, 0.16951880193074179, 0.16933262773911037, 0.16887100288678883, 0.16866250634927593, 0.16822330765357998, 0.16815600271020453, 0.16804662611728866, 0.16705579998854708, 0.1662344547136062, 0.16569369583291782, 0.16544130566655366, 0.16535631820942548, 0.16496640239344582, 0.16461675805393466, 0.16456132854407501, 0.16437158230324936, 0.1642112466968565, 0.16414837609584715, 0.1639584898182674, 0.16393356719058025, 0.16391568614635182, 0.16380029709499355, 0.16377480147949394, 0.16373314255340649, 0.1630822573478172, 0.16285612164309857, 0.1624290828387518, 0.1623158676076185, 0.1615628499542556, 0.16123475134729037, 0.16090664854355072, 0.16063985838837272, 0.16034908323887181, 0.1602948663373989, 0.1598279307731482, 0.15971617258560464, 0.15961977838193767, 0.15913497513246516, 0.15913378845802406, 0.1586808357250999, 0.1577751610212689, 0.15739147726355635, 0.15735400535240304, 0.15718875511867383, 0.1570273139620153, 0.15685408156816336, 0.15672181306182706, 0.15665561588334617, 0.15642313527505833, 0.15602686503493338, 0.15600831367195778, 0.1556401135964454, 0.15537053080339752, 0.15517039929081644, 0.15356128204374236, 0.15353261278348193, 0.1532961789852492, 0.15280600803269098, 0.15273612199814426, 0.15266727535323218, 0.15242963377508326, 0.1520185566795347, 0.15194295270337035, 0.15185497647199175, 0.15183198535340317, 0.15151157182718014, 0.1508679630014259, 0.15046439508441659, 0.15020006394761412, 0.14929577997908522, 0.14924877030792186, 0.14917050906595014, 0.1486617418155183, 0.14856876228153956, 0.1467614557490874, 0.14651438276019899, 0.1464273518725868, 0.14641491445820398, 0.14559468967430295, 0.14552727320889422, 0.14544475152493433, 0.14534957723701888, 0.14499602640681197, 0.14491789877091135, 0.14472878939168377, 0.1443445177420636, 0.14333977744394022, 0.14294884624184065, 0.1413292323130913, 0.14075249716873411, 0.14069609106236594, 0.1406779008407242, 0.14051173857371665, 0.13986547683853592, 0.13977653617040256, 0.1396441192995377, 0.1394144109455255, 0.13889174677316318, 0.13869608134576678, 0.13850430919835055, 0.13802223395657087, 0.13717555743927157, 0.1363019408495268, 0.1362518058039291, 0.13594731821089306, 0.1355276530484734, 0.13546576254239887, 0.1353386767910087, 0.13505123172921488, 0.13457509169726176, 0.1343270363016682, 0.13414152251552877, 0.1340223714377678, 0.13398134678352588, 0.13383094014829627, 0.13381142984275515, 0.1336901848269318, 0.13338985422378802, 0.13284666289897382, 0.13254927431903055, 0.13223771467034037, 0.13200706383332753, 0.13138243283619247, 0.1306996777027966, 0.1306348705533323, 0.12985823223878323, 0.12984764546638605, 0.12955676203350713, 0.12904996478192535, 0.1286102129965882, 0.12831387722017862, 0.12826214467121738, 0.1281891073236683, 0.12811934337779554, 0.12792751740679018, 0.12758721829349182, 0.12746110374378675, 0.12693485740746155, 0.12650187298175633, 0.12644235542589347, 0.12644235542589347, 0.12624770774433483, 0.12584710640215385, 0.125509459398268, 0.1250040551660415, 0.12418844036640875, 0.12410712943073703, 0.12407823877736494, 0.12402666498238842, 0.12374450081888184, 0.12329990490316295, 0.12279352033899359, 0.12178200703274407, 0.12158008017019066, 0.12151344084203174, 0.12150812564134865, 0.12148577783824026, 0.1209287389546424, 0.12092873895464239, 0.12063746818020776, 0.12019416848383772, 0.12009811078823997, 0.11969826190109023, 0.11945220005766043, 0.11922188677086124, 0.1191988041589518, 0.11908227115896977, 0.11879535930092666, 0.11848548227084042, 0.11816969740461941, 0.11812228823562489, 0.11806826318989035, 0.11679744112378672, 0.11633205301882768, 0.115977245387993, 0.11550884715180335, 0.1144825064728566, 0.1139291140222138, 0.11356439670467178, 0.11319834263686325, 0.1128331264052734, 0.11281054055481368, 0.11226486234278434, 0.1113061354600349, 0.11126489925133497, 0.11076033752677865, 0.11055016865354056, 0.11050825744968659, 0.11030123576203683, 0.1101247797417859, 0.1098466237556325, 0.10949237383771808, 0.10928133146871903, 0.1090630566754072, 0.10899490268743695, 0.10890007244051025, 0.10881807312150944, 0.10879214325429261, 0.1079915806060498, 0.10785559096370208, 0.10762864093670327, 0.10746932881352207, 0.10723882850164822, 0.10720112742630099, 0.1071937999755722, 0.10707262551247222, 0.1070251512450711, 0.1063005183091091, 0.10503534857564194, 0.10401691527347592, 0.10351928533539206, 0.1000090921489482, 0.09801843420190963, 0.09777166055078054, 0.09774645127522293, 0.0975319748835313, 0.09730395108742193, 0.09717176987122365, 0.09709614967779147, 0.09628976116976656, 0.09611232608974261, 0.09464032729779095, 0.0942975471546079, 0.09408205065626266, 0.09386446666491947, 0.09233394838527738, 0.09177243859179728, 0.09156917035433401, 0.09116033456952781, 0.09105617780332935, 0.09084459349699235, 0.09014523977471543, 0.08857666024572833, 0.08799204263970418, 0.08797981562744525, 0.08796477295633667, 0.08685344155229403, 0.08593756244302925, 0.08517525507230715, 0.08506264994993677, 0.08506185650970827, 0.08502738956271602, 0.08494224322520977, 0.08432569704791285, 0.0842385301123948, 0.08403124898471792, 0.08335377983716864, 0.08229929527521536, 0.08203519706581167, 0.08198398083608956, 0.08164994840421637, 0.08120297146346381, 0.08065968389074325, 0.0794890193098683, 0.07862026077346172, 0.0780154003330087, 0.07755266178999007, 0.07722625370796257, 0.07635912181530728, 0.07474244175586903, 0.07305558865636183, 0.07196780487989574, 0.07035409469815555, 0.06811162165299131, 0.06766409734667841, 0.06362972305563441, 0.0582528664574312, 0.05575476243448132, 0.054734290022615394, 0.05447287240479281, 0.05078367161190256, 0.048499575344069804, 0.04401517595024991, 0.04250131159402673, 0.035266438619376776]}, {\"marker\": {\"color\": \"green\"}, \"name\": \"non explicite\", \"nbinsx\": 52, \"type\": \"histogram\", \"x\": [0.2843145249652571, 0.27549180653914834, 0.26679583016164116, 0.2613422992308168, 0.25869618470791905, 0.2567369569222521, 0.2549741562020929, 0.242664530081941, 0.2425975843637917, 0.24166873145792866, 0.23902147433652282, 0.23786487616759527, 0.23744167578435743, 0.2373470978796866, 0.23624291826756305, 0.23609723415921627, 0.23469606146192748, 0.23313504396558177, 0.22883549859511285, 0.22458666647492612, 0.22421479818769635, 0.2214564296847757, 0.2207544090269762, 0.21819648411332052, 0.21818889808046488, 0.21541010921383227, 0.21363447646798053, 0.21250655797013362, 0.21009112104751548, 0.20908032290138598, 0.207838022853119, 0.20574886803787626, 0.2051103479501029, 0.20487695999336358, 0.20393529942623045, 0.20316595477480962, 0.20275821316088294, 0.2000465884618437, 0.19957789572728585, 0.19925126560970274, 0.19853528024349698, 0.19846603648985073, 0.19781319240782894, 0.1974515450770543, 0.19668775773486746, 0.19481240300466834, 0.19465138209298993, 0.19452810150858452, 0.19352250050394065, 0.1932085625108389, 0.19269182204462715, 0.1926519942204485, 0.19161422960762256, 0.19092190845439813, 0.19086338171066916, 0.19068335206946987, 0.1903016032339812, 0.18939050068386087, 0.18927944894829213, 0.18869247703922964, 0.18846109399172142, 0.1880283263538528, 0.18755019016116345, 0.1830646589834946, 0.18151645806168493, 0.1809412718467357, 0.18056450878962463, 0.18046406319609234, 0.1802999977828021, 0.17984670988848317, 0.1793981420998752, 0.1793883481559369, 0.17877940673199355, 0.17867276593289785, 0.17852631138491876, 0.17817782752311145, 0.17740947074528907, 0.17729597580279574, 0.17714695731913507, 0.17708966587225594, 0.17702264257289238, 0.17684230019091626, 0.17616396246690055, 0.1748955496153118, 0.17487584248171026, 0.17468587932878704, 0.17400047676504737, 0.17377656111563503, 0.17364332055691148, 0.17336414268211964, 0.17326553401708147, 0.17319310945091135, 0.17276074766089855, 0.17214231108635053, 0.1714666309023164, 0.17144877622127908, 0.1714076381217278, 0.1709303471638973, 0.1707251439348464, 0.17058380309897647, 0.17000775257893097, 0.16957817108322965, 0.16930023453649934, 0.16880848551410782, 0.16853874715428221, 0.16753603188630534, 0.167534736897728, 0.16739149789192392, 0.16715227615217826, 0.16614787208054743, 0.16614647669489382, 0.1660751616195948, 0.16603467190607835, 0.16533003506959817, 0.1651776291998372, 0.16468970822440732, 0.16442780564250759, 0.16422783620507653, 0.16419528220098337, 0.1641691304011086, 0.1641126959191886, 0.16364874699570173, 0.16304099997315663, 0.1628020188839404, 0.16262866266192605, 0.16222561764913318, 0.1621371449731835, 0.1619202305697393, 0.16157670217589631, 0.1615718712818297, 0.1614683522551743, 0.1612274043039675, 0.16042562479477865, 0.15967259280359017, 0.1596177918629755, 0.15945398157815974, 0.15938988866972567, 0.159021023755931, 0.1589452328935412, 0.15876668423755103, 0.1586965783129082, 0.1583612591299555, 0.15813687907357893, 0.15772832130284895, 0.1568751332364462, 0.15659469497963036, 0.15653898988916207, 0.1561115142847223, 0.15597809382321465, 0.15586743333721378, 0.15575772311367733, 0.15564738687362376, 0.155627755615943, 0.15506329206246824, 0.15475495882950488, 0.1546763977938027, 0.1540117214557066, 0.15360461422118857, 0.15341936868087697, 0.15295263701184852, 0.15271991014939335, 0.15244967628113737, 0.15234324985355782, 0.15228760129920996, 0.15211387158512127, 0.15190226271266033, 0.15155149778234842, 0.15127332570132448, 0.15115735593348267, 0.15094089297934343, 0.15092853025937403, 0.15000575930511298, 0.14993211829102865, 0.14977978985330848, 0.14973800660456277, 0.14959382550214922, 0.14937987128696759, 0.1493676680557413, 0.14935474846027716, 0.1493338642991281, 0.14925144193734854, 0.14812525972371066, 0.14808233029986523, 0.14774461792015234, 0.1475655134999378, 0.14756501982434264, 0.1473772161990002, 0.14733478717373658, 0.14692046068731676, 0.1466224341339399, 0.14648293082921487, 0.14626713510105138, 0.14614170790166672, 0.14587258606179726, 0.145838361649841, 0.1455471413662146, 0.1454597326633971, 0.14511781979915084, 0.14468937657255931, 0.1445328632156819, 0.1444347185282334, 0.14425233695794193, 0.14404670273086567, 0.14387121787979737, 0.14313251961564824, 0.14292754527671045, 0.1428683217552813, 0.14269495003849345, 0.14245314524702826, 0.14174864171308257, 0.14133598103626507, 0.14023563142247134, 0.13976935248615419, 0.13965509693273204, 0.1395134754399193, 0.1395001217456594, 0.13903701807988267, 0.13858400098238866, 0.1379371150100656, 0.13791882271586864, 0.1378066779927031, 0.13763393248868414, 0.13739804486109192, 0.1369288527798976, 0.13684426254779547, 0.1362668902454885, 0.13614855162981426, 0.13592352004991604, 0.13567512308352916, 0.13550827494342735, 0.13550069724228034, 0.1349644766413909, 0.13481008443454157, 0.13476486649764843, 0.13447456891454782, 0.13376744594951812, 0.13337029377556522, 0.1333320224741944, 0.13227986494636096, 0.1320620184388422, 0.13199373513338145, 0.131678462146664, 0.13151311611858002, 0.13142673919674464, 0.13101575370210125, 0.1310140455384096, 0.13048013636104275, 0.13004770948461172, 0.12998096709383666, 0.12984764546638605, 0.1297981025947311, 0.1295623598282982, 0.12907757071759166, 0.129075165346919, 0.12885597564251625, 0.1287232286041836, 0.1278612484871299, 0.12778321573141777, 0.1276850807660386, 0.12700519818635608, 0.126888941954778, 0.12676747341158426, 0.12672913350231998, 0.12669998454491285, 0.12656517300996623, 0.12626564145352023, 0.12624770774433483, 0.12617733872986603, 0.12604785584796213, 0.1256576926503965, 0.1254202230158984, 0.1251914171932261, 0.12473566125561025, 0.12469740938430386, 0.12418816474658846, 0.12407726990984783, 0.12405687142708137, 0.12377812551969324, 0.12358846051545126, 0.12356410242883996, 0.12332359993677788, 0.1227705575486406, 0.12234216031192052, 0.12182906568373669, 0.12169221091463525, 0.12144775311873271, 0.12111568710432122, 0.12073601185513447, 0.12045600090184454, 0.12023621119151857, 0.12007231896953112, 0.11995543381869772, 0.11972127858467976, 0.11959937755908996, 0.1195654850860679, 0.11943314914614102, 0.11941753717871093, 0.11880757347145712, 0.11869529810771516, 0.11864157843063551, 0.11850459745726323, 0.1184410962614431, 0.11843122235648701, 0.11825216635897436, 0.11803647472031305, 0.11789551247302822, 0.11789275478002355, 0.11780165855369581, 0.11738283472351425, 0.11699443567479423, 0.11691031515685668, 0.11648040282805039, 0.11642925092374375, 0.1163472613254299, 0.11601676400073817, 0.1156235380449567, 0.11552106565459629, 0.1155098794369249, 0.11515283555828947, 0.11506652768506262, 0.11453788976952275, 0.11453453123184204, 0.11411479454253795, 0.11382424002812333, 0.11371126469621659, 0.11347857180329177, 0.11298722243539588, 0.11224214758247336, 0.11196082921367426, 0.11158334779983532, 0.11150511240729978, 0.1105767449006464, 0.1101490696151032, 0.1092783123239147, 0.1087514747447657, 0.10832297120192205, 0.1082770040047748, 0.10826892384386214, 0.10754190192387339, 0.10752309308433078, 0.10750654374375483, 0.10736088624066602, 0.10735596125162247, 0.1073100712733819, 0.10709659192857034, 0.10638574531849156, 0.10589127529822764, 0.10551984298289453, 0.1048892618291495, 0.10459853031268249, 0.1045831913663344, 0.10438919529619367, 0.10436418931581812, 0.10431419422390069, 0.10418323950803178, 0.10410652680440023, 0.10396581314381212, 0.10379942241135247, 0.10379477588359458, 0.10375985368207964, 0.10374476463180252, 0.10366173559518715, 0.1029796635244826, 0.10292751070332855, 0.10292751070332855, 0.10275364066685304, 0.10261379445098698, 0.10235776248502762, 0.10234966584188213, 0.10224190759505983, 0.10216149839412972, 0.10183506297553468, 0.1017694674898415, 0.1016140086722695, 0.10131645603150863, 0.10125346108244655, 0.10092800265516524, 0.10083704266247383, 0.10051264881739709, 0.10037004389977909, 0.1001834427184244, 0.10012984760659872, 0.09998440317404941, 0.09963167968528237, 0.09953171905504526, 0.09900178846025919, 0.09871608310713102, 0.09844870345315632, 0.09837072013355265, 0.09828472197703259, 0.09779144216883714, 0.09775201462868681, 0.09774165899386475, 0.09706701179443328, 0.09679540576447973, 0.09665607275877093, 0.09660145050098942, 0.09603521884450979, 0.09586736436514483, 0.09582014344500848, 0.09569908193937715, 0.09559232810097115, 0.09548169712267651, 0.09534385148458499, 0.09501140575474175, 0.09477442529213816, 0.09477246691144035, 0.09445093496042786, 0.09418622167195931, 0.0939933695300077, 0.09362161502781302, 0.09362114055835272, 0.09327941395038336, 0.09302653103174864, 0.09283533205509367, 0.09267974301510895, 0.09264284512896134, 0.09246873890112504, 0.0923666811828034, 0.09234423501848271, 0.09230108893541944, 0.09216007678445669, 0.09162409725536513, 0.09141775119224313, 0.09110266099204564, 0.09100781307588288, 0.09091976487393989, 0.09090296970308395, 0.09032356326423956, 0.09029877790376874, 0.09029877790376874, 0.09027274990809149, 0.08979371806597869, 0.0897923973314316, 0.08979239733143159, 0.08916279501424362, 0.08912688567986973, 0.0889538281436512, 0.08887142532082948, 0.08870140800930613, 0.08867513259011729, 0.0885750111124628, 0.08843145194629877, 0.08839053946629574, 0.08815601984727771, 0.08805090814161314, 0.08781343216224817, 0.08735701432707547, 0.08724184741961077, 0.08685661387515983, 0.08668016067345752, 0.0861274015219854, 0.08593193626019173, 0.08565761236216732, 0.08501815458962277, 0.08487304601855948, 0.08462643023044034, 0.08452310974121986, 0.08448980759235021, 0.08446583311355312, 0.08401194880233726, 0.08379305815963921, 0.08378878333076316, 0.08355585264355977, 0.08301033470183945, 0.08292938847614972, 0.0828120125418278, 0.08277312417963947, 0.08274853078646983, 0.08256567739447451, 0.08247958359121997, 0.0822547770510442, 0.08221435711477806, 0.08146011960427386, 0.08133626051190962, 0.08099051855882683, 0.08077565086279417, 0.08064402442956194, 0.08058313193277983, 0.08037664915274055, 0.08017458329176182, 0.08008693928933237, 0.07966665657838012, 0.07947527045232192, 0.07940824253800072, 0.07930169920436657, 0.07902036646570128, 0.07871469099844897, 0.07855198437259045, 0.07839018542040833, 0.07758103512924285, 0.07752450540415215, 0.07752071791246672, 0.07716612779795293, 0.07698161989219497, 0.07693239582975053, 0.076733129505083, 0.07662111497498733, 0.07557804323317395, 0.07519889834839417, 0.07517970632999607, 0.0751781594065434, 0.07515475830651068, 0.07501750612738292, 0.07469623053489781, 0.07464528391271419, 0.07460575398683818, 0.07446839910506786, 0.07400729003311833, 0.07400729003311833, 0.07381123221630627, 0.07366076780831078, 0.0733204526931269, 0.07322605171852188, 0.07278562084444001, 0.07241013629352903, 0.07218488855840986, 0.07203238690431443, 0.07187648134462266, 0.07186826642016077, 0.07082188483218783, 0.06990343974891743, 0.06982754846636602, 0.06980460608576351, 0.06969227677236436, 0.069662704724438, 0.06938370436291008, 0.06928833152832639, 0.0691563241900952, 0.06902285918851385, 0.06868746234885179, 0.06867205781365636, 0.06832098324487915, 0.06825162985184978, 0.06811186488121929, 0.06723728445727391, 0.06687266690013609, 0.06682640562666319, 0.06641597992058508, 0.06615241433655727, 0.06612636283705284, 0.06605254191557962, 0.06558300085401719, 0.06539516707488284, 0.06535623751468622, 0.06522053907533185, 0.06473673313024478, 0.06467770445641205, 0.06415766992888725, 0.0638227569134202, 0.06377727484635097, 0.06352659403040058, 0.06349281305205214, 0.06339628293106665, 0.06311133550736961, 0.06256954599375171, 0.06221554962752854, 0.06187560746706036, 0.06181662774965629, 0.06178649534340597, 0.06177617689106164, 0.06162901994902168, 0.060965294808481556, 0.060510689594158285, 0.06036191509127732, 0.060101942419105665, 0.0599507545717718, 0.059890391990227713, 0.05978142883139096, 0.059333430802413836, 0.05930058318685092, 0.0592932270619657, 0.05929322706196569, 0.058597976968532924, 0.057636889024270124, 0.05759934452318896, 0.056777870935620214, 0.056633465434711, 0.056210981290918435, 0.056198911750201634, 0.056198911750201634, 0.05613796118777634, 0.055544640825518424, 0.05540296005883699, 0.05516921776465246, 0.054919538788891414, 0.05469301438712003, 0.05462828747782993, 0.05434876330688931, 0.05403417927417746, 0.053918457892967786, 0.053650045166919035, 0.05339766432565469, 0.05264449252873809, 0.052519530615448694, 0.051309941332246624, 0.05009507024978323, 0.04976352260847612, 0.049001229810186314, 0.04886661079261583, 0.04847779606994154, 0.04837547661108733, 0.04774552605594227, 0.047173920632896174, 0.04708179938911756, 0.04655169897757735, 0.04627893926517596, 0.04591831301554531, 0.04520184750355937, 0.044574546305930475, 0.04405623762795454, 0.04342949060239444, 0.0433084606673028, 0.0431874532760994, 0.04259440524380592, 0.0425323960618414, 0.04228777486542926, 0.04143651571342173, 0.040988293031634954, 0.04088006707364655, 0.039284518397659375, 0.0386920392459697, 0.037851913957080145, 0.037239489628507566, 0.03722143060218393, 0.03664995809446187, 0.03664995809446187, 0.036418858318553286, 0.035212140760199934, 0.030470202967141532, 0.029914733188010176, 0.028506977288676467, 0.022408869160469344, 0.0215937266380497, 0.02129720262190296, 0.020255677720702782, 0.019305055278456766, 0.016566936209807266, 0.016059207023964656, 0.013572507143869808, 0.010589127529822764, 0.010579931585813033, 0.008840302515023912]}],\n",
              "                        {\"barmode\": \"stack\", \"template\": {\"data\": {\"bar\": [{\"error_x\": {\"color\": \"#2a3f5f\"}, \"error_y\": {\"color\": \"#2a3f5f\"}, \"marker\": {\"line\": {\"color\": \"#E5ECF6\", \"width\": 0.5}}, \"type\": \"bar\"}], \"barpolar\": [{\"marker\": {\"line\": {\"color\": \"#E5ECF6\", \"width\": 0.5}}, \"type\": \"barpolar\"}], \"carpet\": [{\"aaxis\": {\"endlinecolor\": \"#2a3f5f\", \"gridcolor\": \"white\", \"linecolor\": \"white\", \"minorgridcolor\": \"white\", \"startlinecolor\": \"#2a3f5f\"}, \"baxis\": {\"endlinecolor\": \"#2a3f5f\", \"gridcolor\": \"white\", \"linecolor\": \"white\", \"minorgridcolor\": \"white\", \"startlinecolor\": \"#2a3f5f\"}, \"type\": \"carpet\"}], \"choropleth\": [{\"colorbar\": {\"outlinewidth\": 0, \"ticks\": \"\"}, \"type\": \"choropleth\"}], \"contour\": [{\"colorbar\": {\"outlinewidth\": 0, \"ticks\": \"\"}, \"colorscale\": [[0.0, \"#0d0887\"], [0.1111111111111111, \"#46039f\"], [0.2222222222222222, \"#7201a8\"], [0.3333333333333333, \"#9c179e\"], [0.4444444444444444, \"#bd3786\"], [0.5555555555555556, \"#d8576b\"], [0.6666666666666666, \"#ed7953\"], [0.7777777777777778, \"#fb9f3a\"], [0.8888888888888888, \"#fdca26\"], [1.0, \"#f0f921\"]], \"type\": \"contour\"}], \"contourcarpet\": [{\"colorbar\": {\"outlinewidth\": 0, \"ticks\": \"\"}, \"type\": \"contourcarpet\"}], \"heatmap\": [{\"colorbar\": {\"outlinewidth\": 0, \"ticks\": \"\"}, \"colorscale\": [[0.0, \"#0d0887\"], [0.1111111111111111, \"#46039f\"], [0.2222222222222222, \"#7201a8\"], [0.3333333333333333, \"#9c179e\"], [0.4444444444444444, \"#bd3786\"], [0.5555555555555556, \"#d8576b\"], [0.6666666666666666, \"#ed7953\"], [0.7777777777777778, \"#fb9f3a\"], [0.8888888888888888, \"#fdca26\"], [1.0, \"#f0f921\"]], \"type\": \"heatmap\"}], \"heatmapgl\": [{\"colorbar\": {\"outlinewidth\": 0, \"ticks\": \"\"}, \"colorscale\": [[0.0, \"#0d0887\"], [0.1111111111111111, \"#46039f\"], [0.2222222222222222, \"#7201a8\"], [0.3333333333333333, \"#9c179e\"], [0.4444444444444444, \"#bd3786\"], [0.5555555555555556, \"#d8576b\"], [0.6666666666666666, \"#ed7953\"], [0.7777777777777778, \"#fb9f3a\"], [0.8888888888888888, \"#fdca26\"], [1.0, \"#f0f921\"]], \"type\": \"heatmapgl\"}], \"histogram\": [{\"marker\": {\"colorbar\": {\"outlinewidth\": 0, \"ticks\": \"\"}}, \"type\": \"histogram\"}], \"histogram2d\": [{\"colorbar\": {\"outlinewidth\": 0, \"ticks\": \"\"}, \"colorscale\": [[0.0, \"#0d0887\"], [0.1111111111111111, \"#46039f\"], [0.2222222222222222, \"#7201a8\"], [0.3333333333333333, \"#9c179e\"], [0.4444444444444444, \"#bd3786\"], [0.5555555555555556, \"#d8576b\"], [0.6666666666666666, \"#ed7953\"], [0.7777777777777778, \"#fb9f3a\"], [0.8888888888888888, \"#fdca26\"], [1.0, \"#f0f921\"]], \"type\": \"histogram2d\"}], \"histogram2dcontour\": [{\"colorbar\": {\"outlinewidth\": 0, \"ticks\": \"\"}, \"colorscale\": [[0.0, \"#0d0887\"], [0.1111111111111111, \"#46039f\"], [0.2222222222222222, \"#7201a8\"], [0.3333333333333333, \"#9c179e\"], [0.4444444444444444, \"#bd3786\"], [0.5555555555555556, \"#d8576b\"], [0.6666666666666666, \"#ed7953\"], [0.7777777777777778, \"#fb9f3a\"], [0.8888888888888888, \"#fdca26\"], [1.0, \"#f0f921\"]], \"type\": \"histogram2dcontour\"}], \"mesh3d\": [{\"colorbar\": {\"outlinewidth\": 0, \"ticks\": \"\"}, \"type\": \"mesh3d\"}], \"parcoords\": [{\"line\": {\"colorbar\": {\"outlinewidth\": 0, \"ticks\": \"\"}}, \"type\": \"parcoords\"}], \"pie\": [{\"automargin\": true, \"type\": \"pie\"}], \"scatter\": [{\"marker\": {\"colorbar\": {\"outlinewidth\": 0, \"ticks\": \"\"}}, \"type\": \"scatter\"}], \"scatter3d\": [{\"line\": {\"colorbar\": {\"outlinewidth\": 0, \"ticks\": \"\"}}, \"marker\": {\"colorbar\": {\"outlinewidth\": 0, \"ticks\": \"\"}}, \"type\": \"scatter3d\"}], \"scattercarpet\": [{\"marker\": {\"colorbar\": {\"outlinewidth\": 0, \"ticks\": \"\"}}, \"type\": \"scattercarpet\"}], \"scattergeo\": [{\"marker\": {\"colorbar\": {\"outlinewidth\": 0, \"ticks\": \"\"}}, \"type\": \"scattergeo\"}], \"scattergl\": [{\"marker\": {\"colorbar\": {\"outlinewidth\": 0, \"ticks\": \"\"}}, \"type\": \"scattergl\"}], \"scattermapbox\": [{\"marker\": {\"colorbar\": {\"outlinewidth\": 0, \"ticks\": \"\"}}, \"type\": \"scattermapbox\"}], \"scatterpolar\": [{\"marker\": {\"colorbar\": {\"outlinewidth\": 0, \"ticks\": \"\"}}, \"type\": \"scatterpolar\"}], \"scatterpolargl\": [{\"marker\": {\"colorbar\": {\"outlinewidth\": 0, \"ticks\": \"\"}}, \"type\": \"scatterpolargl\"}], \"scatterternary\": [{\"marker\": {\"colorbar\": {\"outlinewidth\": 0, \"ticks\": \"\"}}, \"type\": \"scatterternary\"}], \"surface\": [{\"colorbar\": {\"outlinewidth\": 0, \"ticks\": \"\"}, \"colorscale\": [[0.0, \"#0d0887\"], [0.1111111111111111, \"#46039f\"], [0.2222222222222222, \"#7201a8\"], [0.3333333333333333, \"#9c179e\"], [0.4444444444444444, \"#bd3786\"], [0.5555555555555556, \"#d8576b\"], [0.6666666666666666, \"#ed7953\"], [0.7777777777777778, \"#fb9f3a\"], [0.8888888888888888, \"#fdca26\"], [1.0, \"#f0f921\"]], \"type\": \"surface\"}], \"table\": [{\"cells\": {\"fill\": {\"color\": \"#EBF0F8\"}, \"line\": {\"color\": \"white\"}}, \"header\": {\"fill\": {\"color\": \"#C8D4E3\"}, \"line\": {\"color\": \"white\"}}, \"type\": \"table\"}]}, \"layout\": {\"annotationdefaults\": {\"arrowcolor\": \"#2a3f5f\", \"arrowhead\": 0, \"arrowwidth\": 1}, \"coloraxis\": {\"colorbar\": {\"outlinewidth\": 0, \"ticks\": \"\"}}, \"colorscale\": {\"diverging\": [[0, \"#8e0152\"], [0.1, \"#c51b7d\"], [0.2, \"#de77ae\"], [0.3, \"#f1b6da\"], [0.4, \"#fde0ef\"], [0.5, \"#f7f7f7\"], [0.6, \"#e6f5d0\"], [0.7, \"#b8e186\"], [0.8, \"#7fbc41\"], [0.9, \"#4d9221\"], [1, \"#276419\"]], \"sequential\": [[0.0, \"#0d0887\"], [0.1111111111111111, \"#46039f\"], [0.2222222222222222, \"#7201a8\"], [0.3333333333333333, \"#9c179e\"], [0.4444444444444444, \"#bd3786\"], [0.5555555555555556, \"#d8576b\"], [0.6666666666666666, \"#ed7953\"], [0.7777777777777778, \"#fb9f3a\"], [0.8888888888888888, \"#fdca26\"], [1.0, \"#f0f921\"]], \"sequentialminus\": [[0.0, \"#0d0887\"], [0.1111111111111111, \"#46039f\"], [0.2222222222222222, \"#7201a8\"], [0.3333333333333333, \"#9c179e\"], [0.4444444444444444, \"#bd3786\"], [0.5555555555555556, \"#d8576b\"], [0.6666666666666666, \"#ed7953\"], [0.7777777777777778, \"#fb9f3a\"], [0.8888888888888888, \"#fdca26\"], [1.0, \"#f0f921\"]]}, \"colorway\": [\"#636efa\", \"#EF553B\", \"#00cc96\", \"#ab63fa\", \"#FFA15A\", \"#19d3f3\", \"#FF6692\", \"#B6E880\", \"#FF97FF\", \"#FECB52\"], \"font\": {\"color\": \"#2a3f5f\"}, \"geo\": {\"bgcolor\": \"white\", \"lakecolor\": \"white\", \"landcolor\": \"#E5ECF6\", \"showlakes\": true, \"showland\": true, \"subunitcolor\": \"white\"}, \"hoverlabel\": {\"align\": \"left\"}, \"hovermode\": \"closest\", \"mapbox\": {\"style\": \"light\"}, \"paper_bgcolor\": \"white\", \"plot_bgcolor\": \"#E5ECF6\", \"polar\": {\"angularaxis\": {\"gridcolor\": \"white\", \"linecolor\": \"white\", \"ticks\": \"\"}, \"bgcolor\": \"#E5ECF6\", \"radialaxis\": {\"gridcolor\": \"white\", \"linecolor\": \"white\", \"ticks\": \"\"}}, \"scene\": {\"xaxis\": {\"backgroundcolor\": \"#E5ECF6\", \"gridcolor\": \"white\", \"gridwidth\": 2, \"linecolor\": \"white\", \"showbackground\": true, \"ticks\": \"\", \"zerolinecolor\": \"white\"}, \"yaxis\": {\"backgroundcolor\": \"#E5ECF6\", \"gridcolor\": \"white\", \"gridwidth\": 2, \"linecolor\": \"white\", \"showbackground\": true, \"ticks\": \"\", \"zerolinecolor\": \"white\"}, \"zaxis\": {\"backgroundcolor\": \"#E5ECF6\", \"gridcolor\": \"white\", \"gridwidth\": 2, \"linecolor\": \"white\", \"showbackground\": true, \"ticks\": \"\", \"zerolinecolor\": \"white\"}}, \"shapedefaults\": {\"line\": {\"color\": \"#2a3f5f\"}}, \"ternary\": {\"aaxis\": {\"gridcolor\": \"white\", \"linecolor\": \"white\", \"ticks\": \"\"}, \"baxis\": {\"gridcolor\": \"white\", \"linecolor\": \"white\", \"ticks\": \"\"}, \"bgcolor\": \"#E5ECF6\", \"caxis\": {\"gridcolor\": \"white\", \"linecolor\": \"white\", \"ticks\": \"\"}}, \"title\": {\"x\": 0.05}, \"xaxis\": {\"automargin\": true, \"gridcolor\": \"white\", \"linecolor\": \"white\", \"ticks\": \"\", \"title\": {\"standoff\": 15}, \"zerolinecolor\": \"white\", \"zerolinewidth\": 2}, \"yaxis\": {\"automargin\": true, \"gridcolor\": \"white\", \"linecolor\": \"white\", \"ticks\": \"\", \"title\": {\"standoff\": 15}, \"zerolinecolor\": \"white\", \"zerolinewidth\": 2}}}, \"title\": {\"text\": \"similarit\\u00e9s comptages\"}, \"xaxis\": {\"title\": {\"text\": \"similarit\\u00e9\"}}, \"yaxis\": {\"title\": {\"text\": \"nb vid\\u00e9os\"}}},\n",
              "                        {\"responsive\": true}\n",
              "                    ).then(function(){\n",
              "                            \n",
              "var gd = document.getElementById('7c1d5889-34d5-4dec-ba30-ac7860c7789a');\n",
              "var x = new MutationObserver(function (mutations, observer) {{\n",
              "        var display = window.getComputedStyle(gd).display;\n",
              "        if (!display || display === 'none') {{\n",
              "            console.log([gd, 'removed!']);\n",
              "            Plotly.purge(gd);\n",
              "            observer.disconnect();\n",
              "        }}\n",
              "}});\n",
              "\n",
              "// Listen for the removal of the full notebook cells\n",
              "var notebookContainer = gd.closest('#notebook-container');\n",
              "if (notebookContainer) {{\n",
              "    x.observe(notebookContainer, {childList: true});\n",
              "}}\n",
              "\n",
              "// Listen for the clearing of the current output cell\n",
              "var outputEl = gd.closest('.output');\n",
              "if (outputEl) {{\n",
              "    x.observe(outputEl, {childList: true});\n",
              "}}\n",
              "\n",
              "                        })\n",
              "                };\n",
              "                \n",
              "            </script>\n",
              "        </div>\n",
              "</body>\n",
              "</html>"
            ]
          },
          "metadata": {
            "tags": []
          }
        }
      ]
    },
    {
      "cell_type": "code",
      "metadata": {
        "id": "55UeQjb_KBUy",
        "colab": {
          "base_uri": "https://localhost:8080/"
        },
        "outputId": "e0eb32b5-1fb5-483b-8741-cde1d2401bd6"
      },
      "source": [
        "# 6.c\n",
        "# il peut être intéressant de revenir au sous-titres des vidéos les plus proches du texte de référence\n",
        "print(df_videos.iloc[1098]['sous_titres'])"
      ],
      "execution_count": null,
      "outputs": [
        {
          "output_type": "stream",
          "text": [
            "non et étudions ce scandale numéro 1 pi n'hésitez pas à commander bien sûr je fais des pauses pour pouvoir lire avec grand bonheur vos commentaires qui est le signe évidemment nous part de votre intérêt et puis surtout de votre participation c'est ça qui importe donc scandale un but on est en pénurie de masques c'est quand même incroyable encore une fois j'insiste mais faudrait que je vous remette le lien allez voir c'est l'émission complète un mois j'ai mis qu'un court extrait qui dont je suis content du succès mais il ya une émission d'une heure andré bercoff a interviewé christian perronne et là je peux vous dire que c'est sans langue de bois et c'est vraiment intéressant professeur peron qu'un jean paul et on a beaucoup beaucoup de ça à la radio sud radio reçoit énormément de gens et c'est vrai que le citoyen lambda il se dit que fait-on à votre avis comme ça les jeux je vous dis pas que vous n'allez pas en soi un homme politique mais quand on dit que fait-on qu'est ce que peut faire effectivement ce une vraie question qui s'adresse donc que peut faire un citoyen un simple citoyen et qui vaque à ses occupations ou pas etc elle chauffe c'est un grand chose à parler dans la rue mais je pense que vraiment il faut mettre un plein tout le mode d'évaluation santé cc pour id d'un bout à l'autre depuis 20 ans avec les grands journaux scientifiques qui qui qui publie des données foireuse financé par l'industrie et malheureusement tous mes jeunes collègues ils font leur carrière pour être professeur ils doivent suivre le système public dans ses journaux donc c'est un cercle vicieux mais c'est un cercle vicieux puisque généralement tous les gens de l'académie les présidents des sociétés savantes les pn avoir des vingtaine de sociétés savantes qui vont dire que je lis des horreurs mais c'est la réalité et ils sont tous pourris et il faut remettre tout simple je peux pas faire ça tout seul fauqué des hommes politiques courageux qui viennent dans l'arène pour dire stop est vraiment mettre un stop à toute cette corruption faut jeter dehors les lobbyistes à bruxelles parce que les lobbyistes et la deuxième pharmaceutique fait partie des premiers jouent un rôle récemment j'ai été contacté par un gars qui était lobbyiste à bruxelles qu'il travaille dans l'industrie il m'a dit il ya vingt ans il y avait zéro lobbystes à bruxelles que quelques américains pas quelques anglais et maintenant les lobbystes à bruxelles ils sont partout ouais ouais c'est un métier qui rapporte une fois que j'avais regardé dans un bouquin de philippe de villiers qui avait dit quand il était député à bruxelles ils avaient mis sur la porte de son bureau interdit aux chiens et aux lobbyistes les lobbys sur le foot dehors c'est des gens qui sont qui sont là pour qu'on rentre et il est temps que les autorités politiques n'ont pas compris ça on sera toujours manipulés par des milliards d'euros de l'industrie donc vous allez trouver beaucoup de détails donc scandale un but on est en pénurie de masques la terrible crise sanitaire que nous avons traversée a été un formidable révélateur de ce qu'est réellement le pouvoir et une autre président celui ci n'a pas attendu pour mettre en cause ses prédécesseurs les blâmant sans aller cependant jusqu'à les nommer pour leur imprévoyance c'est du moins ainsi qu'il a présenté la situation franchement s'en prendre à eux pour détourner l'attention ça ne se fait pas à partir de 2011 il a tt il a été considéré que nous n'avions plus besoin de stocks de masques nous rapporte le la porte parole du gouvernement s'ils battent tenkai le 20 mars de cette année à raison on a en effet à cette époque un milliard de masques combat zard le président d'alors et ans nicolas sarkozy notre colère ne doit pas se tromper de destinataires or je relis l'avis du haut conseil de la santé publique hcsp la manière de gérer les stocks de masques avis relatif à la stratégie adoptée concernant le stock état de masques respiratoires cet avis je l'avais signé en tant que président de la commission maladies transmissibles du hcsp le 1er juillet 2011 je n'ai pas à rougir de ce texte tout y était prévu avec des recommandations précises pour l'état si nos autorités l'avaient suivi on aurait limité la débâcle en 2013 c'est françois hollande qui est président il décide de ne pas renouveler le stock de masques français marisol touraine ministre de la santé du moment ne cille pas jérôme salomon ne prend pas non plus fourche ou flambeau pour acculer le chef de l'état d'alors a commandé des masques et il est conseiller en charge de la sécurité sanitaire au sein du ministère de la santé il sait de quoi il parle tout de même et à ce moment là il nous dit clairement qu'on n'a pas besoin de masques dans le même temps jérôme salomon prévient le candidat macron que la france n'est pas prête à faire face à une urgence sanitaire notamment une épidémie c'est en tout cas ce que rapporte les mâcon l'x c'est note confidentielle envoyée à la garde rapprochée du futur président ait obtenu par le piratage des messageries de plusieurs dirigeants de l'as raismes alors évidemment là ça peut jeter le trouble on se dit qu emmanuel macron maintenant devenu chef d'état passera tout de suite commandes de masques pour son peuple au cas où on en est besoin comme dans le cas des dernières épidémies auquel on a dû faire face grippe pandémique h1n1 et serra s ebola sauf qu'il n'a pas le temps depuis qu'il est à l'elysée il est en pleine tempête il doit gérer les manifestations des gilet jaune des étudiants des fonctionnaires des retraités avocats policiers les cyniques 10 comme victor hugo que gouverner c'est prévoir cela me rappelle mon indignation lorsque j'étais dans les cortèges de médecins battant le pavé pour dire que le gouvernement était lamentable concernant sa gestion de l'ap-hp assistance publique hôpitaux de paris pour râler contre le manque de moyens de personnel d'autant qu'au début de la crise du coronavirus notre président affirme qu'il ne peut absolument pas présager de ce qui va se passer sa ministre de la santé est on ne peut plus rassurante elle explique le 24 janvier que le risque d'importation depuis one est quasi nulle le risque de probables a sion dans la population est très faible en termes de risque pour la france des analyses de risques d'importation sont modélisés régulièrement par les équipes de recherche le risque d'importation de cas depuis houran et mode effet il est maintenant pratiquement nulle puisque la vie vous savez est isolé traduction comme pour tchernobyl locaux vides 19 s'arrêtera aux frontières tout va bien nous les infectiologues spécialiste de ce genre de virus sommes doublement rassuré d'entendre la même agnès buzyn dire deux jours plus tard qu'aucune pénurie de masse n'aura lieu en france en cas d'épidémie du virus sur le sol français comme elle est tout sourire en l'annonçant elle dit même que d'ailleurs nous avons des dizaines de millions de masques en stock si on en a besoin on peut dormir sur nos deux oreilles n'oublions pas que la ministre est médecin de formation elle sait donc de quoi elle parle sauf qu'on découvre et bailly un courrier du 30 janvier 2020 du professeur jérôme salomon directeur général de la santé il est adressée au professeur geneviève shen directrice de santé publique france et futur membre du conseil scientifique de l'elysée dans cette lettre il demande à madame chen pour gérer la crise à venir de commander un million cent mille masques un peu plus d'un million de masques donc pour toute la france malade soignants professions exposées et même population générale en pleine crise majeure pour combien de français ça ne fait pas lourd et je ne compte même pas les départements et territoires d'outre-mer un nombre ridicule donc alors que les stocks sont au plus bas et pour couronner le tout avec quarante jours de retard quarante jours de retard jérôme salomon en experts de santé publique n'a semble-t-il pas bien compris que la quarantaine ça ne s'appliquait pas aux décisions avant de nous quitter la ministre de la santé agnès buzyn prend deux mesures phares confirmée par son successeur olivier vers ans quand il arrive le 17 février il envoie à l'étranger les derniers masques qui nous reste c'est déjà très fort mais et c'est encore plus fort il ramène le virus en france à bord des avions de l'armée de l'air c'est l'un des aspects les plus méconnus de la crise sanitaire qui nous a frappé un communiqué du quai d'orsay annonce en effet qu'un airbus a380 10 affrété par la france a bien envoyé en chine dix sept tonnes de matériel médical quelques jours plus tard on apprend notamment dans un article du point en date du 29 février que le foyer épidémique de l'oise est parti de la base aérienne de creil parce que les dizaines de personnes militaires et civils qui ont participé au repas trimant des français vivant à one n'ont pas été confinée après leur retour je ne leur en veux pas ils n'ont fait que leur boulot et dans des conditions difficiles mais qui a conseillé les militaires sur les mesures à prendre le ministère des armées a pourtant publié le 16 mars un communiqué catégorique des montants en bloc tout lien entre ce vol ou anne paris et la transmission du coronavirus dans l'oise fort bien mais alors pourquoi l'un des premiers plus gros foyers épidémiques apparu sur notre territoire dans l'oise et il apparemment partie de la base aérienne de creil masque contre virus une belle opérations d'import-export là où je commence à me poser des questions c'est quand je vois qu agnès buzyn quittent le navire au moment où le vide 196 mise chez nous pour aller par les trottinettes à paris etc enfin j'entends la porte parole du gouvernement si bête n'diaye déclaré à l'issue du conseil des ministres le 17 mars les français ne pourront pas acheter de masse dans les pharmacies car ce n'est pas nécessaire si l'on n'est pas malade les masques ce n'est pas si nécessaire si l'on n'est pas malade certes elle n'a pas fait médecine mais faut-il être médecin pour deviner qu'une personne qui tousse l'un des symptômes phare du corona virus va aller voir son pharmacien ou son docteur que le malade va de fait contaminée le professionnel alors bien sûr d'aucuns diront que l'entendre annoncé que les masques ne sont pas nécessaires alors que des grappes entières de médecins chercheurs professeurs du service public s'indigne tous les soirs au jt expliquant qu'il en faut des tonnes et vite peut donner envie de la jugé irresponsable au moins d'être tentée de douter de sa compétence sauf que ce sont les français paraît-il les grands responsables et c'est pour ça qu'ils n'auront pas de masque parce qu'ils ne seraient pas comment les mettre comme le dit toujours inspiré la porte parole du gouvernement qui ne cesse de nous étonner je pourrais dire je suis une ministre je me mets un masque mais en fait je ne sais pas l'utiliser parce que l'utilisation d'un masque ce sont des gestes techniques précis sinon on se gratte le nez sous le masque on a du virus sur les mains on en a une utilisation qui n'est pas bonne et cela peut être contre-productif dit-elle le 20 mars sur bfm tv la plupart des personnels de santé savent mettre un masque depuis longtemps mais sans doute pas les français dites vous non si bêtes les français ne sont pas si bêtes parce que c'est vrai se met deux élastiques sur les oreilles et déplier un bout de tissu ensuite puis bien serré la petite barrette sur le haut du nez c'est de la technique de pointe il faut sortir de polytechnique pas de protection pour le peuple donc pas pour les pharmaciens médecins de ville caissier tous ceux qui sont au contact du public mais heureusement nous les soignons on en aura hourra puisque olivier ferrand annonce le 17 mars sur france inter que nous avons assez de masques aujourd'hui pour permettre aux soignants d'être armé face à la maladie et de soigner les malades alors que je suis en train d'ériger une statue à l'effigié d'une ministre de la santé la foudre s'abat sur moi en fait même nous les premières lignes on aura finalement pas de masque non plus ah si on en aura a paraît-il un pour dix soignants et pour la semaine pourquoi parce que la réalité c'est aussi que ces derniers jours la logistique a été très complexe à gérer dit le ministre et là on peut se laisser aller à penser qu'ils nous baladent comme tu dit aline n'a pas peur du ridicule si bête mieux vaut prévenir que guérir la présidente de la région bourgogne franche comté elle a été plus prudentes que le gouvernement et la commander 2 millions de masques en chine pour les maisons de retraite de sa région à peine l'avion à tirer début avril la cargaison de masquer des tournées sur le tarmac par l'état véridique il est vrai que quelques jours auparavant on a assisté à des détournements de commandes de masques par certains pays la chine ou plus précisément deux associations caritatives de chine propose d'envoyer un million de masques à la france on attend mais on ne voit rien venir les masques n'arrive pas l'avion a disparu des radars qu'à cela ne tienne les chinois décide d'envoyer un autre de détournement le plus spectaculaire est filmé sur un aéroport chinois deux avions remplis de masques s'apprête à décoller pour la france des émissaires américains arrivent à l'aéroport avec des valises d'argent liquide et raf leurs stocks faut le faire la cargaison va aux états unis on se croirait au far west ce n'est pas grave olivier verront encore de bonnes paroles en réserve il parvient à dégoter des masques en france patatras ils sont revendus au marché noir j'ai pas ce que vous en pensez heureusement christophe castaner intervient une cellule interministérielle de crise se monte à beauvau et en moins de temps qu'il ne faut pour le dire finie le trafic la police française met la main sur quarante mille masques périmés puis quinze mille autres les jours qui suivent je suis dans mon service quand j'apprends ça je me joins à la danse de la joie si j'ose dire quant à mme les soignants dans tous les hôpitaux et les maisons de retraite ehpad ainsi bien sûr que les généralistes et les soignants de ville grâce à ça on va au moins tenir deux jours le plus tragique ce serait comique ont des circonstances moins dramatique c'est que jean yves le drian notre ministre des affaires étrangères annonce fièrement à la télé que des millions de masques ont été commandés et piles arriveront tenez vous bien en juin oui on juin c'est à dire quand la première vague épidémique sera derrière nous dormez braves gens on vous protège trêve d'ironie le gouvernement sur la gestion des max n'a pas été lamentable il a été bien plus que cela non seulement il n'a pas protégé ses soldats sur la ligne de front des soignants mais il a méprisé toutes les professions qui était aussi exposées à l'infection au coronavirus je parle des pharmaciens qui recevait des malades et ont été contaminés par milliers je parle des dix mille policiers contaminés car obligés de s'approcher pour vérifier les autorisations de sortie des français et je n'oublie pas les éboueurs chargé de ramasser nos poubelles les caissiers et autres personnels d'entrepôts les hommes et femmes de minage des hôpitaux les journalistes disséminés dans les services qu'ovide 19 pour couvrir l'actualité les services funéraires les laborantins qui l'état a transmis la mission de dépistage je n'oublie pas non plus routier ce qui approvisionne la france en nourriture ou en oxygène entre autres tous ces corps de métiers au coeur de la plus grande crise sanitaire de ce siècle était en première ligne sans protection pendant ce temps dans de nombreux pays y compris en europe on distribue gratuitement des masques à l'entrée des transports en commun il me semble qu'il était temps puisque ce gouvernement nous a laissés sans masque de démasquer leur incompétence à eux voilà si vous n'êtes pas aussi à boire sous dire abasourdi que moi a certes on savait déjà mais c'est bon de le lire voiliers et de ne pas oublier trop vite et pas du tout si c'est possible cette série de scandales il va y en avoir onze donc voilà pour le premier ce soir on 1\n"
          ],
          "name": "stdout"
        }
      ]
    },
    {
      "cell_type": "code",
      "metadata": {
        "id": "J9knfQhV6bsf"
      },
      "source": [
        ""
      ],
      "execution_count": null,
      "outputs": []
    },
    {
      "cell_type": "code",
      "metadata": {
        "id": "8WT3kdrIKBUy",
        "colab": {
          "base_uri": "https://localhost:8080/"
        },
        "outputId": "afad8b98-deaf-437d-897e-7bfc5272f493"
      },
      "source": [
        "print(l_similarites_freq[0])"
      ],
      "execution_count": null,
      "outputs": [
        {
          "output_type": "stream",
          "text": [
            "(1161, 1, 2.9642058165548097, 0.5124904921867591)\n"
          ],
          "name": "stdout"
        }
      ]
    },
    {
      "cell_type": "code",
      "metadata": {
        "id": "Da1-ECNMKBUz",
        "colab": {
          "base_uri": "https://localhost:8080/",
          "height": 417
        },
        "outputId": "1f469b3e-2de0-4955-a2e1-66b970fe62cc"
      },
      "source": [
        "# 6.d\n",
        "# ainsi que la corrélation entre similarité et fréquence des termes clés\n",
        "montre_relation_freq_termes_cle_similarite(l_similarites_freq)"
      ],
      "execution_count": null,
      "outputs": [
        {
          "output_type": "display_data",
          "data": {
            "text/html": [
              "<html>\n",
              "<head><meta charset=\"utf-8\" /></head>\n",
              "<body>\n",
              "    <div>\n",
              "            <script src=\"https://cdnjs.cloudflare.com/ajax/libs/mathjax/2.7.5/MathJax.js?config=TeX-AMS-MML_SVG\"></script><script type=\"text/javascript\">if (window.MathJax) {MathJax.Hub.Config({SVG: {font: \"STIX-Web\"}});}</script>\n",
              "                <script type=\"text/javascript\">window.PlotlyConfig = {MathJaxConfig: 'local'};</script>\n",
              "        <script src=\"https://cdn.plot.ly/plotly-latest.min.js\"></script>    \n",
              "            <div id=\"10e8250c-79d8-4fa0-9714-c788adce5092\" class=\"plotly-graph-div\" style=\"height:400px; width:600px;\"></div>\n",
              "            <script type=\"text/javascript\">\n",
              "                \n",
              "                    window.PLOTLYENV=window.PLOTLYENV || {};\n",
              "                    \n",
              "                if (document.getElementById(\"10e8250c-79d8-4fa0-9714-c788adce5092\")) {\n",
              "                    Plotly.newPlot(\n",
              "                        '10e8250c-79d8-4fa0-9714-c788adce5092',\n",
              "                        [{\"hoverlabel\": {\"namelength\": 0}, \"hovertemplate\": \"log fr\\u00e9q. relative=%{x}<br>similarite=%{y}\", \"legendgroup\": \"\", \"marker\": {\"color\": \"#636efa\", \"symbol\": \"circle\"}, \"mode\": \"markers\", \"name\": \"\", \"showlegend\": false, \"type\": \"scatter\", \"x\": [1.0866091438067538, 1.2944533955495772, 1.2973373126341736, 1.2909841813155658, 0.1318185746208478, 0.10662714027301917, 1.1116975282167652, 1.1755348690054024, 1.6728659392876444, 1.8192774981219473, 0.9585505411640378, 1.0828284209668477, -0.0840167013428174, 0.441974606311478, -0.9001613499442714, 0.7501986482471797, -0.12387554965554076, -0.04429829811034386, -0.20568048020290816, 1.3470736479666094, 1.4271163556401458, 1.791759469228055, 0.3477289042317846, 0.36672527979223385, 1.0909494159225406, 1.0216512475319812, 1.3158907205299213, 2.3396263646743947, 0.8562854968845831, -0.6606239888543853, 0.3011050927839216, -0.4705716497097442, 0.9234592213527676, -0.3747415252088294, 0.2832474753839152, -0.031983045853050764, 0.9458912016504458, 1.3455363686477229, 1.0751399324829676, 1.1907275775759152, -1.5665304114228238, 2.310953342664562, 0.2563821927899436, 0.6652637012098269, 2.394765846207462, 0.5798184952529422, -0.8274595181675394, -0.7383595233814934, 0.23669651771891329, 1.2089853461494804, -0.2181310094906654, 0.7637286147320346, -0.33157303707256947, -0.10915331389652251, 2.315163875200906, -0.4203093402623982, -0.3792922338041411, -0.8446412735586404, -0.9109431255475599, -0.008298802814695066, 0.8572018155041485, 1.0345546523678892, -0.5989642721231844, 0.9232594011902484, 2.0126328720077256, 0.6713856887784325, -2.1983350716202463, -0.6151856390902334, -1.3987168811184478, 0.9881679434051928, -2.3403624573280757, -1.3931458360689923, -1.1809600300168632, 1.9320072438863218, -1.7263316639055997, 0.1634998025533668, -1.6566395139183945, 2.259099981054307, 1.1973282616072674, -0.29402554637395595, 1.7552897894466637, -0.7262471289862902, -0.10436001532424276, 0.5286926255944151, -0.39279255685439796, -0.1272617796109272, 0.6219004406872557, -0.6084059521048546, 1.06743667119966, -1.7298840655099674, 0.7550225842780328, -0.8256363636060242, -0.9653529678722278, 0.2351471249921242, -2.874693945176935, 0.8240845380074213, -1.8733394562204777, 0.23031204079282225, -0.009950330853168092, -0.43286408229627876, -1.3083328196501787, -0.09833590072086183, -0.4803664162812821, -0.6672594096078175, -0.6308625278081123, 0.7011793522572095, -0.8865185735404849, 1.4035858582299516, 1.0154973819576032, -0.4637340162321402, -1.5810384379124023, -1.545432582458188, -1.2933563654606215, 1.3599770528025172, 1.1776554960085626, -1.3038181392956523, -1.3038181392956523, -1.306529392651028, -1.3029127521808397, -1.2208299213923588, -2.120763411241742, -0.34054556200884867, -0.173953307123438, -0.014067257211435478, 0.00836824967051658, -0.6307881008953063, -0.20119004109833738, -1.271631452799751, -2.0998567264224284, 2.0624439653112647, 1.2378743560016172, 1.2819343457956478, -1.2919836816486492, -0.8628899551470398, 1.4185326119487542, -0.5297875616473772, -3.1450139762697455, -2.761274962339508, -0.7952524034970989, -1.0114095058017352, 0.26461679952078476, -2.048660117340398, 0.2510287548037455, -1.951608170169951, 1.3943265328171548, -0.8208019646954828, -0.19987492437485538, -0.15081177856174371, -0.8962480757733666, -0.3203428546913293, -0.013113639145383138, -0.31689407392688784, -0.6992396945591026, -1.4011829736136412, 0.707651866762827, -1.9487632180377197, -3.0091419604639085, -1.0647107369924282, -1.888583653863595, 0.37833644071991174, -1.2578926463153663, -1.6351056591826783, -1.434290559388146, -1.4883995840570443, 0.2887082398070929, 0.09253026357066552, 1.5812670354674039, 0.5043650567630467, 0.7911275889201491, -2.4214786229344565, 1.3322271398496148, -1.2940420014148037, 0.03735578654376882, -3.489513462710723, -0.1535790879283007, -0.6300194285253918, 0.34349685155817744, -0.7581611321408114, 0.24399905827510093, -0.23507212217948356, -0.3340884452659367, -0.09682418463553993, 2.0714733720306593, -0.9096017437233586, -0.7485818874480459, -0.12956520435464366, -0.055119299221079554, -1.0560526742493137, 2.17742195004004, -2.0943301541735866, -0.02955880224154439, -0.026317308317373417, -0.14410034397375687, 0.4620354595965586, -2.0228711901914416, 1.0176908463158845, -2.1144466508785262, -1.599387576580599, 0.2262734443231375, 1.6990500711237875, -0.2597968689622453, 0.05657035148839424, -0.924258901523332, -0.7030975114131134, -0.9053742201328046, -0.9053742201328046, -2.188295946591918, 1.6519975268528964, -0.21107097007994055, -0.714908672341458, -1.0438040521731147, -0.38579372219945707, 0.7479554170549403, -2.488234439880675, -0.9932517730102834, -2.4871264065263134, -1.4881173771975447, -1.0702128141464118, -2.247072383063787, -0.9287837961216215, 0.4502010019495558, 1.3121863889661687, -0.3030631744900832, 0.05129329438755048, -0.21241958795123408, 0.011313759900273314, -1.8855533485144158, 0.4521637111174045, -0.24338181355520097, -2.949164637737656, 0.083381608939051, -0.5933268452777343, 1.3664917338237108, 0.6348782724359695, 1.6739764335716716, 0.025317807984289786, 2.2335922215070942, -1.1019400787607843, -2.7239235502585, 1.1854782216897717, -1.2809338454620642, 0.008987636497379367, -2.042518187575238, 0.47803580094299974, 2.407945608651872, 0.7950947236215317, -0.8638271623384142, 1.9572239089555867, -0.17675051174449924, -0.585933096252796, -1.6409365794934714, -0.7724203614544533, 0.8794767587514388, -0.9883012678504272, -2.115049969147204, -0.8355144218468672, 0.5025268209512956, 1.1792801917355644, -2.800325477211381, -1.8837814204467007, -1.6873244510911716, -0.7214916535690878, -1.8191584434161694, -1.8293763327993617, -0.03922071315328127, 0.3227337105106996, 0.2613647641344075, 0.1392620673335076, 0.3147107448397002, -1.9892432737616872, -1.9719955195309882, -3.652215469742345, -0.6312717768418579, 1.1277836659683895, -1.0508216248317612, 2.120263536200091, 1.1472774606493907, -3.3965197921110444, -0.5423242908253616, 0.7501246153024856, -1.6253112615903904, -0.3754353616564684, -0.4098997051760301, 0.48391817084606636, 2.3879449419452023, -0.5453650671835629, 0.5084475013610232, -0.23507212217948356, -0.614847744172337, 1.0755470157371136, 0.2910209737172956, -0.9858167945227653, 0.8324092478934529, -1.3270750014599193, -1.5971122627434635, 1.0078579253996456, -1.340250422618484, -1.2025432115163415, -0.9156238428864514, -1.6467336971777973, -1.0212511675106415, -2.1041341542702074, -0.2889312918522128, -0.9745596399981308, -2.3559362684910403, -1.007957920399979, -0.5653138090500603, 1.160487692386197, -1.5085119938441398, -2.3398808777377424, 0.9675840262617057, -0.8250522514398839, 0.5978370007556204, 0.04866517198128101, -0.7030975114131134, 0.7223185578602251, 0.5175146119167873, 1.0147308046874077, -2.8906494971008385, -0.9941772705312263, 1.171182981502945, -1.888583653863595, 0.2613647641344075, 0.17802311603374016, -0.8064758658669484, -1.085189268335969, -1.8242804387089238, 0.5069868474588249, 0.13210384063333727, -0.8628899551470398, 0.3941013494578493, -1.0367368849500223, 0.3340751120214914, 0.5219989243641159, -1.5706970841176697, -1.3344746123900941, 0.09156719352549043, -1.4798985410791152, -0.7907275088988093, -0.6609682821957101, 0.9942522733438669, 1.171182981502945, -2.1329823086078656, -2.4274540750399147, -2.1138429683971682, -1.5085119938441398, 1.8505999692509885, -1.3551906160685567, -0.5083224935478722, 1.7227665977411035, -0.009950330853168092, -0.08617769624105227, -0.7275486072772778, -2.4218485138208634, -0.44468582126144557, 0.5863331762741358, -0.46687373623680783, -1.566232126558569, -2.070232602594526, 0.8915981192837835, -0.3277037468012669, -0.8796267475025635, -1.776645831418007, -1.8645967931803211, 1.5606477482646683, -0.6563679290566489, -1.6174060820832774, -1.169381359556317, -2.280339484046726, 1.8860701486992963, -0.2889312918522128, 0.7224615682287207, 1.9763693565400218, 0.43335031159770004, 0.0408219945202552, 0.7657178733947807, -0.009950330853168092, 1.0078579253996456, -0.6601073264817452, -1.8460898137731023, 0.9263410677276565, -0.1570037488096648, 0.16448163866562365, 0.7437389666760054, -0.12868634096132295, -0.4382549309311553, -0.4700036292457356, -0.01324522675002068, 0.7874578600311867, -1.2601640839756785, 1.491654876777717, 0.1508228897345837, 2.0794415416798357, 0.008032171697264253, 0.5447271754416719, -2.3438869723511515, -1.701105100959924, -0.5638923447026829, 1.3559890116245616, 0.06613980250454499, -1.56234630490025, -1.0260415958332743, 1.5527425687575551, 0.2613647641344075, 1.8971199848858813, -0.6931471805599453, -0.8581318177006229, -0.6418538861723948, -1.7701385231250912, -0.5353788538207683, 0.8413894237010374, 1.331175061898811, -0.009950330853168092, 0.7550225842780328, -0.7731898882334817, -0.8109302162163288, -1.3428648031925545, -1.4883995840570443, -1.7561322915849038, -0.8923132481335674, -0.1823215567939546, -0.7654678421395714, 1.030953640194295, 1.6502599069543555, -2.7549337870010606, -2.052840859882657, 0.17575492907006623, -0.4165149442947494, -1.6054298910365616, -0.0884686479876081, -1.6992786164338898, -2.659559991941776, -1.489527615761543, -1.4122057429043915, -0.28141245943818544, -2.044461822783809, -1.423108334242607, 1.2039728043259361, -0.12221763272424915, -2.0554049638515948, 0.3566749439387324, 1.205640861426633, 1.0861897686695525, 0.9875182411625228, -0.173953307123438, -0.3937298518897434, -1.1489884959931764, -1.2149127443642704, -2.800933195248924, -1.6770965609079151, 1.2378743560016172, -1.2406261219739714, -1.6233408176030917, 0.0, 0.24846135929849972, -0.2311117209633867, -0.3184537311185346, -2.648300196696436, -2.0873270359538263, -0.9784827521306027, -0.3118867611485983, 0.2025242641114741, 1.0886619578149417, 0.9162907318741551, -0.5364933705145686, -2.3532782073095637, 0.22257553085020115, -0.30010459245033816, 1.783791299578878, -0.1570037488096648, -0.2311117209633867, 1.3862943611198906, -2.647592232065096, -0.39541477225466287, -1.4678743481123135, -1.305626458052436, -0.8940451229268354, -0.21856164180909807, -1.4243124283074116, -0.5364933705145686, 0.7960416037225782, -2.5079719227189963, -0.019802627296179754, -0.15272108701766385, -2.803360380906535, 0.5887871652357025, 0.5816058058270379, 0.8997614299229445, 0.45413028008944545, 0.8153148145341529, -0.37385976869283327, 0.4269441397852886, -0.7400307664587957, -0.9895411936137478, 1.2729656758128876, -0.16126814759612226, -0.08617769624105227, -0.16551443847757344, -0.9631743177730054, -1.3029127521808397, 0.17435338714477774, -1.8594181177018698, -0.2311117209633867, -0.07696104113612832, -0.19885085874516517, -2.8237570088141806, -2.827313621929028, -0.23901690047049984, -1.2992829841302609, 0.48265474679929443, -0.4382549309311553, 0.24419696051204215, -0.4317824164255378, 1.6094379124341003, -3.23907053215372, 0.1508228897345837, 0.010050335853501506, -2.234306252240751, -1.2556160374777745, 0.8324092478934529, -0.724322798028395, -0.45742484703887537, 0.5591992080502064, -0.03922071315328127, 0.7082608183699934, 0.7657178733947807, -1.6389967146756448, 0.3147107448397002, -1.7884205679625405, -0.11332868530700312, -0.6523251860396901, -0.4317824164255378, -0.44788582399211657, -2.1004689088719117, -0.1570037488096648, -0.4824261492442928, -0.9981778913463393, -3.475376779836407, -0.5068176023684517, 0.1165338162559516, 0.3519243411801346, -0.6575200029167942, 0.5887871652357025, 1.192922968139351, -0.6830968447064438, -1.1969481893889715, -1.0116009116784799, -0.13102826240640414, 0.5665145296265792, 0.1566538100453768, 1.3704210119636004, 0.7031975164134469, -0.21511137961694557, -0.1570037488096648, 1.4842747694800944, 1.07880966137193, 0.46601160797619806, -1.6714733033535532, 0.7985076962177716, 0.843970070294529, -1.1908875647772805, -1.463255402256019, 0.3424903089467759, 0.8209805520698303, 0.9675840262617057, 0.6635883783184009, 0.7133498878774648, 0.9246589815446716, -1.3686394258811698, -0.048790164169432056, 0.3930425881096072, -0.8197798314933114, 1.2552660987134865, 0.40047756659712536, -0.3364722366212129, 0.647536669307893, 0.19845093872383823, -0.1375856629525631, 0.6348782724359695, -1.3614892422009195, 1.2378743560016172, -0.7030975114131134, 0.8209805520698303, 0.1392620673335076, 0.7507762933965817, -2.4019778368720806, 1.5141277326297755, 0.47000362924573563, -1.121677561599106, -0.633927820899974, -0.9122827104766162, -0.21511137961694557, 1.817077277212345, -0.28517894223366247, 0.6733445532637655, -0.06765864847381481, -0.9895411936137478, -1.160020916796753, -0.173953307123438, 0.9675840262617057, -0.6497176226326092, 0.5361434317502806, 0.27443684570176036, -1.061256502124341, -0.2546422183735807, -0.3089542077273206, 0.010050335853501506, 0.4155154439616658, -0.3646431135879093, 0.44628710262841953, -0.1906203596086497, -0.28517894223366247, 0.07257069283483537, 1.3664917338237108, 0.08883121370661583, -2.499795262281751, -1.000631880307906, -1.2669476034873244, -0.29266961396281993, -1.2612978709452054, -0.48858001481867097, -2.3085671646715933, -0.40546510810816444, -0.173953307123438, 0.27443684570176036, 0.9781661355922425, 0.7838015488280762, -0.2776317365982795, 0.38566248081198473, 0.1392620673335076, 0.03045920748470844, -0.019802627296179754, -0.02955880224154439, -0.28517894223366247, 0.5025268209512956, 0.48613301117561913, 1.0033021088637848, -0.39204208777602373, -0.4252677354043441, -0.262364264467491, 0.8556661100577203, 0.7339691750802005, -1.4327007339340465, 0.5276327420823719, -0.30748469974796055, 0.3955147772549963, -1.2208299213923588, 0.5798184952529422, -1.5260563034950494, 1.1290714961528183, 0.5361434317502806, 0.6799019538099246, 0.18632957819149354, 0.38566248081198473, 0.8675005677047231, -1.7322453416956474, 0.7011793522572095, 0.1508228897345837, 1.0216512475319812, 0.6799019538099246, -0.019802627296179754, 0.083381608939051, 0.3011050927839216, -0.7793248768009976, -0.6729444732424258, 0.843970070294529, -0.12221763272424915, -1.5871923034867805, 1.0861897686695525, 0.7874578600311867, -0.019802627296179754, -0.4252677354043441, 0.1392620673335076, -0.9932517730102834, -0.19885085874516517, -0.32208349916911333, -0.009950330853168092, -0.14842000511827333, -0.19885085874516517, -1.1631508098056809, 0.6733445532637655, 1.2378743560016172, -0.5653138090500603, -0.16551443847757344, -0.19885085874516517, 0.6348782724359695, -0.8020015854720274, 0.5276327420823719, -0.009950330853168092, -0.8285518175661483, -0.12221763272424915, 1.035637489506721, -0.6151856390902334, 0.47803580094299974, 0.7339691750802005, 0.21072103131565253, 0.8209805520698303, 0.0408219945202552, 1.155182640156504], \"xaxis\": \"x\", \"y\": [0.5124904921867591, 0.500583691738331, 0.4727789515240915, 0.46165239815428305, 0.4230615054250394, 0.41977194025102, 0.4085209482844637, 0.4009410773619389, 0.40034483345458416, 0.39797197041092364, 0.39248349079140504, 0.39216570532660977, 0.38280069088144797, 0.37846822155996757, 0.3739263221422059, 0.3716523279050432, 0.36920160430929294, 0.35806607897106946, 0.3570216306970405, 0.3517901563399096, 0.3515373426843025, 0.3494570262850691, 0.3469050786182192, 0.34579123157453295, 0.34023966660198474, 0.33747366651429744, 0.3373482105493609, 0.33691142883705427, 0.33631846471821575, 0.3353739113039761, 0.33451772341927327, 0.3340200602358926, 0.33035493707227004, 0.32827124720627004, 0.32579489491230007, 0.3256494360842599, 0.32544062709079685, 0.32345907391327966, 0.3192623839523921, 0.3186966223116527, 0.3167281902514789, 0.315503306662199, 0.3153799031642582, 0.3150581792587763, 0.31391093941365766, 0.3137747313851268, 0.3136269175058602, 0.31239705906917226, 0.3123212754090534, 0.31186460505434743, 0.31077686609833366, 0.310671780292056, 0.31038758248564796, 0.30851411295714326, 0.30796772106644527, 0.30735119762479063, 0.30555695198382893, 0.30350419357401764, 0.3025592062096481, 0.30150923684982006, 0.30095036962555116, 0.3006754509129684, 0.30018512278955944, 0.29913082420299697, 0.2970775705702704, 0.29634654452197595, 0.2959743652483453, 0.2949246069710212, 0.29382377277399835, 0.29321484062268466, 0.29079319724592106, 0.29076440107499013, 0.2906376287169739, 0.2901559513866343, 0.2901085117227213, 0.2885663693683674, 0.28720450832164235, 0.28678592208916415, 0.28639707677419246, 0.28633381445644657, 0.2862915714847505, 0.2856984771029816, 0.2855567546535484, 0.285473401364083, 0.2848948977659223, 0.28354090733460346, 0.28348641258890145, 0.2818775305356915, 0.2816765407736596, 0.2816562594161083, 0.2812675389563132, 0.28099614403063705, 0.28094831632685974, 0.28083474038888223, 0.280698557501464, 0.28015097664083216, 0.28011388997629455, 0.2795306831333748, 0.27864232743361483, 0.27735756458028626, 0.27698352760003947, 0.27695390043113366, 0.27668768999259385, 0.2764032025989383, 0.27639489472827455, 0.27637224854556686, 0.27608026849744843, 0.27574485707127416, 0.2738830807243016, 0.2732958584298256, 0.27322429346987986, 0.2731748212242757, 0.2721559803194423, 0.2717438165344465, 0.2708959617580671, 0.2695273837483325, 0.26943910610417643, 0.26926866696793594, 0.2689559402033876, 0.2684963417776318, 0.26768953056334166, 0.26691619805391115, 0.26675539268061316, 0.26596573626208403, 0.26551509931307143, 0.26414384961579535, 0.2640691687688538, 0.26332319314607827, 0.26331773891295046, 0.26302053463166614, 0.2627162549472522, 0.26243034012424166, 0.26236261186476717, 0.2620862180340085, 0.26207663469888626, 0.26132050367338217, 0.2610367708339047, 0.2609708029671649, 0.2600856571963892, 0.25935365209924777, 0.25846176887281025, 0.25828248629339107, 0.25824031276758347, 0.25796833747796327, 0.2577588990312982, 0.2571764691709884, 0.2562475970948264, 0.2560318503561537, 0.2560296922043004, 0.25559454915281754, 0.25539924954509596, 0.2537909536146258, 0.2534251842716474, 0.25337241812816885, 0.25335912418830625, 0.25291787943778726, 0.25277922664107866, 0.25270060494288726, 0.2522780781081838, 0.2521074993286905, 0.25089211541509454, 0.250101534693437, 0.2500660128067367, 0.25001160626515206, 0.2499993680611535, 0.2490045173256046, 0.2489177088714522, 0.2488527775592978, 0.24847725038680893, 0.24826205585379754, 0.24761614567018353, 0.2464756519004055, 0.24545293126262632, 0.24473706304436083, 0.24367130707454357, 0.24341934315250927, 0.243236161552999, 0.2431363611427096, 0.2425959981828516, 0.2420688346834022, 0.24192568413477816, 0.24176887634598512, 0.24160397054941904, 0.24088995402719005, 0.2408143747346549, 0.24031437971975675, 0.24009074302307212, 0.2382738367840934, 0.23822472761400218, 0.23784759573240932, 0.2376494835615421, 0.23732910275601837, 0.23613812042786136, 0.23471297054695042, 0.23470720200160433, 0.2344579616750411, 0.2343437110527926, 0.2338292924220441, 0.23331900710783127, 0.23304301732956773, 0.23269020053239423, 0.23132475757616763, 0.23102950982658496, 0.2309704783256946, 0.23068222106227346, 0.23068222106227346, 0.23016267585374556, 0.22966109463676468, 0.22936323153879798, 0.22926664123351, 0.22888219763255552, 0.22850778030077049, 0.22838917312345808, 0.22791649863417515, 0.22784310267395325, 0.22760076558077408, 0.2274569175381701, 0.2272221094471928, 0.22720720701476504, 0.22617446883867012, 0.22580602715870207, 0.22550239869420877, 0.22546248971095997, 0.22497218424764173, 0.22458329718002526, 0.22444317168485847, 0.22403582597537414, 0.22384845481316024, 0.22329321432061988, 0.22290392730537287, 0.22289620326931897, 0.22249634216383715, 0.2224683558241699, 0.22161929158120877, 0.2216014761246657, 0.22147764226087188, 0.22110033730708112, 0.22093331933394256, 0.2209267063142967, 0.2206792853438403, 0.22062563836279026, 0.22047592524955792, 0.2201616899920548, 0.22009030489744916, 0.21989974856677125, 0.21970911155775366, 0.21969628604560343, 0.21954875113861233, 0.2194852340632978, 0.21945349900955438, 0.2186326700687922, 0.2182998861445256, 0.2179957540916443, 0.21741348704238203, 0.21716430528605632, 0.21642801603170406, 0.21610275340002535, 0.21531225977306284, 0.21524281065370032, 0.21459147863948258, 0.21448479330735082, 0.21428214383642888, 0.2142366741183059, 0.21417834927314633, 0.21352717976433774, 0.2133046774450931, 0.21321703294510783, 0.2131923898614184, 0.21240756704570915, 0.21239174054251023, 0.21226239967025068, 0.21170719939376434, 0.2116407418168878, 0.2115889869222764, 0.2112882070658235, 0.2111386604609304, 0.21047547362819533, 0.20955918412807248, 0.20936111811090102, 0.20931686711237257, 0.2089567848256354, 0.20879303377377698, 0.20878885294364688, 0.20853824407284283, 0.20845589757791994, 0.2083705451000567, 0.20795369151040483, 0.2078113035096718, 0.20744462321003693, 0.20725977842920804, 0.20647950177938063, 0.20634080967004725, 0.2063226993952901, 0.2061870795855374, 0.20605043840494494, 0.20528417055103085, 0.20525065698019052, 0.2051338615624992, 0.20432318927491064, 0.2039638773501884, 0.20392392133128795, 0.20381939317541184, 0.20378988004167828, 0.2037155427553132, 0.20362055201374768, 0.20360671170528177, 0.20342484646261866, 0.20332695784554997, 0.20321625143664618, 0.20318461916678632, 0.2028106456032711, 0.20275893401826012, 0.20214038441061494, 0.20208905461852353, 0.2009828397706146, 0.20059893266468634, 0.2005817274378839, 0.19971092951206745, 0.1994932759290254, 0.19943694038111287, 0.19925850144533183, 0.19842883175488396, 0.1966098953288877, 0.19567340845168626, 0.1954110824231552, 0.19540258135094213, 0.19530982452587095, 0.19472808038127323, 0.1944539258666517, 0.19441043088890328, 0.19432371769797088, 0.19409661053529928, 0.194086065019687, 0.19383073125792732, 0.19341345824176562, 0.1933894953883727, 0.19334284897190931, 0.19292181495870994, 0.1924011485864771, 0.192399869539521, 0.1919092037623963, 0.1916706105469652, 0.19159318946538595, 0.19136188833813741, 0.19122407143135592, 0.19100664187139388, 0.19095906950838953, 0.19073021266978635, 0.19072304552165179, 0.19060429553680971, 0.19031567140014868, 0.1897874915076312, 0.18975646316450326, 0.1891863360758663, 0.18881745830584468, 0.18867497798749344, 0.1886181864815019, 0.18806379018748012, 0.1874267841727722, 0.18730539557022702, 0.1865898326215146, 0.18655525281705698, 0.1857444526504343, 0.18537349452445384, 0.18510702279770944, 0.18493580451253705, 0.18463889403617467, 0.18461210070918035, 0.18446357204142755, 0.18425387619937036, 0.1835287167736712, 0.18320322035130832, 0.1828102313308647, 0.18272176310280586, 0.18260557654368634, 0.18222715866012937, 0.18154725729026971, 0.18141797718568603, 0.18140099549727945, 0.18106513124896456, 0.18088309257552537, 0.18087278389209077, 0.18049627844538307, 0.18046292425101476, 0.18024430763610066, 0.1798251152030093, 0.17972298936582978, 0.17954739285163532, 0.17923026444479045, 0.17819023678479765, 0.1781181499541712, 0.1775419343029473, 0.17730156043135825, 0.17711796823765805, 0.17701929759625082, 0.17700215261030666, 0.17652957468129474, 0.1765194122643535, 0.17631191076902863, 0.17629520934697318, 0.1761046676864363, 0.17598408527940837, 0.17562897665613758, 0.1755667292448273, 0.1755589373475692, 0.17528652497200733, 0.17522416610760408, 0.17514620703710745, 0.17463994954798853, 0.17460367242143537, 0.1745551254574239, 0.1744959713717861, 0.17428032757721104, 0.17408009263595572, 0.17326038545121084, 0.17299284554863517, 0.1721919616625128, 0.171775273866471, 0.17168634972842983, 0.1715995616728014, 0.1712676276087523, 0.17115007578521432, 0.17081676911882743, 0.17051815632014833, 0.16951880193074179, 0.16933262773911037, 0.16887100288678883, 0.16866250634927593, 0.16822330765357998, 0.16815600271020453, 0.16804662611728866, 0.16705579998854708, 0.1662344547136062, 0.16569369583291782, 0.16544130566655366, 0.16535631820942548, 0.16496640239344582, 0.16461675805393466, 0.16456132854407501, 0.16437158230324936, 0.1642112466968565, 0.16414837609584715, 0.1639584898182674, 0.16393356719058025, 0.16391568614635182, 0.16380029709499355, 0.16377480147949394, 0.16373314255340649, 0.1630822573478172, 0.16285612164309857, 0.1624290828387518, 0.1623158676076185, 0.1615628499542556, 0.16123475134729037, 0.16090664854355072, 0.16063985838837272, 0.16034908323887181, 0.1602948663373989, 0.1598279307731482, 0.15971617258560464, 0.15961977838193767, 0.15913497513246516, 0.15913378845802406, 0.1586808357250999, 0.1577751610212689, 0.15739147726355635, 0.15735400535240304, 0.15718875511867383, 0.1570273139620153, 0.15685408156816336, 0.15672181306182706, 0.15665561588334617, 0.15642313527505833, 0.15602686503493338, 0.15600831367195778, 0.1556401135964454, 0.15537053080339752, 0.15517039929081644, 0.15356128204374236, 0.15353261278348193, 0.1532961789852492, 0.15280600803269098, 0.15273612199814426, 0.15266727535323218, 0.15242963377508326, 0.1520185566795347, 0.15194295270337035, 0.15185497647199175, 0.15183198535340317, 0.15151157182718014, 0.1508679630014259, 0.15046439508441659, 0.15020006394761412, 0.14929577997908522, 0.14924877030792186, 0.14917050906595014, 0.1486617418155183, 0.14856876228153956, 0.1467614557490874, 0.14651438276019899, 0.1464273518725868, 0.14641491445820398, 0.14559468967430295, 0.14552727320889422, 0.14544475152493433, 0.14534957723701888, 0.14499602640681197, 0.14491789877091135, 0.14472878939168377, 0.1443445177420636, 0.14333977744394022, 0.14294884624184065, 0.1413292323130913, 0.14075249716873411, 0.14069609106236594, 0.1406779008407242, 0.14051173857371665, 0.13986547683853592, 0.13977653617040256, 0.1396441192995377, 0.1394144109455255, 0.13889174677316318, 0.13869608134576678, 0.13850430919835055, 0.13802223395657087, 0.13717555743927157, 0.1363019408495268, 0.1362518058039291, 0.13594731821089306, 0.1355276530484734, 0.13546576254239887, 0.1353386767910087, 0.13505123172921488, 0.13457509169726176, 0.1343270363016682, 0.13414152251552877, 0.1340223714377678, 0.13398134678352588, 0.13383094014829627, 0.13381142984275515, 0.1336901848269318, 0.13338985422378802, 0.13284666289897382, 0.13254927431903055, 0.13223771467034037, 0.13200706383332753, 0.13138243283619247, 0.1306996777027966, 0.1306348705533323, 0.12985823223878323, 0.12984764546638605, 0.12955676203350713, 0.12904996478192535, 0.1286102129965882, 0.12831387722017862, 0.12826214467121738, 0.1281891073236683, 0.12811934337779554, 0.12792751740679018, 0.12758721829349182, 0.12746110374378675, 0.12693485740746155, 0.12650187298175633, 0.12644235542589347, 0.12644235542589347, 0.12624770774433483, 0.12584710640215385, 0.125509459398268, 0.1250040551660415, 0.12418844036640875, 0.12410712943073703, 0.12407823877736494, 0.12402666498238842, 0.12374450081888184, 0.12329990490316295, 0.12279352033899359, 0.12178200703274407, 0.12158008017019066, 0.12151344084203174, 0.12150812564134865, 0.12148577783824026, 0.1209287389546424, 0.12092873895464239, 0.12063746818020776, 0.12019416848383772, 0.12009811078823997, 0.11969826190109023, 0.11945220005766043, 0.11922188677086124, 0.1191988041589518, 0.11908227115896977, 0.11879535930092666, 0.11848548227084042, 0.11816969740461941, 0.11812228823562489, 0.11806826318989035, 0.11679744112378672, 0.11633205301882768, 0.115977245387993, 0.11550884715180335, 0.1144825064728566, 0.1139291140222138, 0.11356439670467178, 0.11319834263686325, 0.1128331264052734, 0.11281054055481368, 0.11226486234278434, 0.1113061354600349, 0.11126489925133497, 0.11076033752677865, 0.11055016865354056, 0.11050825744968659, 0.11030123576203683, 0.1101247797417859, 0.1098466237556325, 0.10949237383771808, 0.10928133146871903, 0.1090630566754072, 0.10899490268743695, 0.10890007244051025, 0.10881807312150944, 0.10879214325429261, 0.1079915806060498, 0.10785559096370208, 0.10762864093670327, 0.10746932881352207, 0.10723882850164822, 0.10720112742630099, 0.1071937999755722, 0.10707262551247222, 0.1070251512450711, 0.1063005183091091, 0.10503534857564194, 0.10401691527347592, 0.10351928533539206, 0.1000090921489482, 0.09801843420190963, 0.09777166055078054, 0.09774645127522293, 0.0975319748835313, 0.09730395108742193, 0.09717176987122365, 0.09709614967779147, 0.09628976116976656, 0.09611232608974261, 0.09464032729779095, 0.0942975471546079, 0.09408205065626266, 0.09386446666491947, 0.09233394838527738, 0.09177243859179728, 0.09156917035433401, 0.09116033456952781, 0.09105617780332935, 0.09084459349699235, 0.09014523977471543, 0.08857666024572833, 0.08799204263970418, 0.08797981562744525, 0.08796477295633667, 0.08685344155229403, 0.08593756244302925, 0.08517525507230715, 0.08506264994993677, 0.08506185650970827, 0.08502738956271602, 0.08494224322520977, 0.08432569704791285, 0.0842385301123948, 0.08403124898471792, 0.08335377983716864, 0.08229929527521536, 0.08203519706581167, 0.08198398083608956, 0.08164994840421637, 0.08120297146346381, 0.08065968389074325, 0.0794890193098683, 0.07862026077346172, 0.0780154003330087, 0.07755266178999007, 0.07722625370796257, 0.07635912181530728, 0.07474244175586903, 0.07305558865636183, 0.07196780487989574, 0.07035409469815555, 0.06811162165299131, 0.06766409734667841, 0.06362972305563441, 0.0582528664574312, 0.05575476243448132, 0.054734290022615394, 0.05447287240479281, 0.05078367161190256, 0.048499575344069804, 0.04401517595024991, 0.04250131159402673, 0.035266438619376776], \"yaxis\": \"y\"}],\n",
              "                        {\"annotations\": [{\"showarrow\": false, \"text\": \"Correlation 0.07\", \"x\": -0.6221349305452366, \"y\": 0.6406131152334489}], \"autosize\": false, \"height\": 400, \"legend\": {\"tracegroupgap\": 0}, \"margin\": {\"t\": 60}, \"template\": {\"data\": {\"bar\": [{\"error_x\": {\"color\": \"#2a3f5f\"}, \"error_y\": {\"color\": \"#2a3f5f\"}, \"marker\": {\"line\": {\"color\": \"#E5ECF6\", \"width\": 0.5}}, \"type\": \"bar\"}], \"barpolar\": [{\"marker\": {\"line\": {\"color\": \"#E5ECF6\", \"width\": 0.5}}, \"type\": \"barpolar\"}], \"carpet\": [{\"aaxis\": {\"endlinecolor\": \"#2a3f5f\", \"gridcolor\": \"white\", \"linecolor\": \"white\", \"minorgridcolor\": \"white\", \"startlinecolor\": \"#2a3f5f\"}, \"baxis\": {\"endlinecolor\": \"#2a3f5f\", \"gridcolor\": \"white\", \"linecolor\": \"white\", \"minorgridcolor\": \"white\", \"startlinecolor\": \"#2a3f5f\"}, \"type\": \"carpet\"}], \"choropleth\": [{\"colorbar\": {\"outlinewidth\": 0, \"ticks\": \"\"}, \"type\": \"choropleth\"}], \"contour\": [{\"colorbar\": {\"outlinewidth\": 0, \"ticks\": \"\"}, \"colorscale\": [[0.0, \"#0d0887\"], [0.1111111111111111, \"#46039f\"], [0.2222222222222222, \"#7201a8\"], [0.3333333333333333, \"#9c179e\"], [0.4444444444444444, \"#bd3786\"], [0.5555555555555556, \"#d8576b\"], [0.6666666666666666, \"#ed7953\"], [0.7777777777777778, \"#fb9f3a\"], [0.8888888888888888, \"#fdca26\"], [1.0, \"#f0f921\"]], \"type\": \"contour\"}], \"contourcarpet\": [{\"colorbar\": {\"outlinewidth\": 0, \"ticks\": \"\"}, \"type\": \"contourcarpet\"}], \"heatmap\": [{\"colorbar\": {\"outlinewidth\": 0, \"ticks\": \"\"}, \"colorscale\": [[0.0, \"#0d0887\"], [0.1111111111111111, \"#46039f\"], [0.2222222222222222, \"#7201a8\"], [0.3333333333333333, \"#9c179e\"], [0.4444444444444444, \"#bd3786\"], [0.5555555555555556, \"#d8576b\"], [0.6666666666666666, \"#ed7953\"], [0.7777777777777778, \"#fb9f3a\"], [0.8888888888888888, \"#fdca26\"], [1.0, \"#f0f921\"]], \"type\": \"heatmap\"}], \"heatmapgl\": [{\"colorbar\": {\"outlinewidth\": 0, \"ticks\": \"\"}, \"colorscale\": [[0.0, \"#0d0887\"], [0.1111111111111111, \"#46039f\"], [0.2222222222222222, \"#7201a8\"], [0.3333333333333333, \"#9c179e\"], [0.4444444444444444, \"#bd3786\"], [0.5555555555555556, \"#d8576b\"], [0.6666666666666666, \"#ed7953\"], [0.7777777777777778, \"#fb9f3a\"], [0.8888888888888888, \"#fdca26\"], [1.0, \"#f0f921\"]], \"type\": \"heatmapgl\"}], \"histogram\": [{\"marker\": {\"colorbar\": {\"outlinewidth\": 0, \"ticks\": \"\"}}, \"type\": \"histogram\"}], \"histogram2d\": [{\"colorbar\": {\"outlinewidth\": 0, \"ticks\": \"\"}, \"colorscale\": [[0.0, \"#0d0887\"], [0.1111111111111111, \"#46039f\"], [0.2222222222222222, \"#7201a8\"], [0.3333333333333333, \"#9c179e\"], [0.4444444444444444, \"#bd3786\"], [0.5555555555555556, \"#d8576b\"], [0.6666666666666666, \"#ed7953\"], [0.7777777777777778, \"#fb9f3a\"], [0.8888888888888888, \"#fdca26\"], [1.0, \"#f0f921\"]], \"type\": \"histogram2d\"}], \"histogram2dcontour\": [{\"colorbar\": {\"outlinewidth\": 0, \"ticks\": \"\"}, \"colorscale\": [[0.0, \"#0d0887\"], [0.1111111111111111, \"#46039f\"], [0.2222222222222222, \"#7201a8\"], [0.3333333333333333, \"#9c179e\"], [0.4444444444444444, \"#bd3786\"], [0.5555555555555556, \"#d8576b\"], [0.6666666666666666, \"#ed7953\"], [0.7777777777777778, \"#fb9f3a\"], [0.8888888888888888, \"#fdca26\"], [1.0, \"#f0f921\"]], \"type\": \"histogram2dcontour\"}], \"mesh3d\": [{\"colorbar\": {\"outlinewidth\": 0, \"ticks\": \"\"}, \"type\": \"mesh3d\"}], \"parcoords\": [{\"line\": {\"colorbar\": {\"outlinewidth\": 0, \"ticks\": \"\"}}, \"type\": \"parcoords\"}], \"pie\": [{\"automargin\": true, \"type\": \"pie\"}], \"scatter\": [{\"marker\": {\"colorbar\": {\"outlinewidth\": 0, \"ticks\": \"\"}}, \"type\": \"scatter\"}], \"scatter3d\": [{\"line\": {\"colorbar\": {\"outlinewidth\": 0, \"ticks\": \"\"}}, \"marker\": {\"colorbar\": {\"outlinewidth\": 0, \"ticks\": \"\"}}, \"type\": \"scatter3d\"}], \"scattercarpet\": [{\"marker\": {\"colorbar\": {\"outlinewidth\": 0, \"ticks\": \"\"}}, \"type\": \"scattercarpet\"}], \"scattergeo\": [{\"marker\": {\"colorbar\": {\"outlinewidth\": 0, \"ticks\": \"\"}}, \"type\": \"scattergeo\"}], \"scattergl\": [{\"marker\": {\"colorbar\": {\"outlinewidth\": 0, \"ticks\": \"\"}}, \"type\": \"scattergl\"}], \"scattermapbox\": [{\"marker\": {\"colorbar\": {\"outlinewidth\": 0, \"ticks\": \"\"}}, \"type\": \"scattermapbox\"}], \"scatterpolar\": [{\"marker\": {\"colorbar\": {\"outlinewidth\": 0, \"ticks\": \"\"}}, \"type\": \"scatterpolar\"}], \"scatterpolargl\": [{\"marker\": {\"colorbar\": {\"outlinewidth\": 0, \"ticks\": \"\"}}, \"type\": \"scatterpolargl\"}], \"scatterternary\": [{\"marker\": {\"colorbar\": {\"outlinewidth\": 0, \"ticks\": \"\"}}, \"type\": \"scatterternary\"}], \"surface\": [{\"colorbar\": {\"outlinewidth\": 0, \"ticks\": \"\"}, \"colorscale\": [[0.0, \"#0d0887\"], [0.1111111111111111, \"#46039f\"], [0.2222222222222222, \"#7201a8\"], [0.3333333333333333, \"#9c179e\"], [0.4444444444444444, \"#bd3786\"], [0.5555555555555556, \"#d8576b\"], [0.6666666666666666, \"#ed7953\"], [0.7777777777777778, \"#fb9f3a\"], [0.8888888888888888, \"#fdca26\"], [1.0, \"#f0f921\"]], \"type\": \"surface\"}], \"table\": [{\"cells\": {\"fill\": {\"color\": \"#EBF0F8\"}, \"line\": {\"color\": \"white\"}}, \"header\": {\"fill\": {\"color\": \"#C8D4E3\"}, \"line\": {\"color\": \"white\"}}, \"type\": \"table\"}]}, \"layout\": {\"annotationdefaults\": {\"arrowcolor\": \"#2a3f5f\", \"arrowhead\": 0, \"arrowwidth\": 1}, \"coloraxis\": {\"colorbar\": {\"outlinewidth\": 0, \"ticks\": \"\"}}, \"colorscale\": {\"diverging\": [[0, \"#8e0152\"], [0.1, \"#c51b7d\"], [0.2, \"#de77ae\"], [0.3, \"#f1b6da\"], [0.4, \"#fde0ef\"], [0.5, \"#f7f7f7\"], [0.6, \"#e6f5d0\"], [0.7, \"#b8e186\"], [0.8, \"#7fbc41\"], [0.9, \"#4d9221\"], [1, \"#276419\"]], \"sequential\": [[0.0, \"#0d0887\"], [0.1111111111111111, \"#46039f\"], [0.2222222222222222, \"#7201a8\"], [0.3333333333333333, \"#9c179e\"], [0.4444444444444444, \"#bd3786\"], [0.5555555555555556, \"#d8576b\"], [0.6666666666666666, \"#ed7953\"], [0.7777777777777778, \"#fb9f3a\"], [0.8888888888888888, \"#fdca26\"], [1.0, \"#f0f921\"]], \"sequentialminus\": [[0.0, \"#0d0887\"], [0.1111111111111111, \"#46039f\"], [0.2222222222222222, \"#7201a8\"], [0.3333333333333333, \"#9c179e\"], [0.4444444444444444, \"#bd3786\"], [0.5555555555555556, \"#d8576b\"], [0.6666666666666666, \"#ed7953\"], [0.7777777777777778, \"#fb9f3a\"], [0.8888888888888888, \"#fdca26\"], [1.0, \"#f0f921\"]]}, \"colorway\": [\"#636efa\", \"#EF553B\", \"#00cc96\", \"#ab63fa\", \"#FFA15A\", \"#19d3f3\", \"#FF6692\", \"#B6E880\", \"#FF97FF\", \"#FECB52\"], \"font\": {\"color\": \"#2a3f5f\"}, \"geo\": {\"bgcolor\": \"white\", \"lakecolor\": \"white\", \"landcolor\": \"#E5ECF6\", \"showlakes\": true, \"showland\": true, \"subunitcolor\": \"white\"}, \"hoverlabel\": {\"align\": \"left\"}, \"hovermode\": \"closest\", \"mapbox\": {\"style\": \"light\"}, \"paper_bgcolor\": \"white\", \"plot_bgcolor\": \"#E5ECF6\", \"polar\": {\"angularaxis\": {\"gridcolor\": \"white\", \"linecolor\": \"white\", \"ticks\": \"\"}, \"bgcolor\": \"#E5ECF6\", \"radialaxis\": {\"gridcolor\": \"white\", \"linecolor\": \"white\", \"ticks\": \"\"}}, \"scene\": {\"xaxis\": {\"backgroundcolor\": \"#E5ECF6\", \"gridcolor\": \"white\", \"gridwidth\": 2, \"linecolor\": \"white\", \"showbackground\": true, \"ticks\": \"\", \"zerolinecolor\": \"white\"}, \"yaxis\": {\"backgroundcolor\": \"#E5ECF6\", \"gridcolor\": \"white\", \"gridwidth\": 2, \"linecolor\": \"white\", \"showbackground\": true, \"ticks\": \"\", \"zerolinecolor\": \"white\"}, \"zaxis\": {\"backgroundcolor\": \"#E5ECF6\", \"gridcolor\": \"white\", \"gridwidth\": 2, \"linecolor\": \"white\", \"showbackground\": true, \"ticks\": \"\", \"zerolinecolor\": \"white\"}}, \"shapedefaults\": {\"line\": {\"color\": \"#2a3f5f\"}}, \"ternary\": {\"aaxis\": {\"gridcolor\": \"white\", \"linecolor\": \"white\", \"ticks\": \"\"}, \"baxis\": {\"gridcolor\": \"white\", \"linecolor\": \"white\", \"ticks\": \"\"}, \"bgcolor\": \"#E5ECF6\", \"caxis\": {\"gridcolor\": \"white\", \"linecolor\": \"white\", \"ticks\": \"\"}}, \"title\": {\"x\": 0.05}, \"xaxis\": {\"automargin\": true, \"gridcolor\": \"white\", \"linecolor\": \"white\", \"ticks\": \"\", \"title\": {\"standoff\": 15}, \"zerolinecolor\": \"white\", \"zerolinewidth\": 2}, \"yaxis\": {\"automargin\": true, \"gridcolor\": \"white\", \"linecolor\": \"white\", \"ticks\": \"\", \"title\": {\"standoff\": 15}, \"zerolinecolor\": \"white\", \"zerolinewidth\": 2}}}, \"width\": 600, \"xaxis\": {\"anchor\": \"y\", \"domain\": [0.0, 1.0], \"title\": {\"text\": \"log fr\\u00e9q. relative\"}}, \"yaxis\": {\"anchor\": \"x\", \"domain\": [0.0, 1.0], \"title\": {\"text\": \"similarite\"}}},\n",
              "                        {\"responsive\": true}\n",
              "                    ).then(function(){\n",
              "                            \n",
              "var gd = document.getElementById('10e8250c-79d8-4fa0-9714-c788adce5092');\n",
              "var x = new MutationObserver(function (mutations, observer) {{\n",
              "        var display = window.getComputedStyle(gd).display;\n",
              "        if (!display || display === 'none') {{\n",
              "            console.log([gd, 'removed!']);\n",
              "            Plotly.purge(gd);\n",
              "            observer.disconnect();\n",
              "        }}\n",
              "}});\n",
              "\n",
              "// Listen for the removal of the full notebook cells\n",
              "var notebookContainer = gd.closest('#notebook-container');\n",
              "if (notebookContainer) {{\n",
              "    x.observe(notebookContainer, {childList: true});\n",
              "}}\n",
              "\n",
              "// Listen for the clearing of the current output cell\n",
              "var outputEl = gd.closest('.output');\n",
              "if (outputEl) {{\n",
              "    x.observe(outputEl, {childList: true});\n",
              "}}\n",
              "\n",
              "                        })\n",
              "                };\n",
              "                \n",
              "            </script>\n",
              "        </div>\n",
              "</body>\n",
              "</html>"
            ]
          },
          "metadata": {
            "tags": []
          }
        }
      ]
    },
    {
      "cell_type": "markdown",
      "metadata": {
        "id": "lmddJzkLKBUz"
      },
      "source": [
        "#### Maintenant tf-idf, dans sa formule de base\n",
        "- fréquence des termes : f (comptage absolu) => notation SMART : n\n",
        "- fréquence inverse des documents (lissée) : n/N => notation SMART : t\n",
        "- normalisation longueur des documents : cos => notation SMART : c (remarque, comme on calcule dessus le cosinus, c'est inutile)"
      ]
    },
    {
      "cell_type": "code",
      "metadata": {
        "id": "y49j6z3hKBUz"
      },
      "source": [
        "# 6.e\n",
        "# paramétrage des métriques associées à tfidf\n",
        "param_tfidf = 'ntc'"
      ],
      "execution_count": null,
      "outputs": []
    },
    {
      "cell_type": "code",
      "metadata": {
        "id": "KiurnBtJKBUz"
      },
      "source": [
        "# 6.f\n",
        "# on utilise directement la fonction tf-idf de gensim\n",
        "# il aurait été possible de créer nous même une telle fonction...\n",
        "#tfidf = gensim.models.TfidfModel(dictionary=dico_termes_ss_titres, smartirs=None)\n",
        "tfidf = gensim.models.TfidfModel(dictionary=dico_termes_ss_titres, smartirs=param_tfidf)\n",
        "mat_doc_termes_tfidf_ss_titres = [tfidf[dico_termes_ss_titres.doc2bow(liste_tokens)] \\\n",
        "                                  for liste_tokens in mat_doc_tokens_ss_titres]"
      ],
      "execution_count": null,
      "outputs": []
    },
    {
      "cell_type": "code",
      "metadata": {
        "id": "dVb0PMZyKBUz"
      },
      "source": [
        "# 6.g\n",
        "l_similarites_tfidf = calcule_similarites_avec_ref(mat_doc_termes_tfidf_ss_titres,\\\n",
        "                                                   taille_corpus, taille_dico, df_videos)"
      ],
      "execution_count": null,
      "outputs": []
    },
    {
      "cell_type": "code",
      "metadata": {
        "id": "qEwfn07vKBUz",
        "colab": {
          "base_uri": "https://localhost:8080/"
        },
        "outputId": "06c19d26-32da-4e5b-e148-c1eb1e8561b7"
      },
      "source": [
        "# 6.h\n",
        "# afficher\n",
        "affiche_videos_similaires(l_similarites_tfidf, 20)"
      ],
      "execution_count": null,
      "outputs": [
        {
          "output_type": "stream",
          "text": [
            "vidéo 1161\t fréq. relative termes clé : 2.96\t similarité : 0.28\n",
            "vidéo 1202\t fréq. relative termes clé : 3.66\t similarité : 0.23\n",
            "vidéo 894\t fréq. relative termes clé : 3.64\t similarité : 0.23\n",
            "vidéo 909\t fréq. relative termes clé : 1.14\t similarité : 0.21\n",
            "vidéo 940\t fréq. relative termes clé : 1.11\t similarité : 0.21\n",
            "vidéo 916\t fréq. relative termes clé : 0.44\t similarité : 0.19\n",
            "vidéo 1108\t fréq. relative termes clé : 0.41\t similarité : 0.19\n",
            "vidéo 1128\t fréq. relative termes clé : 0.96\t similarité : 0.18\n",
            "vidéo 1029\t fréq. relative termes clé : 0.41\t similarité : 0.18\n",
            "vidéo 1098\t fréq. relative termes clé : 3.65\t similarité : 0.18\n",
            "vidéo 1097\t fréq. relative termes clé : 0.92\t similarité : 0.18\n",
            "vidéo 660\t fréq. relative termes clé : 1.79\t similarité : 0.18\n",
            "vidéo 1092\t fréq. relative termes clé : 2.06\t similarité : 0.18\n",
            "vidéo 876\t fréq. relative termes clé : 1.66\t similarité : 0.17\n",
            "vidéo 890\t fréq. relative termes clé : 1.42\t similarité : 0.17\n",
            "vidéo 993\t fréq. relative termes clé : 3.24\t similarité : 0.17\n",
            "vidéo 1203\t fréq. relative termes clé : 5.33\t similarité : 0.17\n",
            "vidéo 451\t fréq. relative termes clé : 6.17\t similarité : 0.17\n",
            "vidéo 17\t fréq. relative termes clé : 2.61\t similarité : 0.16\n",
            "vidéo 501\t fréq. relative termes clé : 0.55\t similarité : 0.16\n"
          ],
          "name": "stdout"
        }
      ]
    },
    {
      "cell_type": "code",
      "metadata": {
        "id": "BTe6qL0EKBU0",
        "colab": {
          "base_uri": "https://localhost:8080/",
          "height": 542
        },
        "outputId": "75afea6a-2ccb-47c0-b69a-5cdee3079593"
      },
      "source": [
        "# 6.i\n",
        "# montrer\n",
        "montre_repartition_similarites(l_similarites_tfidf, \"similarités tf-idf\")# 6.f"
      ],
      "execution_count": null,
      "outputs": [
        {
          "output_type": "display_data",
          "data": {
            "text/html": [
              "<html>\n",
              "<head><meta charset=\"utf-8\" /></head>\n",
              "<body>\n",
              "    <div>\n",
              "            <script src=\"https://cdnjs.cloudflare.com/ajax/libs/mathjax/2.7.5/MathJax.js?config=TeX-AMS-MML_SVG\"></script><script type=\"text/javascript\">if (window.MathJax) {MathJax.Hub.Config({SVG: {font: \"STIX-Web\"}});}</script>\n",
              "                <script type=\"text/javascript\">window.PlotlyConfig = {MathJaxConfig: 'local'};</script>\n",
              "        <script src=\"https://cdn.plot.ly/plotly-latest.min.js\"></script>    \n",
              "            <div id=\"3dca58a7-96b4-4411-a116-aba1eefe7edb\" class=\"plotly-graph-div\" style=\"height:525px; width:100%;\"></div>\n",
              "            <script type=\"text/javascript\">\n",
              "                \n",
              "                    window.PLOTLYENV=window.PLOTLYENV || {};\n",
              "                    \n",
              "                if (document.getElementById(\"3dca58a7-96b4-4411-a116-aba1eefe7edb\")) {\n",
              "                    Plotly.newPlot(\n",
              "                        '3dca58a7-96b4-4411-a116-aba1eefe7edb',\n",
              "                        [{\"marker\": {\"color\": \"red\"}, \"name\": \"explicite\", \"nbinsx\": 28, \"type\": \"histogram\", \"x\": [0.279210689676262, 0.2340684093858654, 0.2287553056982428, 0.20758865134050705, 0.20725027991258851, 0.1931780517539961, 0.1919972627982349, 0.18460225292928928, 0.18451171661829222, 0.1800242043451943, 0.17885567539680836, 0.17787924304523128, 0.17612082167717763, 0.17053905169401887, 0.16980158768150552, 0.16854964119635343, 0.16767689590152457, 0.16612090891163087, 0.16453092216057455, 0.16442613788414207, 0.16350832568222048, 0.16268216239736139, 0.16221662612893323, 0.15740579100802943, 0.15735146716597695, 0.15733244091752346, 0.1564701411419311, 0.15456638696324607, 0.1536033890471925, 0.15347393283624286, 0.15337192313356438, 0.15221961796257175, 0.14800503283136515, 0.14797792249323247, 0.14779031305873125, 0.1464861739638618, 0.14610828650563878, 0.14469217687937846, 0.1441773360247103, 0.14341523549218665, 0.14226554351370982, 0.142221178209127, 0.141812604406362, 0.14134766414874642, 0.13894190500084927, 0.13553428758293348, 0.13461139568706515, 0.134429527017545, 0.1327150594547769, 0.1325203520273564, 0.13157950790696224, 0.1310205029915879, 0.13027212642248623, 0.12984017911149284, 0.12983638560730468, 0.1298030558396191, 0.1291510497126349, 0.1283841904920676, 0.12706264251171748, 0.126900145105314, 0.12575694269332424, 0.12527020589499843, 0.12454450471035615, 0.12322090507228488, 0.12285106590274603, 0.122450531843348, 0.12133159544629149, 0.12101454159244975, 0.1200213606031823, 0.11922580119926168, 0.11885582417143983, 0.1185571288491903, 0.11815480619073086, 0.11797363901128209, 0.1169045448845646, 0.11658774248508824, 0.1165306024422701, 0.11621557537318115, 0.11585830802334125, 0.11580509005300305, 0.11518689778857755, 0.11517239511545911, 0.11500150684008739, 0.11493335892917587, 0.11455892212138719, 0.11440701164026842, 0.11407444987842265, 0.11376892418567314, 0.11357244038334516, 0.1135115423075378, 0.1134128723359, 0.11329157764609192, 0.11277076172393519, 0.11192218367978647, 0.11124938860928925, 0.11090761471509307, 0.11072163197123056, 0.11064459153819513, 0.11021719653575958, 0.11014385464909165, 0.11011585275820812, 0.1100743938894821, 0.10980415127980178, 0.10958448076182244, 0.10956586626815111, 0.10939843929668801, 0.10933989106317148, 0.10929675133292373, 0.10912512894067389, 0.10887127897837008, 0.10858649366201008, 0.10848224250861936, 0.10844719384636245, 0.10806419658952364, 0.10797165842420496, 0.10779927577992934, 0.10757565432662612, 0.10749936135440971, 0.10749299845925529, 0.10746554771013755, 0.10746401369257154, 0.1072771451010588, 0.1068259325185076, 0.10643182225695758, 0.1063497404387206, 0.1054270479895283, 0.10528751108209365, 0.10522402641345012, 0.10507214382671533, 0.10488069595458684, 0.10450527745406703, 0.10387200076623566, 0.10378180525276207, 0.10328711564132785, 0.1023097469590744, 0.10194404728538757, 0.10142646271335692, 0.10091688050559794, 0.10071946078651918, 0.10060268000114389, 0.10020749257141387, 0.09990333537974704, 0.09938207761911455, 0.09927797955337016, 0.09914458972103113, 0.09902042400273649, 0.09871050565188849, 0.09858297580336654, 0.09854242294294614, 0.09835550111402894, 0.09808772919988007, 0.09793357678288174, 0.09788539660268779, 0.09769623915278078, 0.09767338221746738, 0.09760318733286749, 0.0975928622826413, 0.09750956476687532, 0.09666146657531374, 0.09638154761655265, 0.09612131622949185, 0.09540827163475786, 0.09532646338143048, 0.09527597180293224, 0.09515601632480063, 0.09483132096547282, 0.09445187227708123, 0.09436884076496671, 0.09384492964903711, 0.09372062317066006, 0.09369501142390221, 0.0934566039054361, 0.09318481267141915, 0.09302153318851022, 0.092859777335592, 0.09281684182055684, 0.09199625041427192, 0.09160267320736391, 0.09149211881017288, 0.09111023001018022, 0.09098388670600072, 0.09080524010640854, 0.09078718243172526, 0.09077741474069269, 0.09077454519687697, 0.09053076864433232, 0.09052712660394713, 0.090413886634348, 0.0900658098363186, 0.09005704541232565, 0.09004377634170355, 0.08954525436032247, 0.08954525436032247, 0.08931881034065506, 0.0892983033747274, 0.08915084589309881, 0.08904079021513156, 0.08888305028433958, 0.08871907628834041, 0.08869417768013736, 0.08868169312385435, 0.08850890504522743, 0.0884105603162739, 0.08836944231908522, 0.08834458682527618, 0.0882462927182329, 0.08820006126951972, 0.0881664814742081, 0.08804583511659653, 0.0880136092783692, 0.08796575009502293, 0.0874931255993279, 0.08727356537767691, 0.08726690778030656, 0.08702285349513549, 0.08665970856280082, 0.08644953476955375, 0.08643415707174802, 0.08614066612859925, 0.08609948859264147, 0.08576894096112885, 0.08564346035976017, 0.08562568610582734, 0.08541682387715399, 0.08534994211287504, 0.08530018475960188, 0.08494564047951632, 0.08464394697971866, 0.08428613623773881, 0.08424061111526358, 0.0839168909368869, 0.0838360794185269, 0.08382339497272225, 0.08380762557482596, 0.08373409518050882, 0.08369997471705401, 0.0836701557754693, 0.08365454784620645, 0.08364873760301617, 0.08339281978955942, 0.08293653648993406, 0.08253396036444281, 0.08250380339902749, 0.08239578379167757, 0.08235448908662925, 0.08228457491484158, 0.08206678333044787, 0.08186427804852411, 0.08184268883261803, 0.08178649920581767, 0.08162586711490372, 0.08141204766665439, 0.08140688225151924, 0.08134231465195843, 0.08123564829708399, 0.08106921905828526, 0.0809312499494728, 0.08088642008347291, 0.08068168641087826, 0.08065392631418686, 0.08039156018876815, 0.08029613239222287, 0.08028863986746733, 0.08002550262651109, 0.07999211294538608, 0.0798209126207813, 0.07972824947655997, 0.07910984981294494, 0.07879384376884405, 0.07844788510412358, 0.07842940163806224, 0.07787113666323466, 0.07772840886074628, 0.07764207465597583, 0.07733355435265105, 0.07719470890517081, 0.07714320460374302, 0.07708968946691935, 0.07658331447656959, 0.07604199826798164, 0.07583787268083945, 0.07583503892894228, 0.07571411587417985, 0.07552824659842666, 0.07506550702255199, 0.07490925795307782, 0.07489624931796038, 0.07482158161754832, 0.07479844610375459, 0.0747596445867916, 0.07459661589423805, 0.07452803352558551, 0.07424459841939275, 0.07369881849953053, 0.0734692969800067, 0.07323354428502599, 0.0731549325831239, 0.07304561542501097, 0.07302626259220857, 0.07299193729285397, 0.07273367081166338, 0.07239007054594716, 0.07235530131460687, 0.07211421124969887, 0.07210781202067945, 0.07203661097089407, 0.07196116333874415, 0.0718197301997737, 0.07179728351362547, 0.07135129442462373, 0.07108432852701031, 0.0710779798202988, 0.0709326712162312, 0.0708974082286312, 0.07079363438241475, 0.07076526907093006, 0.07073436785379278, 0.07058139360867043, 0.07054714056365782, 0.07053712159591811, 0.07053570117257128, 0.06991437412232894, 0.0697734377958043, 0.0697661005650306, 0.06933541601263617, 0.06929762865251073, 0.06903986574806781, 0.06894133901447974, 0.06872278693526368, 0.06862819263536843, 0.06861922620896774, 0.06850142526877885, 0.06817077799830744, 0.06815418304733141, 0.06810487357395796, 0.0680050324991661, 0.06799697525055848, 0.06792054868431066, 0.06788943662794343, 0.06770361491897166, 0.06748691464298996, 0.06742289052058703, 0.06724589590498696, 0.06724051069177242, 0.06718061339652774, 0.06704336245406135, 0.0669532969597762, 0.06694784691422191, 0.06690448142060244, 0.06681537765754413, 0.06667274557909596, 0.06661843736794816, 0.06624389008213181, 0.06617843151261817, 0.06616973037402843, 0.06599630662194031, 0.06584089742381483, 0.06571523935567944, 0.06552639862368537, 0.06533284200690728, 0.06533121016572156, 0.06456560435035241, 0.06451495764614595, 0.0644200498974809, 0.06434461930670281, 0.06348183903509698, 0.06347491796308509, 0.06315975681488499, 0.06305082040643598, 0.06295380293322643, 0.06290933013808088, 0.06280548506755773, 0.06277146125293631, 0.06266925079677693, 0.06265075206869539, 0.06252648750430406, 0.06246755755865342, 0.06233311746265563, 0.06229076106962654, 0.062250557409040744, 0.0621963169526511, 0.062063990491225074, 0.06205240890909449, 0.06194382156566292, 0.06176045498057014, 0.06167720826922317, 0.061482997431827814, 0.061421316060204484, 0.06099114959454795, 0.060973598529651764, 0.06073793466580127, 0.06059711344923996, 0.06055176249613885, 0.060515948567484504, 0.0604392708040232, 0.06037632273851905, 0.06024398737600336, 0.060182407160003726, 0.060079420556951105, 0.06002492543037472, 0.05999434290268333, 0.05996567841513358, 0.05982800580496076, 0.05971558670050372, 0.05945061375821359, 0.05921153229969024, 0.059159466606796225, 0.058893858344900005, 0.05871657884290409, 0.0586725442691183, 0.0586615166038911, 0.058445240424468636, 0.0584191104789948, 0.05807589055677515, 0.05789777679392139, 0.0578763263200253, 0.057832312197881326, 0.05775854222665426, 0.057110797255911276, 0.057055690876569524, 0.056938830847367075, 0.05673215617080448, 0.056642704421482386, 0.05645664128138952, 0.05642361834332062, 0.05632502931689301, 0.056242865181696806, 0.05602408207681146, 0.05602162751111819, 0.05601779656317009, 0.05600727830937254, 0.05600181307258791, 0.055971901403389666, 0.05551661248166887, 0.05549386808682753, 0.05533557874189055, 0.05521302671921758, 0.055095805351916334, 0.05505573214186679, 0.05501143666682253, 0.05495025613184671, 0.05434342700386932, 0.054262180262329034, 0.054251806646032665, 0.05412856019793852, 0.054020206388040164, 0.05376376424564315, 0.053622502029375206, 0.053323657189741164, 0.05331238116624004, 0.05330581108942172, 0.053229427434116405, 0.053028851576821405, 0.05301244253117102, 0.05301134235491831, 0.05280721377875174, 0.05280699050467083, 0.05255160737288314, 0.05244572885157503, 0.05244034347681835, 0.05206855609273668, 0.051832813990162756, 0.05169614757255549, 0.051395804492916905, 0.051392646754189406, 0.05139140664275476, 0.05137199682030257, 0.051148551159289825, 0.050771473922164446, 0.05064332379611622, 0.05064301966582828, 0.050611565190394545, 0.05055216608594668, 0.05049400733083809, 0.050458847066697045, 0.0502633434326043, 0.05017870523230948, 0.05016989509705139, 0.04999031263862009, 0.049724440436373626, 0.04971024875261489, 0.049708153780847336, 0.049497481310255644, 0.04913811288784995, 0.049086564048638405, 0.04908480359186997, 0.04903216539806615, 0.04899540509014402, 0.048963136591874255, 0.04883674855338136, 0.04879947915704232, 0.04875796145659991, 0.04864397073573545, 0.0484705529989882, 0.048410592788618804, 0.048071207427012326, 0.04796452882439391, 0.04794659578605098, 0.04786194734834189, 0.047751987962878564, 0.047718037610891134, 0.04765415167308273, 0.04764523500115998, 0.04752318931085973, 0.04748255588214181, 0.0473855385525257, 0.04737598088753189, 0.04736916210358902, 0.04729202386279169, 0.04707289304896194, 0.046965203668011504, 0.046727987466926385, 0.046460765824355515, 0.04642365500320873, 0.04640807117822677, 0.04638074703150233, 0.04620730878792412, 0.046141798106590526, 0.046101292992692944, 0.04605081593196521, 0.04594550940258718, 0.04594095373456405, 0.04583628857654782, 0.0457114781303743, 0.04565372221247635, 0.04538934554919879, 0.04530544287018343, 0.04529077867616449, 0.04492675817963686, 0.04487930638804673, 0.04486862845963607, 0.04472827939339917, 0.04466880287280544, 0.04438717472336056, 0.04404540136857401, 0.04359339038268267, 0.043554725678228774, 0.04310697234601911, 0.04309338241893823, 0.043054418444831745, 0.04300813997648899, 0.04296114420914956, 0.042828628102741934, 0.04282047967596945, 0.04270026930142675, 0.042542149867265504, 0.04231062984873357, 0.04203712603908259, 0.041838213690330146, 0.041832662410898426, 0.041787256455289225, 0.04151396778746802, 0.04141731257048681, 0.04134167835231566, 0.041315365687264044, 0.04113474512524326, 0.04082319651582434, 0.04081277033751037, 0.04042598526418419, 0.040040047981658056, 0.039961285710142944, 0.03989423994909651, 0.039877038509572374, 0.03971180281861807, 0.03947895669005025, 0.03926792081602924, 0.03924664827185397, 0.039198462620367296, 0.038978636841626634, 0.03896781475166235, 0.0389287737823273, 0.03877339796979971, 0.038622543953406425, 0.03840065281939683, 0.03830826363241389, 0.03799764322049437, 0.037994986412742134, 0.03798183433843231, 0.03781860873769054, 0.03766328344518955, 0.03756466797736412, 0.03742485116966585, 0.037393806684764136, 0.03734746393849902, 0.036734229374872855, 0.036357531373630916, 0.03616252683135266, 0.03600319817817257, 0.035796789060234945, 0.035604282018156255, 0.03543118615574063, 0.03541113002556861, 0.035378627774651845, 0.035120483212347224, 0.03486696257353167, 0.03486424397766513, 0.034783337938384395, 0.03469375295626722, 0.03445692705727199, 0.034245952179092515, 0.034063439471279974, 0.033990427540542115, 0.03396704673552726, 0.033843108502963744, 0.03365825770967727, 0.033596710203470756, 0.033443385779419854, 0.03324993614106756, 0.033228253127703666, 0.032846674152096286, 0.032752670275581305, 0.032636885200890475, 0.03238990007398432, 0.03231031118945321, 0.031930474839550194, 0.031910091491266314, 0.031887461220544935, 0.0318125189926563, 0.031518256216757995, 0.031462194182422534, 0.03127487886923103, 0.031097899535796447, 0.03065533734277229, 0.03052055221741326, 0.030167621514154717, 0.03009226976229213, 0.029991937756102975, 0.029720698191950376, 0.029543176990454546, 0.029175574611355084, 0.029132237788153867, 0.029094246655640872, 0.029077876660794352, 0.029055566809698403, 0.028959510168884, 0.028923771531032143, 0.02879646370128359, 0.028688617403996034, 0.028654061836813422, 0.02853971757039603, 0.028522860677993277, 0.02846332063587743, 0.028423839948090845, 0.028346415731528383, 0.028074467131449458, 0.02799803051581708, 0.027854125790926648, 0.027678916861955213, 0.027578649506723837, 0.02756550992156982, 0.02750176904622936, 0.027254352248166757, 0.02710722936504291, 0.027008919170202435, 0.02693725855845322, 0.026805891009805505, 0.02661324570026843, 0.026164759384884727, 0.0259583810826559, 0.025755882161928246, 0.025246129163166355, 0.025141626015788045, 0.024615524951922006, 0.023879034208364965, 0.023625159358159415, 0.02322013914125568, 0.02317427000709948, 0.02302378173693957, 0.02302088174003913, 0.021930494282300764, 0.021742430254713414, 0.02139097246626542, 0.021302141780608654, 0.021194072393827486, 0.021184639658476768, 0.02106350870261781, 0.020626839626547554, 0.019798880700724806, 0.019697175476300063, 0.01939779185591219, 0.01860053371917606, 0.018532943795555902, 0.018499025315273598, 0.017921687020243687, 0.017801137586667834, 0.017760723521508676, 0.01761826891862305, 0.017335091268513254, 0.016218572714948986, 0.015652741162055346, 0.015348577733932202, 0.014605836719839676, 0.014451393388536326, 0.012527616989622061, 0.01114745136017623, 0.010939720649350074, 0.010447041240436758, 0.01039310812453859, 0.010304901841140154]}, {\"marker\": {\"color\": \"green\"}, \"name\": \"non explicite\", \"nbinsx\": 28, \"type\": \"histogram\", \"x\": [0.10922980128720457, 0.09792016492512548, 0.09777546498787376, 0.09551591190646753, 0.09352369754273196, 0.09241532265117108, 0.09236288848820993, 0.09188607354584877, 0.09053064570442915, 0.08700885102102995, 0.085201871673954, 0.08460225352986155, 0.0845614381225276, 0.08357889228299013, 0.0824933722790894, 0.08220369541406786, 0.0816540107354227, 0.0804175363832321, 0.08040863241288623, 0.080225619029021, 0.07893201929332476, 0.07796961271412638, 0.07773526788137167, 0.07739664040424026, 0.07732293912627547, 0.07723059511145731, 0.0770637831649494, 0.07701584092010631, 0.07634599460572478, 0.07603266680242421, 0.07597545728188523, 0.07545660642359833, 0.07527574752498786, 0.07506046168544833, 0.07487505656947409, 0.07473313652562348, 0.07410621720811318, 0.07337156868786214, 0.07326241169707447, 0.07282845523223434, 0.07253699998929414, 0.07211773483549802, 0.07089460049253889, 0.07066263242447496, 0.07063994443470008, 0.07063641002555365, 0.07050669317412318, 0.07004420121904716, 0.06890076455799898, 0.06885521538329659, 0.06870419781046287, 0.0685331342107493, 0.06842222074438332, 0.06841884487035044, 0.06832791143499886, 0.06813300885485676, 0.06774074513526651, 0.06713853239324348, 0.06677903598963664, 0.06621210782085223, 0.0660881999928207, 0.06605742752775325, 0.06601822542545271, 0.06534984914578573, 0.06528290837545349, 0.06493734716262377, 0.06420476513907943, 0.06400138316580703, 0.0639656228121702, 0.06371603459694855, 0.06369945115746752, 0.06363761491286428, 0.06338696412695592, 0.06328443173819043, 0.0629740462624886, 0.062661304023054, 0.06258192392683021, 0.06244670568385772, 0.062403223657533174, 0.06238702973525451, 0.06226822851415859, 0.06222958151398911, 0.061966853825527454, 0.06182980859783755, 0.06154777148861741, 0.061515769415480204, 0.06099222951286844, 0.06091845269603868, 0.06074500933619456, 0.06062769323755833, 0.06027650738381031, 0.060056690965004295, 0.05995549139543918, 0.05982697948506879, 0.05976891287227007, 0.059697028674995635, 0.05966765299037448, 0.059631573925107026, 0.059160084921313805, 0.05914549937370693, 0.05906399432355366, 0.058934554008443746, 0.05893137041828964, 0.058137581816932314, 0.05811574842145439, 0.05808495738934108, 0.05793176267512677, 0.05784299538136694, 0.05743141302942301, 0.05722024833132568, 0.057042331844512406, 0.05685462333687612, 0.056689137058398835, 0.0566356569470602, 0.05653187592141888, 0.05597544905559488, 0.05560948711008552, 0.0555093976193452, 0.05545537550131655, 0.05534401780175935, 0.05518419351504064, 0.055117125579155594, 0.054918457594393295, 0.054781505735762896, 0.054533077968815916, 0.05445072282174924, 0.054445137226133304, 0.0541792316128821, 0.053987521479560464, 0.05394932720941975, 0.05394912086801388, 0.05390157057015536, 0.053828287257499614, 0.053783922993679505, 0.05367482047545671, 0.0536377250636252, 0.05338491873071095, 0.05317099819710781, 0.052878968535530445, 0.05269797088141381, 0.0525354556390639, 0.05227271408274885, 0.05227138369592028, 0.05192654626501702, 0.051811583292838054, 0.051765973880785666, 0.051645914256878984, 0.051535173974573086, 0.051530944110851865, 0.05152861909758812, 0.05148189719182826, 0.051471848790514474, 0.05144661543124628, 0.05123987724950446, 0.051209730227253746, 0.051070861683207285, 0.05086683403533634, 0.050710648013528314, 0.05060356167811432, 0.050454056490815045, 0.050360236767187, 0.05031573418912497, 0.05029617767348693, 0.05011163739785535, 0.049750831349414694, 0.04969184447834015, 0.04965775149032244, 0.049462487683842954, 0.04924788518306573, 0.0492172740252585, 0.049043874089483075, 0.048984953343714666, 0.048968682825517605, 0.0486604882877263, 0.04838905645701666, 0.04834754762480593, 0.0483232214563119, 0.048292028295516216, 0.048126300835957765, 0.047770501869485074, 0.04771997950916136, 0.047586637719793906, 0.047585831134647365, 0.04745557376518034, 0.047373590488720876, 0.04726549277203076, 0.04709097537746347, 0.047021436111746265, 0.046825182723395836, 0.046789675887055834, 0.04647095034885865, 0.046450830363168924, 0.046380709056065506, 0.04622504223677897, 0.04617247344546742, 0.0459624263719478, 0.0458747561805011, 0.045597494406214426, 0.045295958271808434, 0.045295958271808434, 0.04529060676760703, 0.04523988098468048, 0.04522457004516901, 0.04515358077366586, 0.044804775786216375, 0.04480256968706351, 0.0446605225381525, 0.04454016588294166, 0.04430810810524964, 0.04422857032260992, 0.04418485858791261, 0.04388493766635109, 0.04387022846997411, 0.04383274656607103, 0.043782691577991334, 0.043677039838754865, 0.043372895973928106, 0.04336854637823376, 0.04320197067061553, 0.04316803732258852, 0.04316061772231175, 0.04300641690232106, 0.042951855273393076, 0.04294188369882847, 0.04290536519081899, 0.04277423379688155, 0.042743677581803856, 0.04272758158358179, 0.04252180110340976, 0.04251818017934319, 0.04215537544989927, 0.04208560243142781, 0.0420709618424076, 0.04201562339865094, 0.041883303391213655, 0.04183929631781375, 0.04183713230491644, 0.041805871818288716, 0.04179628681646407, 0.041791022471303875, 0.04177688136811697, 0.04172039940734767, 0.041271363365531145, 0.04114496067567943, 0.04114040797842561, 0.04106026739664016, 0.040948197565244274, 0.04089097634024583, 0.04082316457175715, 0.04076874058280302, 0.040611527749837686, 0.040597658473009335, 0.04054241764188899, 0.04044615179685831, 0.04043879061663672, 0.04043680352763049, 0.04024491798922308, 0.04024463605639657, 0.040081330967740504, 0.03993510377561449, 0.03965348951927612, 0.039613854787770415, 0.039554099811143786, 0.03940569045689039, 0.03936442094504995, 0.03933830791263001, 0.03926275297868817, 0.03926166437874711, 0.03919694747104915, 0.03916964718345456, 0.03903787214084278, 0.038693807266704794, 0.03858495643039457, 0.0385369211480212, 0.03852378494850357, 0.038351234902388356, 0.03822776610262239, 0.038059864144676374, 0.0379797023626402, 0.03796571603480937, 0.03788193602881457, 0.037869073698427666, 0.03785177361172749, 0.037848943121837966, 0.037846632067493655, 0.03779490127115967, 0.037702012238156654, 0.037479675415990114, 0.03745517205620529, 0.037362233987384724, 0.037186070796689286, 0.03714380102665885, 0.037139211870391604, 0.037132045486744286, 0.0370542301012826, 0.03688961755063149, 0.03686224239032873, 0.03684765612036497, 0.03674368195957921, 0.0367332599178753, 0.036621643230679214, 0.03652069863707508, 0.03650446330276132, 0.03628762725158902, 0.036100282791435186, 0.03605578641734692, 0.036043645655322185, 0.036043245708001256, 0.036035537581354395, 0.036010176060074534, 0.035859484322228914, 0.03562066362957501, 0.03560041374016857, 0.03543748010165867, 0.03542767295027086, 0.03529500581147607, 0.03497801188509395, 0.03483860966825983, 0.03474923916978494, 0.03463888032974857, 0.03454961748004873, 0.03453892665042499, 0.03451564789595569, 0.03449726392845556, 0.034343107767114384, 0.03430709453957725, 0.03430513152195339, 0.03428732060166242, 0.03426032557519145, 0.03424185354843879, 0.03421278616836988, 0.03420377691907596, 0.03409077588914522, 0.033973491312629875, 0.03396544735725039, 0.033942666234294386, 0.03393824165613585, 0.03383213553952219, 0.033661443119474624, 0.033558315562304666, 0.03355613715805114, 0.0334509898989645, 0.033376038835123446, 0.03333053743667296, 0.03332665832854147, 0.03325065853174358, 0.03324761048007521, 0.033220183720599754, 0.033108736965270266, 0.03296884820986975, 0.032778633522141595, 0.03275114063346274, 0.03258997636765329, 0.03227164640270623, 0.03226831429539383, 0.03221187470222862, 0.03219604945412115, 0.032172337490639656, 0.03214710125593066, 0.03210862456808688, 0.03208982317436424, 0.032045681294192815, 0.032044863818525296, 0.0320041442644515, 0.03198257391063033, 0.03191958422327183, 0.03190194328971805, 0.03180428871878573, 0.031771183305205807, 0.031707322201129186, 0.0315159913886291, 0.03142482641091528, 0.03122987873716574, 0.031109915364031362, 0.03096482566932495, 0.03092787174495946, 0.030925796591618003, 0.030899189930876928, 0.030565117333826056, 0.030527994352191765, 0.03030984365210916, 0.03025432673268257, 0.030132773321109106, 0.029879089155876302, 0.029705940519724153, 0.029624657005473228, 0.029452126746842396, 0.02942526767129315, 0.02911729342270206, 0.029101077554749177, 0.029046324167141445, 0.028930035066467907, 0.028693512561323787, 0.028603252025854984, 0.028582070913659843, 0.028538455141557943, 0.0284606086001664, 0.028336689994150663, 0.02826251668437216, 0.028229626914149493, 0.02822605988001922, 0.028072643066580964, 0.02798895170974737, 0.027976051029039297, 0.02793167878518673, 0.027827141891633964, 0.02780608130549855, 0.02778349354963198, 0.027648714656889187, 0.0276442562291045, 0.027616544949348495, 0.027599957071415042, 0.027488354293579976, 0.02746635233560048, 0.0274651907626009, 0.027377406093621236, 0.027374781685959595, 0.027334664609717497, 0.027333361098586546, 0.027198255890052706, 0.02719712726589398, 0.027193578181926557, 0.027147716751242626, 0.027091431400086175, 0.02704375387256432, 0.02701981249643155, 0.02699334994766678, 0.026908763537950135, 0.026905959100327486, 0.026871961133911264, 0.02687140467842787, 0.026860200452379582, 0.02675056455853281, 0.026647240951845407, 0.026449052213805505, 0.02644682340743375, 0.026344394302594675, 0.026278645333565488, 0.02623598456768286, 0.02623373967096206, 0.026193465533428224, 0.026184551207824567, 0.026094319941120412, 0.026066283246133245, 0.02600257023445714, 0.025996018689228264, 0.025982025218153678, 0.02587203863662749, 0.02582024990735537, 0.02581657545132666, 0.025813074395356888, 0.025720695675323868, 0.025680811761488093, 0.02567814144298239, 0.025619742437091014, 0.025588473228171812, 0.02553281106180204, 0.025482259108258663, 0.0254247772933646, 0.025201280756978802, 0.025194887186763396, 0.025020735377922116, 0.024992365762164438, 0.024992365762164438, 0.024943986755683063, 0.024899702402953708, 0.024838566994398133, 0.02480727093313455, 0.024797234324426282, 0.024750238329220294, 0.024680968310369266, 0.024601720855784145, 0.024429986348883808, 0.024234298437362876, 0.02422637764902369, 0.024225587746354985, 0.02416059351666044, 0.024045141374090914, 0.02396613475763054, 0.023924491396761498, 0.02392135367716994, 0.023822766853175574, 0.023811512123012527, 0.023659384180461956, 0.023499799466786063, 0.023456766545664216, 0.023344964219745763, 0.023292217005586695, 0.023266819355001814, 0.02292420238767921, 0.022922823194127518, 0.022712302328834002, 0.022616752019340824, 0.022589759184184367, 0.02248256631747947, 0.02233669062508444, 0.022236729044525616, 0.022230663158816086, 0.021914469695354537, 0.021693622310101086, 0.021678974863453066, 0.021646580040399717, 0.021639688770220815, 0.02162407905625242, 0.02160395262881596, 0.02136938201890436, 0.02136287175146397, 0.021360256101747906, 0.021358797325160807, 0.021352991414690697, 0.02134270457699996, 0.02123438558458555, 0.021207112700266966, 0.0212031750351087, 0.02115085730183101, 0.020972375705520963, 0.020922216242895482, 0.02092110560132429, 0.020921088588882742, 0.020904271676654346, 0.02089157868270863, 0.020880309508360867, 0.020843335682769863, 0.020695412507606942, 0.020648303836321377, 0.020488628187361503, 0.02044941535378851, 0.020296449858296275, 0.020283368198086224, 0.02021458668060253, 0.020142301471998275, 0.020132106829260924, 0.02010963148105915, 0.02010959599976567, 0.020045255865573017, 0.01997950861973326, 0.019726141878907172, 0.019624976713629328, 0.01953053247010027, 0.019478341188309822, 0.019441631140339227, 0.019411539031504662, 0.019133159786801218, 0.019094541427675266, 0.01906534259518658, 0.019038379728949457, 0.018957943031213738, 0.01882823137825647, 0.018782979811377384, 0.018678563254383388, 0.01865618272665681, 0.018602379087862587, 0.018297114970288908, 0.018265375658085257, 0.01825958778197086, 0.018201516963025667, 0.018184997549758507, 0.018179091554401842, 0.018108120596215797, 0.018099794335670865, 0.017978938886421134, 0.01797476811828059, 0.017909064467396752, 0.017759300368813492, 0.017724673719674632, 0.017709037780664297, 0.017472395178977165, 0.01745586958162236, 0.017272047978317374, 0.01724021512602328, 0.017229589529167783, 0.017037197233422632, 0.016993387803688753, 0.016957341282819064, 0.016932526439903763, 0.016917265507524204, 0.016917152925613976, 0.016910532818098286, 0.016897783130505394, 0.016890785806492226, 0.01668458324368815, 0.01662313086000274, 0.016547557040023416, 0.016546975411751298, 0.016379316454232892, 0.016318340551544387, 0.016015842238379086, 0.015919834363340143, 0.015894179065093703, 0.015801345786186898, 0.015641365305454447, 0.01562644932468023, 0.015363339702984292, 0.015161595688804187, 0.015155139310288012, 0.0151277832863571, 0.015104047590271527, 0.014951911653671464, 0.014924007497991252, 0.014463118980037484, 0.01441271827162082, 0.014075561690166204, 0.013860940325516973, 0.013650700401606727, 0.013603211085271535, 0.013350786070011363, 0.01328816646028062, 0.013183611429106644, 0.01302942731244114, 0.012710373012478791, 0.012702384797575269, 0.012527330261475938, 0.012437945697027726, 0.012187791576966327, 0.011698352435961746, 0.01157485585930653, 0.011464470741053872, 0.011040724980473182, 0.011016019809659118, 0.010484419553113545, 0.010218447941768028, 0.009725625978234502, 0.009517527652891144, 0.009314439700583292, 0.009264680395434785, 0.00916369366279268, 0.00903533197047038, 0.00887764651839305, 0.008684729371760512, 0.008662882516708839, 0.00824170881785795, 0.007093435737856094, 0.006391405908164193, 0.005886059961816023, 0.004985033448996261, 0.004119425792323657, 0.0037873819088445008, 0.003712224160801257, 0.003558458797038715, 0.002935407556115978, 0.0015194961487045014, 0.0013104950889575248, 0.0012889156935950601]}],\n",
              "                        {\"barmode\": \"stack\", \"template\": {\"data\": {\"bar\": [{\"error_x\": {\"color\": \"#2a3f5f\"}, \"error_y\": {\"color\": \"#2a3f5f\"}, \"marker\": {\"line\": {\"color\": \"#E5ECF6\", \"width\": 0.5}}, \"type\": \"bar\"}], \"barpolar\": [{\"marker\": {\"line\": {\"color\": \"#E5ECF6\", \"width\": 0.5}}, \"type\": \"barpolar\"}], \"carpet\": [{\"aaxis\": {\"endlinecolor\": \"#2a3f5f\", \"gridcolor\": \"white\", \"linecolor\": \"white\", \"minorgridcolor\": \"white\", \"startlinecolor\": \"#2a3f5f\"}, \"baxis\": {\"endlinecolor\": \"#2a3f5f\", \"gridcolor\": \"white\", \"linecolor\": \"white\", \"minorgridcolor\": \"white\", \"startlinecolor\": \"#2a3f5f\"}, \"type\": \"carpet\"}], \"choropleth\": [{\"colorbar\": {\"outlinewidth\": 0, \"ticks\": \"\"}, \"type\": \"choropleth\"}], \"contour\": [{\"colorbar\": {\"outlinewidth\": 0, \"ticks\": \"\"}, \"colorscale\": [[0.0, \"#0d0887\"], [0.1111111111111111, \"#46039f\"], [0.2222222222222222, \"#7201a8\"], [0.3333333333333333, \"#9c179e\"], [0.4444444444444444, \"#bd3786\"], [0.5555555555555556, \"#d8576b\"], [0.6666666666666666, \"#ed7953\"], [0.7777777777777778, \"#fb9f3a\"], [0.8888888888888888, \"#fdca26\"], [1.0, \"#f0f921\"]], \"type\": \"contour\"}], \"contourcarpet\": [{\"colorbar\": {\"outlinewidth\": 0, \"ticks\": \"\"}, \"type\": \"contourcarpet\"}], \"heatmap\": [{\"colorbar\": {\"outlinewidth\": 0, \"ticks\": \"\"}, \"colorscale\": [[0.0, \"#0d0887\"], [0.1111111111111111, \"#46039f\"], [0.2222222222222222, \"#7201a8\"], [0.3333333333333333, \"#9c179e\"], [0.4444444444444444, \"#bd3786\"], [0.5555555555555556, \"#d8576b\"], [0.6666666666666666, \"#ed7953\"], [0.7777777777777778, \"#fb9f3a\"], [0.8888888888888888, \"#fdca26\"], [1.0, \"#f0f921\"]], \"type\": \"heatmap\"}], \"heatmapgl\": [{\"colorbar\": {\"outlinewidth\": 0, \"ticks\": \"\"}, \"colorscale\": [[0.0, \"#0d0887\"], [0.1111111111111111, \"#46039f\"], [0.2222222222222222, \"#7201a8\"], [0.3333333333333333, \"#9c179e\"], [0.4444444444444444, \"#bd3786\"], [0.5555555555555556, \"#d8576b\"], [0.6666666666666666, \"#ed7953\"], [0.7777777777777778, \"#fb9f3a\"], [0.8888888888888888, \"#fdca26\"], [1.0, \"#f0f921\"]], \"type\": \"heatmapgl\"}], \"histogram\": [{\"marker\": {\"colorbar\": {\"outlinewidth\": 0, \"ticks\": \"\"}}, \"type\": \"histogram\"}], \"histogram2d\": [{\"colorbar\": {\"outlinewidth\": 0, \"ticks\": \"\"}, \"colorscale\": [[0.0, \"#0d0887\"], [0.1111111111111111, \"#46039f\"], [0.2222222222222222, \"#7201a8\"], [0.3333333333333333, \"#9c179e\"], [0.4444444444444444, \"#bd3786\"], [0.5555555555555556, \"#d8576b\"], [0.6666666666666666, \"#ed7953\"], [0.7777777777777778, \"#fb9f3a\"], [0.8888888888888888, \"#fdca26\"], [1.0, \"#f0f921\"]], \"type\": \"histogram2d\"}], \"histogram2dcontour\": [{\"colorbar\": {\"outlinewidth\": 0, \"ticks\": \"\"}, \"colorscale\": [[0.0, \"#0d0887\"], [0.1111111111111111, \"#46039f\"], [0.2222222222222222, \"#7201a8\"], [0.3333333333333333, \"#9c179e\"], [0.4444444444444444, \"#bd3786\"], [0.5555555555555556, \"#d8576b\"], [0.6666666666666666, \"#ed7953\"], [0.7777777777777778, \"#fb9f3a\"], [0.8888888888888888, \"#fdca26\"], [1.0, \"#f0f921\"]], \"type\": \"histogram2dcontour\"}], \"mesh3d\": [{\"colorbar\": {\"outlinewidth\": 0, \"ticks\": \"\"}, \"type\": \"mesh3d\"}], \"parcoords\": [{\"line\": {\"colorbar\": {\"outlinewidth\": 0, \"ticks\": \"\"}}, \"type\": \"parcoords\"}], \"pie\": [{\"automargin\": true, \"type\": \"pie\"}], \"scatter\": [{\"marker\": {\"colorbar\": {\"outlinewidth\": 0, \"ticks\": \"\"}}, \"type\": \"scatter\"}], \"scatter3d\": [{\"line\": {\"colorbar\": {\"outlinewidth\": 0, \"ticks\": \"\"}}, \"marker\": {\"colorbar\": {\"outlinewidth\": 0, \"ticks\": \"\"}}, \"type\": \"scatter3d\"}], \"scattercarpet\": [{\"marker\": {\"colorbar\": {\"outlinewidth\": 0, \"ticks\": \"\"}}, \"type\": \"scattercarpet\"}], \"scattergeo\": [{\"marker\": {\"colorbar\": {\"outlinewidth\": 0, \"ticks\": \"\"}}, \"type\": \"scattergeo\"}], \"scattergl\": [{\"marker\": {\"colorbar\": {\"outlinewidth\": 0, \"ticks\": \"\"}}, \"type\": \"scattergl\"}], \"scattermapbox\": [{\"marker\": {\"colorbar\": {\"outlinewidth\": 0, \"ticks\": \"\"}}, \"type\": \"scattermapbox\"}], \"scatterpolar\": [{\"marker\": {\"colorbar\": {\"outlinewidth\": 0, \"ticks\": \"\"}}, \"type\": \"scatterpolar\"}], \"scatterpolargl\": [{\"marker\": {\"colorbar\": {\"outlinewidth\": 0, \"ticks\": \"\"}}, \"type\": \"scatterpolargl\"}], \"scatterternary\": [{\"marker\": {\"colorbar\": {\"outlinewidth\": 0, \"ticks\": \"\"}}, \"type\": \"scatterternary\"}], \"surface\": [{\"colorbar\": {\"outlinewidth\": 0, \"ticks\": \"\"}, \"colorscale\": [[0.0, \"#0d0887\"], [0.1111111111111111, \"#46039f\"], [0.2222222222222222, \"#7201a8\"], [0.3333333333333333, \"#9c179e\"], [0.4444444444444444, \"#bd3786\"], [0.5555555555555556, \"#d8576b\"], [0.6666666666666666, \"#ed7953\"], [0.7777777777777778, \"#fb9f3a\"], [0.8888888888888888, \"#fdca26\"], [1.0, \"#f0f921\"]], \"type\": \"surface\"}], \"table\": [{\"cells\": {\"fill\": {\"color\": \"#EBF0F8\"}, \"line\": {\"color\": \"white\"}}, \"header\": {\"fill\": {\"color\": \"#C8D4E3\"}, \"line\": {\"color\": \"white\"}}, \"type\": \"table\"}]}, \"layout\": {\"annotationdefaults\": {\"arrowcolor\": \"#2a3f5f\", \"arrowhead\": 0, \"arrowwidth\": 1}, \"coloraxis\": {\"colorbar\": {\"outlinewidth\": 0, \"ticks\": \"\"}}, \"colorscale\": {\"diverging\": [[0, \"#8e0152\"], [0.1, \"#c51b7d\"], [0.2, \"#de77ae\"], [0.3, \"#f1b6da\"], [0.4, \"#fde0ef\"], [0.5, \"#f7f7f7\"], [0.6, \"#e6f5d0\"], [0.7, \"#b8e186\"], [0.8, \"#7fbc41\"], [0.9, \"#4d9221\"], [1, \"#276419\"]], \"sequential\": [[0.0, \"#0d0887\"], [0.1111111111111111, \"#46039f\"], [0.2222222222222222, \"#7201a8\"], [0.3333333333333333, \"#9c179e\"], [0.4444444444444444, \"#bd3786\"], [0.5555555555555556, \"#d8576b\"], [0.6666666666666666, \"#ed7953\"], [0.7777777777777778, \"#fb9f3a\"], [0.8888888888888888, \"#fdca26\"], [1.0, \"#f0f921\"]], \"sequentialminus\": [[0.0, \"#0d0887\"], [0.1111111111111111, \"#46039f\"], [0.2222222222222222, \"#7201a8\"], [0.3333333333333333, \"#9c179e\"], [0.4444444444444444, \"#bd3786\"], [0.5555555555555556, \"#d8576b\"], [0.6666666666666666, \"#ed7953\"], [0.7777777777777778, \"#fb9f3a\"], [0.8888888888888888, \"#fdca26\"], [1.0, \"#f0f921\"]]}, \"colorway\": [\"#636efa\", \"#EF553B\", \"#00cc96\", \"#ab63fa\", \"#FFA15A\", \"#19d3f3\", \"#FF6692\", \"#B6E880\", \"#FF97FF\", \"#FECB52\"], \"font\": {\"color\": \"#2a3f5f\"}, \"geo\": {\"bgcolor\": \"white\", \"lakecolor\": \"white\", \"landcolor\": \"#E5ECF6\", \"showlakes\": true, \"showland\": true, \"subunitcolor\": \"white\"}, \"hoverlabel\": {\"align\": \"left\"}, \"hovermode\": \"closest\", \"mapbox\": {\"style\": \"light\"}, \"paper_bgcolor\": \"white\", \"plot_bgcolor\": \"#E5ECF6\", \"polar\": {\"angularaxis\": {\"gridcolor\": \"white\", \"linecolor\": \"white\", \"ticks\": \"\"}, \"bgcolor\": \"#E5ECF6\", \"radialaxis\": {\"gridcolor\": \"white\", \"linecolor\": \"white\", \"ticks\": \"\"}}, \"scene\": {\"xaxis\": {\"backgroundcolor\": \"#E5ECF6\", \"gridcolor\": \"white\", \"gridwidth\": 2, \"linecolor\": \"white\", \"showbackground\": true, \"ticks\": \"\", \"zerolinecolor\": \"white\"}, \"yaxis\": {\"backgroundcolor\": \"#E5ECF6\", \"gridcolor\": \"white\", \"gridwidth\": 2, \"linecolor\": \"white\", \"showbackground\": true, \"ticks\": \"\", \"zerolinecolor\": \"white\"}, \"zaxis\": {\"backgroundcolor\": \"#E5ECF6\", \"gridcolor\": \"white\", \"gridwidth\": 2, \"linecolor\": \"white\", \"showbackground\": true, \"ticks\": \"\", \"zerolinecolor\": \"white\"}}, \"shapedefaults\": {\"line\": {\"color\": \"#2a3f5f\"}}, \"ternary\": {\"aaxis\": {\"gridcolor\": \"white\", \"linecolor\": \"white\", \"ticks\": \"\"}, \"baxis\": {\"gridcolor\": \"white\", \"linecolor\": \"white\", \"ticks\": \"\"}, \"bgcolor\": \"#E5ECF6\", \"caxis\": {\"gridcolor\": \"white\", \"linecolor\": \"white\", \"ticks\": \"\"}}, \"title\": {\"x\": 0.05}, \"xaxis\": {\"automargin\": true, \"gridcolor\": \"white\", \"linecolor\": \"white\", \"ticks\": \"\", \"title\": {\"standoff\": 15}, \"zerolinecolor\": \"white\", \"zerolinewidth\": 2}, \"yaxis\": {\"automargin\": true, \"gridcolor\": \"white\", \"linecolor\": \"white\", \"ticks\": \"\", \"title\": {\"standoff\": 15}, \"zerolinecolor\": \"white\", \"zerolinewidth\": 2}}}, \"title\": {\"text\": \"similarit\\u00e9s tf-idf\"}, \"xaxis\": {\"title\": {\"text\": \"similarit\\u00e9\"}}, \"yaxis\": {\"title\": {\"text\": \"nb vid\\u00e9os\"}}},\n",
              "                        {\"responsive\": true}\n",
              "                    ).then(function(){\n",
              "                            \n",
              "var gd = document.getElementById('3dca58a7-96b4-4411-a116-aba1eefe7edb');\n",
              "var x = new MutationObserver(function (mutations, observer) {{\n",
              "        var display = window.getComputedStyle(gd).display;\n",
              "        if (!display || display === 'none') {{\n",
              "            console.log([gd, 'removed!']);\n",
              "            Plotly.purge(gd);\n",
              "            observer.disconnect();\n",
              "        }}\n",
              "}});\n",
              "\n",
              "// Listen for the removal of the full notebook cells\n",
              "var notebookContainer = gd.closest('#notebook-container');\n",
              "if (notebookContainer) {{\n",
              "    x.observe(notebookContainer, {childList: true});\n",
              "}}\n",
              "\n",
              "// Listen for the clearing of the current output cell\n",
              "var outputEl = gd.closest('.output');\n",
              "if (outputEl) {{\n",
              "    x.observe(outputEl, {childList: true});\n",
              "}}\n",
              "\n",
              "                        })\n",
              "                };\n",
              "                \n",
              "            </script>\n",
              "        </div>\n",
              "</body>\n",
              "</html>"
            ]
          },
          "metadata": {
            "tags": []
          }
        }
      ]
    },
    {
      "cell_type": "code",
      "metadata": {
        "id": "vsAmxnurKBU0",
        "colab": {
          "base_uri": "https://localhost:8080/",
          "height": 417
        },
        "outputId": "d65a2521-bf2d-4194-f3b6-fb0c32008147"
      },
      "source": [
        "# 6.j\n",
        "# ainsi que la corrélation entre similarité et fréquence des termes clés\n",
        "montre_relation_freq_termes_cle_similarite(l_similarites_tfidf)"
      ],
      "execution_count": null,
      "outputs": [
        {
          "output_type": "display_data",
          "data": {
            "text/html": [
              "<html>\n",
              "<head><meta charset=\"utf-8\" /></head>\n",
              "<body>\n",
              "    <div>\n",
              "            <script src=\"https://cdnjs.cloudflare.com/ajax/libs/mathjax/2.7.5/MathJax.js?config=TeX-AMS-MML_SVG\"></script><script type=\"text/javascript\">if (window.MathJax) {MathJax.Hub.Config({SVG: {font: \"STIX-Web\"}});}</script>\n",
              "                <script type=\"text/javascript\">window.PlotlyConfig = {MathJaxConfig: 'local'};</script>\n",
              "        <script src=\"https://cdn.plot.ly/plotly-latest.min.js\"></script>    \n",
              "            <div id=\"fa03d28f-555e-4957-b0cf-7417309326ad\" class=\"plotly-graph-div\" style=\"height:400px; width:600px;\"></div>\n",
              "            <script type=\"text/javascript\">\n",
              "                \n",
              "                    window.PLOTLYENV=window.PLOTLYENV || {};\n",
              "                    \n",
              "                if (document.getElementById(\"fa03d28f-555e-4957-b0cf-7417309326ad\")) {\n",
              "                    Plotly.newPlot(\n",
              "                        'fa03d28f-555e-4957-b0cf-7417309326ad',\n",
              "                        [{\"hoverlabel\": {\"namelength\": 0}, \"hovertemplate\": \"log fr\\u00e9q. relative=%{x}<br>similarite=%{y}\", \"legendgroup\": \"\", \"marker\": {\"color\": \"#636efa\", \"symbol\": \"circle\"}, \"mode\": \"markers\", \"name\": \"\", \"showlegend\": false, \"type\": \"scatter\", \"x\": [1.0866091438067538, 1.2973373126341736, 1.2909841813155658, 0.1318185746208478, 0.10662714027301917, -0.8208019646954828, -0.8962480757733666, -0.04429829811034386, -0.9001613499442714, 1.2944533955495772, -0.0840167013428174, 0.5798184952529422, 0.7223185578602251, 0.5069868474588249, 0.3477289042317846, 1.1755348690054024, 1.6728659392876444, 1.8192774981219473, 0.9585505411640378, -0.5989642721231844, 1.0751399324829676, 1.3470736479666094, 1.3455363686477229, -0.33157303707256947, 1.0909494159225406, 0.441974606311478, -0.38579372219945707, 0.7501986482471797, -0.8638271623384142, -0.20568048020290816, 0.2832474753839152, -0.5297875616473772, 0.23031204079282225, 1.791759469228055, 1.1116975282167652, -0.4705716497097442, 0.6652637012098269, 0.47803580094299974, 0.8562854968845831, -0.3203428546913293, 1.4271163556401458, -0.10436001532424276, 0.6713856887784325, -0.12387554965554076, 1.3121863889661687, 1.0828284209668477, 0.7011793522572095, -0.6606239888543853, 0.23669651771891329, -1.5085119938441398, 0.24399905827510093, -0.19987492437485538, -0.9653529678722278, 2.315163875200906, 0.36672527979223385, -0.4203093402623982, 0.2351471249921242, -0.1272617796109272, -0.6151856390902334, -0.013113639145383138, -0.008298802814695066, 0.707651866762827, 0.9232594011902484, -0.3792922338041411, 1.3559890116245616, -0.7952524034970989, -0.009950330853168092, -0.6992396945591026, -1.7263316639055997, -2.1983350716202463, 1.06743667119966, 0.9458912016504458, -1.1809600300168632, -0.031983045853050764, -0.2181310094906654, 1.0216512475319812, 0.9234592213527676, -2.120763411241742, -1.3987168811184478, -0.20119004109833738, -0.9858167945227653, 0.7950947236215317, -0.8274595181675394, -0.9109431255475599, -2.048660117340398, -1.3931458360689923, -1.5665304114228238, -0.43286408229627876, 0.1634998025533668, 0.9881679434051928, -1.2933563654606215, 1.2089853461494804, 0.09253026357066552, -0.3747415252088294, 0.7637286147320346, -1.0114095058017352, 0.05129329438755048, -1.8733394562204777, 2.3396263646743947, -1.6566395139183945, 2.394765846207462, -1.2919836816486492, -0.29402554637395595, 2.0624439653112647, 0.2887082398070929, -2.4214786229344565, 1.4185326119487542, -0.15081177856174371, -1.2940420014148037, -0.6308625278081123, 2.0126328720077256, -0.6307881008953063, 0.3011050927839216, -0.7262471289862902, -1.3029127521808397, -1.3038181392956523, -1.7298840655099674, 0.2510287548037455, -1.306529392651028, -1.3038181392956523, -1.271631452799751, -0.8865185735404849, -2.3403624573280757, -1.6351056591826783, -0.34054556200884867, -1.434290559388146, 1.491654876777717, -0.10915331389652251, 1.0078579253996456, -1.566232126558569, -3.489513462710723, -0.8446412735586404, -0.21107097007994055, -0.9932517730102834, 1.3322271398496148, 0.3147107448397002, 1.1973282616072674, -2.874693945176935, -1.4883995840570443, 0.8572018155041485, -0.6672594096078175, 2.310953342664562, -0.5933268452777343, -0.8355144218468672, -0.4637340162321402, -0.7581611321408114, -2.488234439880675, 1.9320072438863218, -1.545432582458188, -1.3551906160685567, 0.025317807984289786, 0.03735578654376882, -0.6084059521048546, 1.4035858582299516, 0.2910209737172956, -2.042518187575238, -0.7907275088988093, 1.1907275775759152, -0.5638923447026829, -0.585933096252796, 1.1277836659683895, 1.331175061898811, 0.4620354595965586, -2.1138429683971682, -0.09833590072086183, -0.3030631744900832, -0.9096017437233586, -0.6300194285253918, -1.3344746123900941, -1.5810384379124023, -3.0091419604639085, -1.888583653863595, -0.24338181355520097, -0.4803664162812821, 0.2563821927899436, 0.8240845380074213, -3.652215469742345, -2.800325477211381, -2.761274962339508, -0.5453650671835629, -1.9487632180377197, 0.3227337105106996, 0.7501246153024856, 0.011313759900273314, -1.8242804387089238, 0.5887871652357025, -2.0998567264224284, -2.0873270359538263, -0.6418538861723948, 1.3158907205299213, 0.7550225842780328, -0.9053742201328046, -0.9053742201328046, -0.7383595233814934, 1.0755470157371136, -1.5971122627434635, 1.205640861426633, -0.8250522514398839, -1.0647107369924282, 1.7227665977411035, -1.2025432115163415, -1.888583653863595, -2.1041341542702074, 0.5863331762741358, 0.6219004406872557, -0.7030975114131134, -2.070232602594526, -2.7239235502585, -2.3438869723511515, -0.14410034397375687, 0.5025268209512956, -2.0943301541735866, -2.4871264065263134, -1.4798985410791152, -1.0560526742493137, 1.0154973819576032, 1.6739764335716716, -1.8837814204467007, -0.13102826240640414, -2.247072383063787, -0.39279255685439796, 0.7479554170549403, -0.12956520435464366, -1.2578926463153663, -0.7485818874480459, 1.0345546523678892, 0.04866517198128101, 0.13210384063333727, -0.02955880224154439, -1.8293763327993617, -0.3340884452659367, 0.5286926255944151, -0.8256363636060242, -1.169381359556317, -2.3398808777377424, -0.026317308317373417, -2.3559362684910403, 1.0147308046874077, 0.5043650567630467, -1.2208299213923588, -0.8628899551470398, -0.6931471805599453, -0.09682418463553993, 0.17802311603374016, -3.1450139762697455, -0.9287837961216215, 0.2262734443231375, 0.7911275889201491, -1.3270750014599193, -1.5085119938441398, 0.8413894237010374, -2.949164637737656, 0.06613980250454499, 0.7224615682287207, -0.009950330853168092, -1.9892432737616872, 0.17575492907006623, -1.6253112615903904, 0.5978370007556204, 0.00836824967051658, -0.3754353616564684, 1.2378743560016172, 0.37833644071991174, 0.24846135929849972, -0.1535790879283007, 0.09156719352549043, -1.3083328196501787, -1.6873244510911716, -0.23507212217948356, -0.2597968689622453, 0.26461679952078476, -2.188295946591918, -1.1489884959931764, 0.5447271754416719, 1.783791299578878, -1.0702128141464118, 1.2819343457956478, -2.0228711901914416, 0.083381608939051, -1.8191584434161694, -1.6409365794934714, 1.7552897894466637, -0.924258901523332, -2.4274540750399147, -1.599387576580599, -0.12868634096132295, -0.5353788538207683, 0.22257553085020115, 0.34349685155817744, 0.008987636497379367, -0.01324522675002068, 0.008032171697264253, 0.16448163866562365, -0.614847744172337, -0.9883012678504272, -0.8064758658669484, -0.173953307123438, 0.8794767587514388, -0.8628899551470398, -0.8923132481335674, 0.05657035148839424, -0.7724203614544533, -0.7030975114131134, -0.055119299221079554, -0.714908672341458, -1.1019400787607843, 1.5527425687575551, -1.2601640839756785, -0.31689407392688784, -1.4011829736136412, 1.0176908463158845, 0.5175146119167873, -1.4881173771975447, 0.8915981192837835, -2.1144466508785262, 1.160487692386197, -0.4700036292457356, -2.3532782073095637, -2.8906494971008385, 0.5025268209512956, 0.5591992080502064, 0.7657178733947807, -0.6312717768418579, -0.6563679290566489, -1.8460898137731023, 0.3340751120214914, -2.4218485138208634, -0.4098997051760301, -0.9784827521306027, 0.48391817084606636, 0.0, -0.17675051174449924, -0.014067257211435478, -2.044461822783809, 0.7550225842780328, 0.7960416037225782, 0.5887871652357025, 0.5084475013610232, 0.3147107448397002, -2.115049969147204, -1.0508216248317612, 1.1472774606493907, -0.08617769624105227, -1.085189268335969, 1.1854782216897717, -1.423108334242607, -0.3118867611485983, 1.030953640194295, -1.5706970841176697, -0.9895411936137478, 0.47000362924573563, -1.0438040521731147, 1.3599770528025172, 0.1392620673335076, -0.9156238428864514, 1.5812670354674039, 0.8324092478934529, -1.6467336971777973, -0.173953307123438, -0.23507212217948356, -2.647592232065096, -1.2809338454620642, -0.39541477225466287, 1.1792801917355644, -3.475376779836407, 0.4502010019495558, -0.7275486072772778, 1.3943265328171548, 2.259099981054307, -0.9981778913463393, -1.3428648031925545, -1.4122057429043915, 1.8505999692509885, -0.8581318177006229, -0.9745596399981308, 2.17742195004004, -1.951608170169951, 1.0078579253996456, -2.7549337870010606, -1.463255402256019, 0.4521637111174045, 0.6348782724359695, -2.280339484046726, 0.9263410677276565, -1.6714733033535532, -3.3965197921110444, 0.43335031159770004, 0.8153148145341529, -0.6601073264817452, -1.340250422618484, -1.2406261219739714, -1.4243124283074116, -1.6174060820832774, -0.7731898882334817, -0.28517894223366247, -2.803360380906535, -0.009950330853168092, 1.5141277326297755, -1.9719955195309882, -0.3184537311185346, -1.8855533485144158, -1.0212511675106415, -2.1329823086078656, -0.44468582126144557, -1.489527615761543, 1.2378743560016172, -0.009950330853168092, 0.2025242641114741, 1.2378743560016172, -0.4317824164255378, 1.5606477482646683, -0.5364933705145686, -0.1375856629525631, -2.648300196696436, -1.701105100959924, 0.1392620673335076, 0.2613647641344075, 1.8860701486992963, -1.776645831418007, -0.44788582399211657, -1.0367368849500223, 0.2613647641344075, 2.407945608651872, -0.8109302162163288, 0.08883121370661583, -2.827313621929028, -0.37385976869283327, -1.8645967931803211, -0.8796267475025635, 0.010050335853501506, -0.2889312918522128, -1.7561322915849038, 0.48265474679929443, -0.21856164180909807, -0.21241958795123408, -1.6770965609079151, 0.3519243411801346, -1.6054298910365616, 0.5219989243641159, -1.2149127443642704, -0.2889312918522128, -0.6523251860396901, -1.0260415958332743, -2.052840859882657, -1.2992829841302609, -1.56234630490025, -0.3277037468012669, -0.16551443847757344, -1.4883995840570443, -1.7701385231250912, -0.03922071315328127, -0.5068176023684517, 1.171182981502945, 0.1508228897345837, -0.2311117209633867, 1.6990500711237875, -0.0884686479876081, 0.2613647641344075, -2.4019778368720806, 0.8675005677047231, 1.817077277212345, 0.7437389666760054, 0.0408219945202552, 0.5361434317502806, -0.4165149442947494, -0.7030975114131134, 0.7874578600311867, -1.6233408176030917, 0.3955147772549963, 0.8209805520698303, 2.0714733720306593, 0.5816058058270379, -1.2612978709452054, -0.3937298518897434, 1.6519975268528964, 1.1776554960085626, 0.7507762933965817, 0.07257069283483537, -1.6389967146756448, 1.07880966137193, -0.6609682821957101, -0.7214916535690878, 0.9942522733438669, -0.3364722366212129, -0.15272108701766385, -0.5653138090500603, 0.7133498878774648, -2.659559991941776, 0.17435338714477774, -0.7400307664587957, 2.3879449419452023, -2.5079719227189963, -2.0554049638515948, -1.1969481893889715, -0.5083224935478722, -2.800933195248924, 0.27443684570176036, 0.1165338162559516, 0.3941013494578493, 0.8209805520698303, -0.048790164169432056, -1.2669476034873244, -0.9941772705312263, -0.9122827104766162, 1.2729656758128876, 2.2335922215070942, 0.7082608183699934, -1.2208299213923588, -3.23907053215372, -1.6992786164338898, -0.4382549309311553, -0.9932517730102834, 0.7838015488280762, 0.8324092478934529, -0.4382549309311553, -0.1823215567939546, 0.9675840262617057, 0.010050335853501506, -1.1908875647772805, 0.46601160797619806, 1.3704210119636004, 0.9875182411625228, -0.11332868530700312, 0.843970070294529, -0.46687373623680783, -2.1004689088719117, -0.19885085874516517, -0.1570037488096648, 1.192922968139351, 1.171182981502945, 0.40047756659712536, -0.8940451229268354, 0.4269441397852886, -0.1570037488096648, -2.234306252240751, 0.8997614299229445, 1.0861897686695525, 0.5361434317502806, -1.2556160374777745, -0.1570037488096648, -0.28141245943818544, -0.7654678421395714, -1.007957920399979, 0.19845093872383823, -0.724322798028395, 0.3424903089467759, -1.7884205679625405, 0.3566749439387324, -0.07696104113612832, 0.7985076962177716, -1.160020916796753, -1.3029127521808397, 1.0886619578149417, -0.4824261492442928, -0.019802627296179754, -0.12221763272424915, -0.9631743177730054, -0.2311117209633867, 0.9675840262617057, -0.03922071315328127, 0.1508228897345837, -0.2546422183735807, -0.28517894223366247, -1.0116009116784799, -0.1570037488096648, 1.3664917338237108, -0.4252677354043441, -0.5364933705145686, -0.019802627296179754, 0.45413028008944545, 0.6733445532637655, -0.2776317365982795, 0.9162907318741551, -0.3089542077273206, -1.7322453416956474, 0.24419696051204215, -1.305626458052436, -1.8594181177018698, 1.1290714961528183, 1.0861897686695525, 0.44628710262841953, 1.8971199848858813, -2.499795262281751, 2.0794415416798357, 1.9572239089555867, -0.5423242908253616, 0.9246589815446716, 1.2039728043259361, -2.8237570088141806, -0.2311117209633867, -1.4678743481123135, -0.23901690047049984, -0.4252677354043441, -0.30010459245033816, -0.06765864847381481, 0.843970070294529, 1.6502599069543555, -0.16126814759612226, 2.120263536200091, -0.6830968447064438, -0.29266961396281993, -0.08617769624105227, 1.2378743560016172, -0.8197798314933114, -0.633927820899974, 1.3862943611198906, -0.19885085874516517, -0.6497176226326092, -1.000631880307906, 0.7011793522572095, -1.3614892422009195, -0.28517894223366247, -0.3646431135879093, 0.1508228897345837, -0.21511137961694557, 1.0216512475319812, 1.6094379124341003, -0.48858001481867097, -0.45742484703887537, 1.0033021088637848, 1.9763693565400218, -0.173953307123438, -0.9895411936137478, -0.6575200029167942, 0.6348782724359695, 0.6635883783184009, -0.02955880224154439, -1.5260563034950494, -0.1906203596086497, -0.40546510810816444, -0.30748469974796055, 0.1392620673335076, -0.19885085874516517, 0.27443684570176036, 0.1566538100453768, -1.121677561599106, 0.3930425881096072, -0.21511137961694557, 0.3011050927839216, 0.7339691750802005, 0.6799019538099246, 0.4155154439616658, 0.7657178733947807, 1.4842747694800944, -0.009950330853168092, -0.6729444732424258, 0.8556661100577203, -1.4327007339340465, -0.4317824164255378, 0.9675840262617057, -2.3085671646715933, 0.9781661355922425, 0.18632957819149354, -0.262364264467491, -0.39204208777602373, 0.7031975164134469, 0.5798184952529422, -1.3686394258811698, 0.647536669307893, 1.2552660987134865, 1.155182640156504, -0.14842000511827333, 0.5665145296265792, 0.21072103131565253, 0.1392620673335076, 0.6348782724359695, -1.5871923034867805, 0.8209805520698303, -0.32208349916911333, -1.061256502124341, -1.1631508098056809, -0.019802627296179754, 0.48613301117561913, 0.38566248081198473, 0.5276327420823719, 0.38566248081198473, -0.173953307123438, -0.5653138090500603, -0.8020015854720274, 0.03045920748470844, -0.19885085874516517, -0.7793248768009976, 1.035637489506721, 1.3664917338237108, 0.083381608939051, -0.12221763272424915, 0.6799019538099246, -0.009950330853168092, -0.8285518175661483, -0.12221763272424915, 0.6733445532637655, 0.7874578600311867, -0.6151856390902334, 0.5276327420823719, 0.47803580094299974, -0.16551443847757344, 0.0408219945202552, 0.7339691750802005, -0.019802627296179754], \"xaxis\": \"x\", \"y\": [0.279210689676262, 0.2340684093858654, 0.2287553056982428, 0.20758865134050705, 0.20725027991258851, 0.1931780517539961, 0.1919972627982349, 0.18460225292928928, 0.18451171661829222, 0.1800242043451943, 0.17885567539680836, 0.17787924304523128, 0.17612082167717763, 0.17053905169401887, 0.16980158768150552, 0.16854964119635343, 0.16767689590152457, 0.16612090891163087, 0.16453092216057455, 0.16442613788414207, 0.16350832568222048, 0.16268216239736139, 0.16221662612893323, 0.15740579100802943, 0.15735146716597695, 0.15733244091752346, 0.1564701411419311, 0.15456638696324607, 0.1536033890471925, 0.15347393283624286, 0.15337192313356438, 0.15221961796257175, 0.14800503283136515, 0.14797792249323247, 0.14779031305873125, 0.1464861739638618, 0.14610828650563878, 0.14469217687937846, 0.1441773360247103, 0.14341523549218665, 0.14226554351370982, 0.142221178209127, 0.141812604406362, 0.14134766414874642, 0.13894190500084927, 0.13553428758293348, 0.13461139568706515, 0.134429527017545, 0.1327150594547769, 0.1325203520273564, 0.13157950790696224, 0.1310205029915879, 0.13027212642248623, 0.12984017911149284, 0.12983638560730468, 0.1298030558396191, 0.1291510497126349, 0.1283841904920676, 0.12706264251171748, 0.126900145105314, 0.12575694269332424, 0.12527020589499843, 0.12454450471035615, 0.12322090507228488, 0.12285106590274603, 0.122450531843348, 0.12133159544629149, 0.12101454159244975, 0.1200213606031823, 0.11922580119926168, 0.11885582417143983, 0.1185571288491903, 0.11815480619073086, 0.11797363901128209, 0.1169045448845646, 0.11658774248508824, 0.1165306024422701, 0.11621557537318115, 0.11585830802334125, 0.11580509005300305, 0.11518689778857755, 0.11517239511545911, 0.11500150684008739, 0.11493335892917587, 0.11455892212138719, 0.11440701164026842, 0.11407444987842265, 0.11376892418567314, 0.11357244038334516, 0.1135115423075378, 0.1134128723359, 0.11329157764609192, 0.11277076172393519, 0.11192218367978647, 0.11124938860928925, 0.11090761471509307, 0.11072163197123056, 0.11064459153819513, 0.11021719653575958, 0.11014385464909165, 0.11011585275820812, 0.1100743938894821, 0.10980415127980178, 0.10958448076182244, 0.10956586626815111, 0.10939843929668801, 0.10933989106317148, 0.10929675133292373, 0.10912512894067389, 0.10887127897837008, 0.10858649366201008, 0.10848224250861936, 0.10844719384636245, 0.10806419658952364, 0.10797165842420496, 0.10779927577992934, 0.10757565432662612, 0.10749936135440971, 0.10749299845925529, 0.10746554771013755, 0.10746401369257154, 0.1072771451010588, 0.1068259325185076, 0.10643182225695758, 0.1063497404387206, 0.1054270479895283, 0.10528751108209365, 0.10522402641345012, 0.10507214382671533, 0.10488069595458684, 0.10450527745406703, 0.10387200076623566, 0.10378180525276207, 0.10328711564132785, 0.1023097469590744, 0.10194404728538757, 0.10142646271335692, 0.10091688050559794, 0.10071946078651918, 0.10060268000114389, 0.10020749257141387, 0.09990333537974704, 0.09938207761911455, 0.09927797955337016, 0.09914458972103113, 0.09902042400273649, 0.09871050565188849, 0.09858297580336654, 0.09854242294294614, 0.09835550111402894, 0.09808772919988007, 0.09793357678288174, 0.09788539660268779, 0.09769623915278078, 0.09767338221746738, 0.09760318733286749, 0.0975928622826413, 0.09750956476687532, 0.09666146657531374, 0.09638154761655265, 0.09612131622949185, 0.09540827163475786, 0.09532646338143048, 0.09527597180293224, 0.09515601632480063, 0.09483132096547282, 0.09445187227708123, 0.09436884076496671, 0.09384492964903711, 0.09372062317066006, 0.09369501142390221, 0.0934566039054361, 0.09318481267141915, 0.09302153318851022, 0.092859777335592, 0.09281684182055684, 0.09199625041427192, 0.09160267320736391, 0.09149211881017288, 0.09111023001018022, 0.09098388670600072, 0.09080524010640854, 0.09078718243172526, 0.09077741474069269, 0.09077454519687697, 0.09053076864433232, 0.09052712660394713, 0.090413886634348, 0.0900658098363186, 0.09005704541232565, 0.09004377634170355, 0.08954525436032247, 0.08954525436032247, 0.08931881034065506, 0.0892983033747274, 0.08915084589309881, 0.08904079021513156, 0.08888305028433958, 0.08871907628834041, 0.08869417768013736, 0.08868169312385435, 0.08850890504522743, 0.0884105603162739, 0.08836944231908522, 0.08834458682527618, 0.0882462927182329, 0.08820006126951972, 0.0881664814742081, 0.08804583511659653, 0.0880136092783692, 0.08796575009502293, 0.0874931255993279, 0.08727356537767691, 0.08726690778030656, 0.08702285349513549, 0.08665970856280082, 0.08644953476955375, 0.08643415707174802, 0.08614066612859925, 0.08609948859264147, 0.08576894096112885, 0.08564346035976017, 0.08562568610582734, 0.08541682387715399, 0.08534994211287504, 0.08530018475960188, 0.08494564047951632, 0.08464394697971866, 0.08428613623773881, 0.08424061111526358, 0.0839168909368869, 0.0838360794185269, 0.08382339497272225, 0.08380762557482596, 0.08373409518050882, 0.08369997471705401, 0.0836701557754693, 0.08365454784620645, 0.08364873760301617, 0.08339281978955942, 0.08293653648993406, 0.08253396036444281, 0.08250380339902749, 0.08239578379167757, 0.08235448908662925, 0.08228457491484158, 0.08206678333044787, 0.08186427804852411, 0.08184268883261803, 0.08178649920581767, 0.08162586711490372, 0.08141204766665439, 0.08140688225151924, 0.08134231465195843, 0.08123564829708399, 0.08106921905828526, 0.0809312499494728, 0.08088642008347291, 0.08068168641087826, 0.08065392631418686, 0.08039156018876815, 0.08029613239222287, 0.08028863986746733, 0.08002550262651109, 0.07999211294538608, 0.0798209126207813, 0.07972824947655997, 0.07910984981294494, 0.07879384376884405, 0.07844788510412358, 0.07842940163806224, 0.07787113666323466, 0.07772840886074628, 0.07764207465597583, 0.07733355435265105, 0.07719470890517081, 0.07714320460374302, 0.07708968946691935, 0.07658331447656959, 0.07604199826798164, 0.07583787268083945, 0.07583503892894228, 0.07571411587417985, 0.07552824659842666, 0.07506550702255199, 0.07490925795307782, 0.07489624931796038, 0.07482158161754832, 0.07479844610375459, 0.0747596445867916, 0.07459661589423805, 0.07452803352558551, 0.07424459841939275, 0.07369881849953053, 0.0734692969800067, 0.07323354428502599, 0.0731549325831239, 0.07304561542501097, 0.07302626259220857, 0.07299193729285397, 0.07273367081166338, 0.07239007054594716, 0.07235530131460687, 0.07211421124969887, 0.07210781202067945, 0.07203661097089407, 0.07196116333874415, 0.0718197301997737, 0.07179728351362547, 0.07135129442462373, 0.07108432852701031, 0.0710779798202988, 0.0709326712162312, 0.0708974082286312, 0.07079363438241475, 0.07076526907093006, 0.07073436785379278, 0.07058139360867043, 0.07054714056365782, 0.07053712159591811, 0.07053570117257128, 0.06991437412232894, 0.0697734377958043, 0.0697661005650306, 0.06933541601263617, 0.06929762865251073, 0.06903986574806781, 0.06894133901447974, 0.06872278693526368, 0.06862819263536843, 0.06861922620896774, 0.06850142526877885, 0.06817077799830744, 0.06815418304733141, 0.06810487357395796, 0.0680050324991661, 0.06799697525055848, 0.06792054868431066, 0.06788943662794343, 0.06770361491897166, 0.06748691464298996, 0.06742289052058703, 0.06724589590498696, 0.06724051069177242, 0.06718061339652774, 0.06704336245406135, 0.0669532969597762, 0.06694784691422191, 0.06690448142060244, 0.06681537765754413, 0.06667274557909596, 0.06661843736794816, 0.06624389008213181, 0.06617843151261817, 0.06616973037402843, 0.06599630662194031, 0.06584089742381483, 0.06571523935567944, 0.06552639862368537, 0.06533284200690728, 0.06533121016572156, 0.06456560435035241, 0.06451495764614595, 0.0644200498974809, 0.06434461930670281, 0.06348183903509698, 0.06347491796308509, 0.06315975681488499, 0.06305082040643598, 0.06295380293322643, 0.06290933013808088, 0.06280548506755773, 0.06277146125293631, 0.06266925079677693, 0.06265075206869539, 0.06252648750430406, 0.06246755755865342, 0.06233311746265563, 0.06229076106962654, 0.062250557409040744, 0.0621963169526511, 0.062063990491225074, 0.06205240890909449, 0.06194382156566292, 0.06176045498057014, 0.06167720826922317, 0.061482997431827814, 0.061421316060204484, 0.06099114959454795, 0.060973598529651764, 0.06073793466580127, 0.06059711344923996, 0.06055176249613885, 0.060515948567484504, 0.0604392708040232, 0.06037632273851905, 0.06024398737600336, 0.060182407160003726, 0.060079420556951105, 0.06002492543037472, 0.05999434290268333, 0.05996567841513358, 0.05982800580496076, 0.05971558670050372, 0.05945061375821359, 0.05921153229969024, 0.059159466606796225, 0.058893858344900005, 0.05871657884290409, 0.0586725442691183, 0.0586615166038911, 0.058445240424468636, 0.0584191104789948, 0.05807589055677515, 0.05789777679392139, 0.0578763263200253, 0.057832312197881326, 0.05775854222665426, 0.057110797255911276, 0.057055690876569524, 0.056938830847367075, 0.05673215617080448, 0.056642704421482386, 0.05645664128138952, 0.05642361834332062, 0.05632502931689301, 0.056242865181696806, 0.05602408207681146, 0.05602162751111819, 0.05601779656317009, 0.05600727830937254, 0.05600181307258791, 0.055971901403389666, 0.05551661248166887, 0.05549386808682753, 0.05533557874189055, 0.05521302671921758, 0.055095805351916334, 0.05505573214186679, 0.05501143666682253, 0.05495025613184671, 0.05434342700386932, 0.054262180262329034, 0.054251806646032665, 0.05412856019793852, 0.054020206388040164, 0.05376376424564315, 0.053622502029375206, 0.053323657189741164, 0.05331238116624004, 0.05330581108942172, 0.053229427434116405, 0.053028851576821405, 0.05301244253117102, 0.05301134235491831, 0.05280721377875174, 0.05280699050467083, 0.05255160737288314, 0.05244572885157503, 0.05244034347681835, 0.05206855609273668, 0.051832813990162756, 0.05169614757255549, 0.051395804492916905, 0.051392646754189406, 0.05139140664275476, 0.05137199682030257, 0.051148551159289825, 0.050771473922164446, 0.05064332379611622, 0.05064301966582828, 0.050611565190394545, 0.05055216608594668, 0.05049400733083809, 0.050458847066697045, 0.0502633434326043, 0.05017870523230948, 0.05016989509705139, 0.04999031263862009, 0.049724440436373626, 0.04971024875261489, 0.049708153780847336, 0.049497481310255644, 0.04913811288784995, 0.049086564048638405, 0.04908480359186997, 0.04903216539806615, 0.04899540509014402, 0.048963136591874255, 0.04883674855338136, 0.04879947915704232, 0.04875796145659991, 0.04864397073573545, 0.0484705529989882, 0.048410592788618804, 0.048071207427012326, 0.04796452882439391, 0.04794659578605098, 0.04786194734834189, 0.047751987962878564, 0.047718037610891134, 0.04765415167308273, 0.04764523500115998, 0.04752318931085973, 0.04748255588214181, 0.0473855385525257, 0.04737598088753189, 0.04736916210358902, 0.04729202386279169, 0.04707289304896194, 0.046965203668011504, 0.046727987466926385, 0.046460765824355515, 0.04642365500320873, 0.04640807117822677, 0.04638074703150233, 0.04620730878792412, 0.046141798106590526, 0.046101292992692944, 0.04605081593196521, 0.04594550940258718, 0.04594095373456405, 0.04583628857654782, 0.0457114781303743, 0.04565372221247635, 0.04538934554919879, 0.04530544287018343, 0.04529077867616449, 0.04492675817963686, 0.04487930638804673, 0.04486862845963607, 0.04472827939339917, 0.04466880287280544, 0.04438717472336056, 0.04404540136857401, 0.04359339038268267, 0.043554725678228774, 0.04310697234601911, 0.04309338241893823, 0.043054418444831745, 0.04300813997648899, 0.04296114420914956, 0.042828628102741934, 0.04282047967596945, 0.04270026930142675, 0.042542149867265504, 0.04231062984873357, 0.04203712603908259, 0.041838213690330146, 0.041832662410898426, 0.041787256455289225, 0.04151396778746802, 0.04141731257048681, 0.04134167835231566, 0.041315365687264044, 0.04113474512524326, 0.04082319651582434, 0.04081277033751037, 0.04042598526418419, 0.040040047981658056, 0.039961285710142944, 0.03989423994909651, 0.039877038509572374, 0.03971180281861807, 0.03947895669005025, 0.03926792081602924, 0.03924664827185397, 0.039198462620367296, 0.038978636841626634, 0.03896781475166235, 0.0389287737823273, 0.03877339796979971, 0.038622543953406425, 0.03840065281939683, 0.03830826363241389, 0.03799764322049437, 0.037994986412742134, 0.03798183433843231, 0.03781860873769054, 0.03766328344518955, 0.03756466797736412, 0.03742485116966585, 0.037393806684764136, 0.03734746393849902, 0.036734229374872855, 0.036357531373630916, 0.03616252683135266, 0.03600319817817257, 0.035796789060234945, 0.035604282018156255, 0.03543118615574063, 0.03541113002556861, 0.035378627774651845, 0.035120483212347224, 0.03486696257353167, 0.03486424397766513, 0.034783337938384395, 0.03469375295626722, 0.03445692705727199, 0.034245952179092515, 0.034063439471279974, 0.033990427540542115, 0.03396704673552726, 0.033843108502963744, 0.03365825770967727, 0.033596710203470756, 0.033443385779419854, 0.03324993614106756, 0.033228253127703666, 0.032846674152096286, 0.032752670275581305, 0.032636885200890475, 0.03238990007398432, 0.03231031118945321, 0.031930474839550194, 0.031910091491266314, 0.031887461220544935, 0.0318125189926563, 0.031518256216757995, 0.031462194182422534, 0.03127487886923103, 0.031097899535796447, 0.03065533734277229, 0.03052055221741326, 0.030167621514154717, 0.03009226976229213, 0.029991937756102975, 0.029720698191950376, 0.029543176990454546, 0.029175574611355084, 0.029132237788153867, 0.029094246655640872, 0.029077876660794352, 0.029055566809698403, 0.028959510168884, 0.028923771531032143, 0.02879646370128359, 0.028688617403996034, 0.028654061836813422, 0.02853971757039603, 0.028522860677993277, 0.02846332063587743, 0.028423839948090845, 0.028346415731528383, 0.028074467131449458, 0.02799803051581708, 0.027854125790926648, 0.027678916861955213, 0.027578649506723837, 0.02756550992156982, 0.02750176904622936, 0.027254352248166757, 0.02710722936504291, 0.027008919170202435, 0.02693725855845322, 0.026805891009805505, 0.02661324570026843, 0.026164759384884727, 0.0259583810826559, 0.025755882161928246, 0.025246129163166355, 0.025141626015788045, 0.024615524951922006, 0.023879034208364965, 0.023625159358159415, 0.02322013914125568, 0.02317427000709948, 0.02302378173693957, 0.02302088174003913, 0.021930494282300764, 0.021742430254713414, 0.02139097246626542, 0.021302141780608654, 0.021194072393827486, 0.021184639658476768, 0.02106350870261781, 0.020626839626547554, 0.019798880700724806, 0.019697175476300063, 0.01939779185591219, 0.01860053371917606, 0.018532943795555902, 0.018499025315273598, 0.017921687020243687, 0.017801137586667834, 0.017760723521508676, 0.01761826891862305, 0.017335091268513254, 0.016218572714948986, 0.015652741162055346, 0.015348577733932202, 0.014605836719839676, 0.014451393388536326, 0.012527616989622061, 0.01114745136017623, 0.010939720649350074, 0.010447041240436758, 0.01039310812453859, 0.010304901841140154], \"yaxis\": \"y\"}],\n",
              "                        {\"annotations\": [{\"showarrow\": false, \"text\": \"Correlation 0.02\", \"x\": -0.6221349305452366, \"y\": 0.3490133620953275}], \"autosize\": false, \"height\": 400, \"legend\": {\"tracegroupgap\": 0}, \"margin\": {\"t\": 60}, \"template\": {\"data\": {\"bar\": [{\"error_x\": {\"color\": \"#2a3f5f\"}, \"error_y\": {\"color\": \"#2a3f5f\"}, \"marker\": {\"line\": {\"color\": \"#E5ECF6\", \"width\": 0.5}}, \"type\": \"bar\"}], \"barpolar\": [{\"marker\": {\"line\": {\"color\": \"#E5ECF6\", \"width\": 0.5}}, \"type\": \"barpolar\"}], \"carpet\": [{\"aaxis\": {\"endlinecolor\": \"#2a3f5f\", \"gridcolor\": \"white\", \"linecolor\": \"white\", \"minorgridcolor\": \"white\", \"startlinecolor\": \"#2a3f5f\"}, \"baxis\": {\"endlinecolor\": \"#2a3f5f\", \"gridcolor\": \"white\", \"linecolor\": \"white\", \"minorgridcolor\": \"white\", \"startlinecolor\": \"#2a3f5f\"}, \"type\": \"carpet\"}], \"choropleth\": [{\"colorbar\": {\"outlinewidth\": 0, \"ticks\": \"\"}, \"type\": \"choropleth\"}], \"contour\": [{\"colorbar\": {\"outlinewidth\": 0, \"ticks\": \"\"}, \"colorscale\": [[0.0, \"#0d0887\"], [0.1111111111111111, \"#46039f\"], [0.2222222222222222, \"#7201a8\"], [0.3333333333333333, \"#9c179e\"], [0.4444444444444444, \"#bd3786\"], [0.5555555555555556, \"#d8576b\"], [0.6666666666666666, \"#ed7953\"], [0.7777777777777778, \"#fb9f3a\"], [0.8888888888888888, \"#fdca26\"], [1.0, \"#f0f921\"]], \"type\": \"contour\"}], \"contourcarpet\": [{\"colorbar\": {\"outlinewidth\": 0, \"ticks\": \"\"}, \"type\": \"contourcarpet\"}], \"heatmap\": [{\"colorbar\": {\"outlinewidth\": 0, \"ticks\": \"\"}, \"colorscale\": [[0.0, \"#0d0887\"], [0.1111111111111111, \"#46039f\"], [0.2222222222222222, \"#7201a8\"], [0.3333333333333333, \"#9c179e\"], [0.4444444444444444, \"#bd3786\"], [0.5555555555555556, \"#d8576b\"], [0.6666666666666666, \"#ed7953\"], [0.7777777777777778, \"#fb9f3a\"], [0.8888888888888888, \"#fdca26\"], [1.0, \"#f0f921\"]], \"type\": \"heatmap\"}], \"heatmapgl\": [{\"colorbar\": {\"outlinewidth\": 0, \"ticks\": \"\"}, \"colorscale\": [[0.0, \"#0d0887\"], [0.1111111111111111, \"#46039f\"], [0.2222222222222222, \"#7201a8\"], [0.3333333333333333, \"#9c179e\"], [0.4444444444444444, \"#bd3786\"], [0.5555555555555556, \"#d8576b\"], [0.6666666666666666, \"#ed7953\"], [0.7777777777777778, \"#fb9f3a\"], [0.8888888888888888, \"#fdca26\"], [1.0, \"#f0f921\"]], \"type\": \"heatmapgl\"}], \"histogram\": [{\"marker\": {\"colorbar\": {\"outlinewidth\": 0, \"ticks\": \"\"}}, \"type\": \"histogram\"}], \"histogram2d\": [{\"colorbar\": {\"outlinewidth\": 0, \"ticks\": \"\"}, \"colorscale\": [[0.0, \"#0d0887\"], [0.1111111111111111, \"#46039f\"], [0.2222222222222222, \"#7201a8\"], [0.3333333333333333, \"#9c179e\"], [0.4444444444444444, \"#bd3786\"], [0.5555555555555556, \"#d8576b\"], [0.6666666666666666, \"#ed7953\"], [0.7777777777777778, \"#fb9f3a\"], [0.8888888888888888, \"#fdca26\"], [1.0, \"#f0f921\"]], \"type\": \"histogram2d\"}], \"histogram2dcontour\": [{\"colorbar\": {\"outlinewidth\": 0, \"ticks\": \"\"}, \"colorscale\": [[0.0, \"#0d0887\"], [0.1111111111111111, \"#46039f\"], [0.2222222222222222, \"#7201a8\"], [0.3333333333333333, \"#9c179e\"], [0.4444444444444444, \"#bd3786\"], [0.5555555555555556, \"#d8576b\"], [0.6666666666666666, \"#ed7953\"], [0.7777777777777778, \"#fb9f3a\"], [0.8888888888888888, \"#fdca26\"], [1.0, \"#f0f921\"]], \"type\": \"histogram2dcontour\"}], \"mesh3d\": [{\"colorbar\": {\"outlinewidth\": 0, \"ticks\": \"\"}, \"type\": \"mesh3d\"}], \"parcoords\": [{\"line\": {\"colorbar\": {\"outlinewidth\": 0, \"ticks\": \"\"}}, \"type\": \"parcoords\"}], \"pie\": [{\"automargin\": true, \"type\": \"pie\"}], \"scatter\": [{\"marker\": {\"colorbar\": {\"outlinewidth\": 0, \"ticks\": \"\"}}, \"type\": \"scatter\"}], \"scatter3d\": [{\"line\": {\"colorbar\": {\"outlinewidth\": 0, \"ticks\": \"\"}}, \"marker\": {\"colorbar\": {\"outlinewidth\": 0, \"ticks\": \"\"}}, \"type\": \"scatter3d\"}], \"scattercarpet\": [{\"marker\": {\"colorbar\": {\"outlinewidth\": 0, \"ticks\": \"\"}}, \"type\": \"scattercarpet\"}], \"scattergeo\": [{\"marker\": {\"colorbar\": {\"outlinewidth\": 0, \"ticks\": \"\"}}, \"type\": \"scattergeo\"}], \"scattergl\": [{\"marker\": {\"colorbar\": {\"outlinewidth\": 0, \"ticks\": \"\"}}, \"type\": \"scattergl\"}], \"scattermapbox\": [{\"marker\": {\"colorbar\": {\"outlinewidth\": 0, \"ticks\": \"\"}}, \"type\": \"scattermapbox\"}], \"scatterpolar\": [{\"marker\": {\"colorbar\": {\"outlinewidth\": 0, \"ticks\": \"\"}}, \"type\": \"scatterpolar\"}], \"scatterpolargl\": [{\"marker\": {\"colorbar\": {\"outlinewidth\": 0, \"ticks\": \"\"}}, \"type\": \"scatterpolargl\"}], \"scatterternary\": [{\"marker\": {\"colorbar\": {\"outlinewidth\": 0, \"ticks\": \"\"}}, \"type\": \"scatterternary\"}], \"surface\": [{\"colorbar\": {\"outlinewidth\": 0, \"ticks\": \"\"}, \"colorscale\": [[0.0, \"#0d0887\"], [0.1111111111111111, \"#46039f\"], [0.2222222222222222, \"#7201a8\"], [0.3333333333333333, \"#9c179e\"], [0.4444444444444444, \"#bd3786\"], [0.5555555555555556, \"#d8576b\"], [0.6666666666666666, \"#ed7953\"], [0.7777777777777778, \"#fb9f3a\"], [0.8888888888888888, \"#fdca26\"], [1.0, \"#f0f921\"]], \"type\": \"surface\"}], \"table\": [{\"cells\": {\"fill\": {\"color\": \"#EBF0F8\"}, \"line\": {\"color\": \"white\"}}, \"header\": {\"fill\": {\"color\": \"#C8D4E3\"}, \"line\": {\"color\": \"white\"}}, \"type\": \"table\"}]}, \"layout\": {\"annotationdefaults\": {\"arrowcolor\": \"#2a3f5f\", \"arrowhead\": 0, \"arrowwidth\": 1}, \"coloraxis\": {\"colorbar\": {\"outlinewidth\": 0, \"ticks\": \"\"}}, \"colorscale\": {\"diverging\": [[0, \"#8e0152\"], [0.1, \"#c51b7d\"], [0.2, \"#de77ae\"], [0.3, \"#f1b6da\"], [0.4, \"#fde0ef\"], [0.5, \"#f7f7f7\"], [0.6, \"#e6f5d0\"], [0.7, \"#b8e186\"], [0.8, \"#7fbc41\"], [0.9, \"#4d9221\"], [1, \"#276419\"]], \"sequential\": [[0.0, \"#0d0887\"], [0.1111111111111111, \"#46039f\"], [0.2222222222222222, \"#7201a8\"], [0.3333333333333333, \"#9c179e\"], [0.4444444444444444, \"#bd3786\"], [0.5555555555555556, \"#d8576b\"], [0.6666666666666666, \"#ed7953\"], [0.7777777777777778, \"#fb9f3a\"], [0.8888888888888888, \"#fdca26\"], [1.0, \"#f0f921\"]], \"sequentialminus\": [[0.0, \"#0d0887\"], [0.1111111111111111, \"#46039f\"], [0.2222222222222222, \"#7201a8\"], [0.3333333333333333, \"#9c179e\"], [0.4444444444444444, \"#bd3786\"], [0.5555555555555556, \"#d8576b\"], [0.6666666666666666, \"#ed7953\"], [0.7777777777777778, \"#fb9f3a\"], [0.8888888888888888, \"#fdca26\"], [1.0, \"#f0f921\"]]}, \"colorway\": [\"#636efa\", \"#EF553B\", \"#00cc96\", \"#ab63fa\", \"#FFA15A\", \"#19d3f3\", \"#FF6692\", \"#B6E880\", \"#FF97FF\", \"#FECB52\"], \"font\": {\"color\": \"#2a3f5f\"}, \"geo\": {\"bgcolor\": \"white\", \"lakecolor\": \"white\", \"landcolor\": \"#E5ECF6\", \"showlakes\": true, \"showland\": true, \"subunitcolor\": \"white\"}, \"hoverlabel\": {\"align\": \"left\"}, \"hovermode\": \"closest\", \"mapbox\": {\"style\": \"light\"}, \"paper_bgcolor\": \"white\", \"plot_bgcolor\": \"#E5ECF6\", \"polar\": {\"angularaxis\": {\"gridcolor\": \"white\", \"linecolor\": \"white\", \"ticks\": \"\"}, \"bgcolor\": \"#E5ECF6\", \"radialaxis\": {\"gridcolor\": \"white\", \"linecolor\": \"white\", \"ticks\": \"\"}}, \"scene\": {\"xaxis\": {\"backgroundcolor\": \"#E5ECF6\", \"gridcolor\": \"white\", \"gridwidth\": 2, \"linecolor\": \"white\", \"showbackground\": true, \"ticks\": \"\", \"zerolinecolor\": \"white\"}, \"yaxis\": {\"backgroundcolor\": \"#E5ECF6\", \"gridcolor\": \"white\", \"gridwidth\": 2, \"linecolor\": \"white\", \"showbackground\": true, \"ticks\": \"\", \"zerolinecolor\": \"white\"}, \"zaxis\": {\"backgroundcolor\": \"#E5ECF6\", \"gridcolor\": \"white\", \"gridwidth\": 2, \"linecolor\": \"white\", \"showbackground\": true, \"ticks\": \"\", \"zerolinecolor\": \"white\"}}, \"shapedefaults\": {\"line\": {\"color\": \"#2a3f5f\"}}, \"ternary\": {\"aaxis\": {\"gridcolor\": \"white\", \"linecolor\": \"white\", \"ticks\": \"\"}, \"baxis\": {\"gridcolor\": \"white\", \"linecolor\": \"white\", \"ticks\": \"\"}, \"bgcolor\": \"#E5ECF6\", \"caxis\": {\"gridcolor\": \"white\", \"linecolor\": \"white\", \"ticks\": \"\"}}, \"title\": {\"x\": 0.05}, \"xaxis\": {\"automargin\": true, \"gridcolor\": \"white\", \"linecolor\": \"white\", \"ticks\": \"\", \"title\": {\"standoff\": 15}, \"zerolinecolor\": \"white\", \"zerolinewidth\": 2}, \"yaxis\": {\"automargin\": true, \"gridcolor\": \"white\", \"linecolor\": \"white\", \"ticks\": \"\", \"title\": {\"standoff\": 15}, \"zerolinecolor\": \"white\", \"zerolinewidth\": 2}}}, \"width\": 600, \"xaxis\": {\"anchor\": \"y\", \"domain\": [0.0, 1.0], \"title\": {\"text\": \"log fr\\u00e9q. relative\"}}, \"yaxis\": {\"anchor\": \"x\", \"domain\": [0.0, 1.0], \"title\": {\"text\": \"similarite\"}}},\n",
              "                        {\"responsive\": true}\n",
              "                    ).then(function(){\n",
              "                            \n",
              "var gd = document.getElementById('fa03d28f-555e-4957-b0cf-7417309326ad');\n",
              "var x = new MutationObserver(function (mutations, observer) {{\n",
              "        var display = window.getComputedStyle(gd).display;\n",
              "        if (!display || display === 'none') {{\n",
              "            console.log([gd, 'removed!']);\n",
              "            Plotly.purge(gd);\n",
              "            observer.disconnect();\n",
              "        }}\n",
              "}});\n",
              "\n",
              "// Listen for the removal of the full notebook cells\n",
              "var notebookContainer = gd.closest('#notebook-container');\n",
              "if (notebookContainer) {{\n",
              "    x.observe(notebookContainer, {childList: true});\n",
              "}}\n",
              "\n",
              "// Listen for the clearing of the current output cell\n",
              "var outputEl = gd.closest('.output');\n",
              "if (outputEl) {{\n",
              "    x.observe(outputEl, {childList: true});\n",
              "}}\n",
              "\n",
              "                        })\n",
              "                };\n",
              "                \n",
              "            </script>\n",
              "        </div>\n",
              "</body>\n",
              "</html>"
            ]
          },
          "metadata": {
            "tags": []
          }
        }
      ]
    },
    {
      "cell_type": "markdown",
      "metadata": {
        "id": "nz0Ep9LsKBU0"
      },
      "source": [
        "##### Essayer avec différents paramètres :\n",
        "##### Term frequency weighing:\n",
        "b - binary, t or n - raw, a - augmented, l - logarithm, d - double logarithm, L - log average.\n",
        "##### Document frequency weighting:\n",
        "x or n - none, f - idf, t - zero-corrected idf, p - probabilistic idf.\n",
        "##### Document normalization:\n",
        "x or n - none, c - cosine, u - pivoted unique, b - pivoted character length.<p>\n",
        "Par exemple 'afx', 'lfx', 'ltc'.<p>\n",
        "Présence ou non (one-hot encoding), se traduit par 'bxx' (ou 'bnn')"
      ]
    },
    {
      "cell_type": "code",
      "metadata": {
        "id": "Tj8QG0DjKBU0"
      },
      "source": [
        "# 6.k\n",
        "# mettre cela en fonction\n",
        "def calcule_similarites_tfidf(dico_termes, mat_doc_tokens, param_tfidf,\n",
        "                              taille_corpus, taille_dico, df_videos):\n",
        "\n",
        "    # on utilise directement la fonction tf-idf de gensim\n",
        "    # il aurait été possible de créer nous même une telle fonction...\n",
        "    tfidf = gensim.models.TfidfModel(dictionary=dico_termes, smartirs=param_tfidf)\n",
        "    mat_doc_termes_tfidf = [tfidf[dico_termes.doc2bow(liste_tokens)] \\\n",
        "                                  for liste_tokens in mat_doc_tokens]\n",
        "    \n",
        "    # calcul de la similarité\n",
        "    l_similarites_tfidf = calcule_similarites_avec_ref(mat_doc_termes_tfidf,\\\n",
        "                            taille_corpus, taille_dico, df_videos)\n",
        "    \n",
        "    return l_similarites_tfidf"
      ],
      "execution_count": null,
      "outputs": []
    },
    {
      "cell_type": "code",
      "metadata": {
        "id": "d7TBDni-KBU0"
      },
      "source": [
        "# 6.l\n",
        "# on crées une grille à partir de :\n",
        "# fréquences de termes : n, a, l, L\n",
        "# fréquence inverse de document : f, t, p\n",
        "# on ne regarde que la seule similarité cosinus,\n",
        "# équivalente (pour nous) à pas de norme puisqu'on calcule ensuite la distance cosinus\n",
        "liste_tf = ['n', 'a', 'l', 'L']\n",
        "liste_idf = ['f', 't', 'p']\n",
        "liste_dn = ['c']"
      ],
      "execution_count": null,
      "outputs": []
    },
    {
      "cell_type": "markdown",
      "metadata": {
        "id": "w5kL3gTrKBU1"
      },
      "source": [
        "##### Prend un certain temps (10 minutes)"
      ]
    },
    {
      "cell_type": "code",
      "metadata": {
        "id": "Vn9ZlEpGKBU1",
        "outputId": "6c164bdd-4359-4024-e504-fc5c80a70467"
      },
      "source": [
        "# 6.m\n",
        "dico_l_similarites_tfidf = {}\n",
        "\n",
        "# boucler sur la grille\n",
        "for tf in liste_tf:\n",
        "    for idf in liste_idf:\n",
        "        for dn in liste_dn:\n",
        "            param_tfidf = tf + idf + dn\n",
        "            print(param_tfidf)\n",
        "            \n",
        "            dico_l_similarites_tfidf[param_tfidf] = \\\n",
        "            calcule_similarites_tfidf(dico_termes_ss_titres, \\\n",
        "                                      mat_doc_tokens_ss_titres, \\\n",
        "                                      param_tfidf, \\\n",
        "                                      taille_corpus, taille_dico, \\\n",
        "                                      df_videos)"
      ],
      "execution_count": null,
      "outputs": [
        {
          "output_type": "stream",
          "text": [
            "nfc\n",
            "ntc\n",
            "npc\n",
            "afc\n",
            "atc\n",
            "apc\n",
            "lfc\n",
            "ltc\n",
            "lpc\n",
            "Lfc\n",
            "Ltc\n",
            "Lpc\n"
          ],
          "name": "stdout"
        }
      ]
    },
    {
      "cell_type": "code",
      "metadata": {
        "id": "0EweqEKqKBU1"
      },
      "source": [
        "# 6.n\n",
        "# fonction renvoyant la liste de toutes les vidéos (tous les index)\n",
        "# autant ou plus similaires à la vidéo de référence\n",
        "# qu'une proportion prise sur l'ensemble des vidéos \n",
        "# contenant explicitement les termes clés \n",
        "\n",
        "# on renvoit une liste de 0 ou de 1 selon les index vidéos\n",
        "def liste_videos_au_top_explicite(l_similarites_triees, \n",
        "                                  proportion_termes_cle_explicite,\n",
        "                                  taille_corpus,\n",
        "                                  taille_corpus_avec_termes_cle):\n",
        "    l_videos_top = [0] * (taille_corpus-1)\n",
        "    idx_termes_cle_explicite = 0\n",
        "    for (idx_video, presence_termes_cle, freq_relative_termes_cle, similarite) \\\n",
        "        in l_similarites_triees:\n",
        "        if presence_termes_cle >= 1:\n",
        "            idx_termes_cle_explicite += 1\n",
        "        l_videos_top[idx_video] = 1\n",
        "        if idx_termes_cle_explicite > \\\n",
        "           proportion_termes_cle_explicite * taille_corpus_avec_termes_cle:\n",
        "            return l_videos_top"
      ],
      "execution_count": null,
      "outputs": []
    },
    {
      "cell_type": "code",
      "metadata": {
        "id": "EPEvJdooKBU1",
        "outputId": "e17aee03-1ecd-40d7-a535-96749ef96e9e"
      },
      "source": [
        "# 6.o\n",
        "# comme critères d'évaluation pour retenir la meilleure combinaison, on va :\n",
        "# - considérer la corrélation entre les similarités et \n",
        "# les fréquences relatives des termes clés\n",
        "# - considérer le profil de proportions de vidéos avec mots clés et sans mots clés\n",
        "# dans les n % vidéos les plus similaires avec la vidéo de référence\n",
        "proportions_termes_cle_explicite = [0.50, 0.70, 0.80, 0.90]\n",
        "\n",
        "# boucler sur les paramétrages tf-idf\n",
        "for tf_idf_dn in dico_l_similarites_tfidf:\n",
        "    \n",
        "    print(tf_idf_dn, \" :\")\n",
        "    l_similarites_triees = dico_l_similarites_tfidf[tf_idf_dn]\n",
        "    \n",
        "    # calcul des corrélations\n",
        "    similarite = [similarite for (idx_video, presence_termes_cle, freq_relative_termes_cle, similarite) \\\n",
        "                  in l_similarites_triees if presence_termes_cle >= 1]\n",
        "    log_freq_relative = [math.log(freq_relative_termes_cle)\\\n",
        "                for (idx_video, presence_termes_cle, freq_relative_termes_cle, similarite) \\\n",
        "                in l_similarites_triees if presence_termes_cle >= 1]\n",
        "    \n",
        "    corr_similarite_freq_relative = pearsonr(log_freq_relative, similarite)\n",
        "    print(\"corrélation : %.3f\" % (corr_similarite_freq_relative[0]))\n",
        "    \n",
        "    # calcul des \n",
        "    for proportion_termes_cle_explicite in proportions_termes_cle_explicite:\n",
        "        liste_videos_top = liste_videos_au_top_explicite(l_similarites_triees, \n",
        "                                                         proportion_termes_cle_explicite,\n",
        "                                                         taille_corpus,\n",
        "                                                         taille_corpus_avec_termes_cle)\n",
        "        nb_videos_top = sum(liste_videos_top)\n",
        "        print(\"pour obtenir %d %% des vidéos explicitement avec termes clé\" % \\\n",
        "              (100 * proportion_termes_cle_explicite))\n",
        "        print(\"\\til faut en tout %2.0f %% des vidéos, dont %2.0f %% avec termes clé\" % \\\n",
        "              (100 * nb_videos_top / (taille_corpus-1),\\\n",
        "               100 * proportion_termes_cle_explicite * taille_corpus_avec_termes_cle / nb_videos_top))\n",
        "    \n",
        "    print(\"---------------------------\")"
      ],
      "execution_count": null,
      "outputs": [
        {
          "output_type": "stream",
          "text": [
            "nfc  :\n",
            "corrélation : 0.389\n",
            "pour obtenir 50 % des vidéos explicitement avec termes clé\n",
            "\til faut en tout  7 % des vidéos, dont 95 % avec termes clé\n",
            "pour obtenir 70 % des vidéos explicitement avec termes clé\n",
            "\til faut en tout 11 % des vidéos, dont 85 % avec termes clé\n",
            "pour obtenir 80 % des vidéos explicitement avec termes clé\n",
            "\til faut en tout 14 % des vidéos, dont 76 % avec termes clé\n",
            "pour obtenir 90 % des vidéos explicitement avec termes clé\n",
            "\til faut en tout 18 % des vidéos, dont 64 % avec termes clé\n",
            "---------------------------\n",
            "ntc  :\n",
            "corrélation : 0.389\n",
            "pour obtenir 50 % des vidéos explicitement avec termes clé\n",
            "\til faut en tout  7 % des vidéos, dont 95 % avec termes clé\n",
            "pour obtenir 70 % des vidéos explicitement avec termes clé\n",
            "\til faut en tout 11 % des vidéos, dont 85 % avec termes clé\n",
            "pour obtenir 80 % des vidéos explicitement avec termes clé\n",
            "\til faut en tout 14 % des vidéos, dont 76 % avec termes clé\n",
            "pour obtenir 90 % des vidéos explicitement avec termes clé\n",
            "\til faut en tout 18 % des vidéos, dont 64 % avec termes clé\n",
            "---------------------------\n",
            "npc  :\n",
            "corrélation : 0.412\n",
            "pour obtenir 50 % des vidéos explicitement avec termes clé\n",
            "\til faut en tout  7 % des vidéos, dont 95 % avec termes clé\n",
            "pour obtenir 70 % des vidéos explicitement avec termes clé\n",
            "\til faut en tout 10 % des vidéos, dont 88 % avec termes clé\n",
            "pour obtenir 80 % des vidéos explicitement avec termes clé\n",
            "\til faut en tout 13 % des vidéos, dont 77 % avec termes clé\n",
            "pour obtenir 90 % des vidéos explicitement avec termes clé\n",
            "\til faut en tout 18 % des vidéos, dont 65 % avec termes clé\n",
            "---------------------------\n",
            "afc  :\n",
            "corrélation : -0.295\n",
            "pour obtenir 50 % des vidéos explicitement avec termes clé\n",
            "\til faut en tout 12 % des vidéos, dont 55 % avec termes clé\n",
            "pour obtenir 70 % des vidéos explicitement avec termes clé\n",
            "\til faut en tout 21 % des vidéos, dont 43 % avec termes clé\n",
            "pour obtenir 80 % des vidéos explicitement avec termes clé\n",
            "\til faut en tout 29 % des vidéos, dont 36 % avec termes clé\n",
            "pour obtenir 90 % des vidéos explicitement avec termes clé\n",
            "\til faut en tout 41 % des vidéos, dont 28 % avec termes clé\n",
            "---------------------------\n",
            "atc  :\n",
            "corrélation : -0.295\n",
            "pour obtenir 50 % des vidéos explicitement avec termes clé\n",
            "\til faut en tout 12 % des vidéos, dont 55 % avec termes clé\n",
            "pour obtenir 70 % des vidéos explicitement avec termes clé\n",
            "\til faut en tout 21 % des vidéos, dont 43 % avec termes clé\n",
            "pour obtenir 80 % des vidéos explicitement avec termes clé\n",
            "\til faut en tout 29 % des vidéos, dont 36 % avec termes clé\n",
            "pour obtenir 90 % des vidéos explicitement avec termes clé\n",
            "\til faut en tout 41 % des vidéos, dont 28 % avec termes clé\n",
            "---------------------------\n",
            "apc  :\n",
            "corrélation : -0.289\n",
            "pour obtenir 50 % des vidéos explicitement avec termes clé\n",
            "\til faut en tout 12 % des vidéos, dont 54 % avec termes clé\n",
            "pour obtenir 70 % des vidéos explicitement avec termes clé\n",
            "\til faut en tout 21 % des vidéos, dont 43 % avec termes clé\n",
            "pour obtenir 80 % des vidéos explicitement avec termes clé\n",
            "\til faut en tout 29 % des vidéos, dont 36 % avec termes clé\n",
            "pour obtenir 90 % des vidéos explicitement avec termes clé\n",
            "\til faut en tout 42 % des vidéos, dont 28 % avec termes clé\n",
            "---------------------------\n",
            "lfc  :\n",
            "corrélation : -0.114\n",
            "pour obtenir 50 % des vidéos explicitement avec termes clé\n",
            "\til faut en tout  9 % des vidéos, dont 74 % avec termes clé\n",
            "pour obtenir 70 % des vidéos explicitement avec termes clé\n",
            "\til faut en tout 16 % des vidéos, dont 57 % avec termes clé\n",
            "pour obtenir 80 % des vidéos explicitement avec termes clé\n",
            "\til faut en tout 22 % des vidéos, dont 47 % avec termes clé\n",
            "pour obtenir 90 % des vidéos explicitement avec termes clé\n",
            "\til faut en tout 31 % des vidéos, dont 37 % avec termes clé\n",
            "---------------------------\n",
            "ltc  :\n",
            "corrélation : -0.114\n",
            "pour obtenir 50 % des vidéos explicitement avec termes clé\n",
            "\til faut en tout  9 % des vidéos, dont 74 % avec termes clé\n",
            "pour obtenir 70 % des vidéos explicitement avec termes clé\n",
            "\til faut en tout 16 % des vidéos, dont 57 % avec termes clé\n",
            "pour obtenir 80 % des vidéos explicitement avec termes clé\n",
            "\til faut en tout 22 % des vidéos, dont 47 % avec termes clé\n",
            "pour obtenir 90 % des vidéos explicitement avec termes clé\n",
            "\til faut en tout 31 % des vidéos, dont 37 % avec termes clé\n",
            "---------------------------\n",
            "lpc  :\n",
            "corrélation : -0.089\n",
            "pour obtenir 50 % des vidéos explicitement avec termes clé\n",
            "\til faut en tout  9 % des vidéos, dont 75 % avec termes clé\n",
            "pour obtenir 70 % des vidéos explicitement avec termes clé\n",
            "\til faut en tout 16 % des vidéos, dont 57 % avec termes clé\n",
            "pour obtenir 80 % des vidéos explicitement avec termes clé\n",
            "\til faut en tout 22 % des vidéos, dont 48 % avec termes clé\n",
            "pour obtenir 90 % des vidéos explicitement avec termes clé\n",
            "\til faut en tout 31 % des vidéos, dont 38 % avec termes clé\n",
            "---------------------------\n",
            "Lfc  :\n",
            "corrélation : -0.114\n",
            "pour obtenir 50 % des vidéos explicitement avec termes clé\n",
            "\til faut en tout  9 % des vidéos, dont 74 % avec termes clé\n",
            "pour obtenir 70 % des vidéos explicitement avec termes clé\n",
            "\til faut en tout 16 % des vidéos, dont 57 % avec termes clé\n",
            "pour obtenir 80 % des vidéos explicitement avec termes clé\n",
            "\til faut en tout 22 % des vidéos, dont 47 % avec termes clé\n",
            "pour obtenir 90 % des vidéos explicitement avec termes clé\n",
            "\til faut en tout 31 % des vidéos, dont 37 % avec termes clé\n",
            "---------------------------\n",
            "Ltc  :\n",
            "corrélation : -0.114\n",
            "pour obtenir 50 % des vidéos explicitement avec termes clé\n",
            "\til faut en tout  9 % des vidéos, dont 74 % avec termes clé\n",
            "pour obtenir 70 % des vidéos explicitement avec termes clé\n",
            "\til faut en tout 16 % des vidéos, dont 57 % avec termes clé\n",
            "pour obtenir 80 % des vidéos explicitement avec termes clé\n",
            "\til faut en tout 22 % des vidéos, dont 47 % avec termes clé\n",
            "pour obtenir 90 % des vidéos explicitement avec termes clé\n",
            "\til faut en tout 31 % des vidéos, dont 37 % avec termes clé\n",
            "---------------------------\n",
            "Lpc  :\n",
            "corrélation : -0.089\n",
            "pour obtenir 50 % des vidéos explicitement avec termes clé\n",
            "\til faut en tout  9 % des vidéos, dont 75 % avec termes clé\n",
            "pour obtenir 70 % des vidéos explicitement avec termes clé\n",
            "\til faut en tout 16 % des vidéos, dont 57 % avec termes clé\n",
            "pour obtenir 80 % des vidéos explicitement avec termes clé\n",
            "\til faut en tout 22 % des vidéos, dont 48 % avec termes clé\n",
            "pour obtenir 90 % des vidéos explicitement avec termes clé\n",
            "\til faut en tout 31 % des vidéos, dont 38 % avec termes clé\n",
            "---------------------------\n"
          ],
          "name": "stdout"
        }
      ]
    },
    {
      "cell_type": "markdown",
      "metadata": {
        "id": "Kn9-mEP6KBU1"
      },
      "source": [
        "#### Manifestement, le meilleur choix est celui des paramètres 'npc'"
      ]
    },
    {
      "cell_type": "markdown",
      "metadata": {
        "id": "MR2yss0HKBU1"
      },
      "source": [
        "#### Sélection des vidéos les plus similaires\n",
        "Nous prenons l'union de :<p>\n",
        "- des n1 % de l'ensemble des vidéos les mieux classées<p>\n",
        "- des n2 % de l'ensemble des vidéos explicitement avec termes clé<p>\n",
        "n1 et n2 se voient d'après les profils affichés plus haut<p>\n",
        "Par exemple dans l'exemple gilet jaune, on prend les 10 % des vidéos les mieux classées, à compléter, par les vidéos explicitement gilet jaune nécessaires pour arriver à 80 % de couverure\n"
      ]
    },
    {
      "cell_type": "code",
      "metadata": {
        "id": "rIog1yUhKBU2"
      },
      "source": [
        "# 7.a\n",
        "# fonction renvoyant la liste de toutes les vidéos (tous les index)\n",
        "# autant ou plus similaires à la vidéo de référence\n",
        "# qu'une proportion prise sur l'ensemble des vidéos \n",
        "# ou bien dans le top pourcentage des vidéos contenant les mots clés\n",
        "\n",
        "# typiquement proportion_top_similarite est un petit nombre (10 %)\n",
        "# proportion_termes_cle_explicite un grand nombre (80 %)\n",
        "\n",
        "# on renvoit une liste de 0 ou de 1 selon les index vidéos\n",
        "def selectionne_top_videos(l_similarites_triees,\n",
        "                           proportion_top_similarite,\n",
        "                           proportion_termes_cle_explicite,\n",
        "                           taille_corpus,\n",
        "                           taille_corpus_avec_termes_cle):\n",
        "    \n",
        "    l_videos_top = [0] * (taille_corpus-1)\n",
        "    idx_termes_cle_explicite = 0\n",
        "    top_similarite_atteint = False\n",
        "    termes_cle_explicite_atteint = False\n",
        "    for (idx_video, presence_termes_cle, freq_relative_termes_cle, similarite) \\\n",
        "        in l_similarites_triees:\n",
        "        \n",
        "        # on est en présence d'une vidéo avec les termes clés\n",
        "        if presence_termes_cle >= 1:\n",
        "            idx_termes_cle_explicite += 1\n",
        "        \n",
        "        # on a pris les vidéos les plus similaires qu'on voulait\n",
        "        if idx_video > proportion_top_similarite * (taille_corpus-1):\n",
        "            top_similarite_atteint = True\n",
        "        # on a pris les vidéos abec termes clé qu'on voulait\n",
        "        if idx_termes_cle_explicite > proportion_termes_cle_explicite * taille_corpus_avec_termes_cle:\n",
        "            termes_cle_explicite_atteint = True\n",
        "        \n",
        "        # toper les vidéos qu'on veut conserver\n",
        "        if presence_termes_cle >= 1 and termes_cle_explicite_atteint == False:\n",
        "            l_videos_top[idx_video] = 1\n",
        "        if top_similarite_atteint == False:\n",
        "            l_videos_top[idx_video] = 1\n",
        "        \n",
        "    return l_videos_top\n",
        "    "
      ],
      "execution_count": null,
      "outputs": []
    },
    {
      "cell_type": "markdown",
      "metadata": {
        "id": "9lpzfk1zKBU2"
      },
      "source": [
        "#### CHANGER LES VALEURS DE PARAMETRE SELON BESOINS"
      ]
    },
    {
      "cell_type": "code",
      "metadata": {
        "id": "e6Rd31K4KBU2"
      },
      "source": [
        "# 7.b\n",
        "# sélection avec les paramètres vus d'après l'exécution précédente\n",
        "proportion_top_similarite = 0.10\n",
        "proportion_termes_cle_explicite = 0.80"
      ],
      "execution_count": null,
      "outputs": []
    },
    {
      "cell_type": "code",
      "metadata": {
        "id": "H-aW1KePKBU2",
        "outputId": "f4a40c8f-17bb-4852-cc37-54fc95e9a48f"
      },
      "source": [
        "# 7.c\n",
        "l_similarites_triees = dico_l_similarites_tfidf['npc']\n",
        "liste_videos_top = selectionne_top_videos(l_similarites_triees, \n",
        "                                          proportion_top_similarite,\n",
        "                                          proportion_termes_cle_explicite,\n",
        "                                          taille_corpus,\n",
        "                                          taille_corpus_avec_termes_cle)\n",
        "nb_videos_top = sum(liste_videos_top)\n",
        "print(nb_videos_top)"
      ],
      "execution_count": null,
      "outputs": [
        {
          "output_type": "stream",
          "text": [
            "560\n"
          ],
          "name": "stdout"
        }
      ]
    },
    {
      "cell_type": "markdown",
      "metadata": {
        "id": "UrbpEaIlKBU2"
      },
      "source": [
        "#### Ecriture du fichier thématique"
      ]
    },
    {
      "cell_type": "markdown",
      "metadata": {
        "id": "QST68dUwKBU2"
      },
      "source": [
        "#### A CHANGER OU NON SELON LE THEME COURANT"
      ]
    },
    {
      "cell_type": "code",
      "metadata": {
        "id": "OF04V7vYKBU2"
      },
      "source": [
        "# 7.d\n",
        "CSV_ECHANTILLON_THEMATIQUE = CSV_ECHANTILLON_THEMATIQUE_GJ"
      ],
      "execution_count": null,
      "outputs": []
    },
    {
      "cell_type": "code",
      "metadata": {
        "id": "m3CAaKR7KBU3",
        "outputId": "99c78c9c-1b4d-4c9b-ab52-5e3118430c1f"
      },
      "source": [
        "# 7.e\n",
        "# à partir des index sélectionnés (mis à 1 dans la liste l_videos_top)\n",
        "# créer le dataframe des tops vidéos\n",
        "df_videos['est_top'] = liste_videos_top\n",
        "df_top_videos = df_videos.loc[df_videos['est_top'] == 1]\n",
        "print(len(df_top_videos))"
      ],
      "execution_count": null,
      "outputs": [
        {
          "output_type": "stream",
          "text": [
            "560\n"
          ],
          "name": "stdout"
        }
      ]
    },
    {
      "cell_type": "code",
      "metadata": {
        "id": "iM_pE9y6KBU3"
      },
      "source": [
        "# 7.f\n",
        "df_top_videos.to_csv(CSV_ECHANTILLON_THEMATIQUE, sep=',', encoding='utf-8', header=True,\n",
        "                     index=False, quoting=csv.QUOTE_ALL)"
      ],
      "execution_count": null,
      "outputs": []
    }
  ]
}